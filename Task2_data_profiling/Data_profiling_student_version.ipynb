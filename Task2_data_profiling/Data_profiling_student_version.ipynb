{
 "cells": [
  {
   "cell_type": "markdown",
   "metadata": {},
   "source": [
    "# Processing Big Data - Data profiling\n",
    "\n",
    "© Explore Data Science Academy\n",
    "\n",
    "## Honour Code\n",
    "I {**NELSON**, **MWEMBE**}, confirm - by submitting this document - that the solutions in this notebook are a result of my own work and that I abide by the [EDSA honour code](https://drive.google.com/file/d/1QDCjGZJ8-FmJE3bZdIQNwnJyQKPhHZBn/view?usp=sharing).\n",
    "    Non-compliance with the honour code constitutes a material breach of contract.\n",
    "\n",
    "## Context\n",
    "\n",
    "Having completed the first step - data ingestion, the data now needs to be thoroughly prepared so that it is readable, reliable and robust. As the Data Engineer in the team, this will be your responsibility. The Data Scientists are looking to you to clean this data so that model development and deployment become seamless when the data is used in a production environment. Having completed your Data Engineering course recently, your manager Gnissecorp Atadgid, asks you to create data summaries and perform checks using the six dimensions of data quality.\n",
    "\n",
    "<div align=\"center\" style=\"width: 600px; font-size: 80%; text-align: center; margin: 0 auto\">\n",
    "<img src=\"https://github.com/Explore-AI/Pictures/raw/master/data_engineering/transform/predict/DataQuality.jpg\"\n",
    "     alt=\"Data Quality\"\n",
    "     style=\"float: center; padding-bottom=0.5em\"\n",
    "     width=100%/>\n",
    "     <p><em>Figure 1. Six dimensions of data quality</em></p>\n",
    "</div>"
   ]
  },
  {
   "cell_type": "markdown",
   "metadata": {},
   "source": [
    "## Import libraries\n",
    "Below we import the libraries required to complete this section of the predict."
   ]
  },
  {
   "cell_type": "code",
   "execution_count": 1,
   "metadata": {},
   "outputs": [],
   "source": [
    "import pandas as pd\n",
    "import numpy as np\n",
    "import matplotlib.pyplot as plt\n",
    "\n",
    "from pyspark import SparkContext\n",
    "from pyspark.sql import SparkSession\n",
    "from pyspark.sql import functions as F\n",
    "from pyspark.sql.types import *\n",
    "from pyspark.sql.functions import stddev_samp, avg, col\n",
    "from pyspark.sql.functions import col\n",
    "from pyspark.sql.functions import count\n",
    "from pyspark.sql.functions import row_number\n",
    "from pyspark.sql.window import Window\n",
    "from pyspark.sql.functions import desc\n",
    "from pyspark.sql.functions import when, avg\n",
    "from pyspark.sql.functions import year, month\n",
    "from pyspark.sql.functions import to_date\n",
    "from pyspark.sql.types import DateType, DoubleType, IntegerType"
   ]
  },
  {
   "cell_type": "markdown",
   "metadata": {},
   "source": [
    "Remember that we need a `SparkContext` and `SparkSession` to interface with Spark.\n",
    "We will mostly be using the `SparkContext` to interact with RDDs \n",
    "and the `SparkSession` to interface with Python objects.\n",
    "\n",
    "> ℹ️ **Instructions** ℹ️\n",
    ">\n",
    ">Initialise a new **Spark Context** and **Session** that you will use to interface with Spark."
   ]
  },
  {
   "cell_type": "code",
   "execution_count": 2,
   "metadata": {},
   "outputs": [],
   "source": [
    "#TODO: Write your code here.\n",
    "sc = SparkContext.getOrCreate()\n",
    "spark = SparkSession(sc)"
   ]
  },
  {
   "cell_type": "markdown",
   "metadata": {},
   "source": [
    "## Parquet files\n",
    "In the previous section of the predict, you generated parquet files to your local directory. You will be making use of these files to continue with this section of the predict. Please make sure that your parquet files are specifically for the year **1962**. Any other year used outside of **1962** will produce incorrect answers and have a negative impact on your overall predict mark.\n",
    "\n",
    "> ℹ️ **Instructions** ℹ️\n",
    ">\n",
    "> Read the parquet files stored in your directory for the year **1962** into a Spark DataFrame."
   ]
  },
  {
   "cell_type": "code",
   "execution_count": 3,
   "metadata": {},
   "outputs": [],
   "source": [
    "#TODO: Write your code here\n",
    "df = spark.read.parquet(\"C:/Users/nmwem/Downloads/Compressed/processing-big-data-predict-main/Task1_data_ingestion/first_output\")"
   ]
  },
  {
   "cell_type": "code",
   "execution_count": 4,
   "metadata": {},
   "outputs": [
    {
     "name": "stdout",
     "output_type": "stream",
     "text": [
      "root\n",
      " |-- date: timestamp (nullable = true)\n",
      " |-- open: float (nullable = true)\n",
      " |-- high: float (nullable = true)\n",
      " |-- low: float (nullable = true)\n",
      " |-- close: float (nullable = true)\n",
      " |-- adj_close: float (nullable = true)\n",
      " |-- volume: float (nullable = true)\n",
      " |-- stock: string (nullable = true)\n",
      "\n"
     ]
    }
   ],
   "source": [
    "df.printSchema()"
   ]
  },
  {
   "cell_type": "markdown",
   "metadata": {},
   "source": [
    "## Metadata \n",
    "\n",
    "Metadata is data containing additional information about the data itself. In the cloud storage, there is a metadata file called [`symbols_valid_meta.csv`](https://processing-big-data-predict-stocks-data.s3.eu-west-1.amazonaws.com/symbols_valid_meta.csv) that is collocated with the stock market data. You will need to download this to use when performing your data quality checks.\n",
    "\n",
    "> ℹ️ **Instructions** ℹ️\n",
    ">\n",
    "> Download the metadata from the S3 bucket and read it into a Spark DataFrame."
   ]
  },
  {
   "cell_type": "code",
   "execution_count": 5,
   "metadata": {},
   "outputs": [
    {
     "name": "stdout",
     "output_type": "stream",
     "text": [
      "+-------------+------+--------------------+----------------+---------------+---+--------------+----------+----------------+----------+-------------+----------+\n",
      "|Nasdaq Traded|Symbol|       Security Name|Listing Exchange|Market Category|ETF|Round Lot Size|Test Issue|Financial Status|CQS Symbol|NASDAQ Symbol|NextShares|\n",
      "+-------------+------+--------------------+----------------+---------------+---+--------------+----------+----------------+----------+-------------+----------+\n",
      "|            Y|     A|Agilent Technolog...|               N|               |  N|         100.0|         N|            null|         A|            A|         N|\n",
      "|            Y|    AA|Alcoa Corporation...|               N|               |  N|         100.0|         N|            null|        AA|           AA|         N|\n",
      "|            Y|  AAAU|Perth Mint Physic...|               P|               |  Y|         100.0|         N|            null|      AAAU|         AAAU|         N|\n",
      "|            Y|  AACG|ATA Creativity Gl...|               Q|              G|  N|         100.0|         N|               N|      null|         AACG|         N|\n",
      "|            Y|  AADR|AdvisorShares Dor...|               P|               |  Y|         100.0|         N|            null|      AADR|         AADR|         N|\n",
      "|            Y|   AAL|American Airlines...|               Q|              Q|  N|         100.0|         N|               N|      null|          AAL|         N|\n",
      "|            Y|  AAMC|Altisource Asset ...|               A|               |  N|         100.0|         N|            null|      AAMC|         AAMC|         N|\n",
      "|            Y|  AAME|Atlantic American...|               Q|              G|  N|         100.0|         N|               N|      null|         AAME|         N|\n",
      "|            Y|   AAN|Aaron's, Inc. Com...|               N|               |  N|         100.0|         N|            null|       AAN|          AAN|         N|\n",
      "|            Y|  AAOI|Applied Optoelect...|               Q|              G|  N|         100.0|         N|               N|      null|         AAOI|         N|\n",
      "|            Y|  AAON|AAON, Inc. - Comm...|               Q|              Q|  N|         100.0|         N|               N|      null|         AAON|         N|\n",
      "|            Y|   AAP|Advance Auto Part...|               N|               |  N|         100.0|         N|            null|       AAP|          AAP|         N|\n",
      "|            Y|  AAPL|Apple Inc. - Comm...|               Q|              Q|  N|         100.0|         N|               N|      null|         AAPL|         N|\n",
      "|            Y|   AAT|American Assets T...|               N|               |  N|         100.0|         N|            null|       AAT|          AAT|         N|\n",
      "|            Y|   AAU|Almaden Minerals,...|               A|               |  N|         100.0|         N|            null|       AAU|          AAU|         N|\n",
      "|            Y|  AAWW|Atlas Air Worldwi...|               Q|              Q|  N|         100.0|         N|               N|      null|         AAWW|         N|\n",
      "|            Y|  AAXJ|iShares MSCI All ...|               Q|              G|  Y|         100.0|         N|               N|      null|         AAXJ|         N|\n",
      "|            Y|  AAXN|Axon Enterprise, ...|               Q|              Q|  N|         100.0|         N|               N|      null|         AAXN|         N|\n",
      "|            Y|    AB|AllianceBernstein...|               N|               |  N|         100.0|         N|            null|        AB|           AB|         N|\n",
      "|            Y|   ABB|ABB Ltd Common Stock|               N|               |  N|         100.0|         N|            null|       ABB|          ABB|         N|\n",
      "+-------------+------+--------------------+----------------+---------------+---+--------------+----------+----------------+----------+-------------+----------+\n",
      "only showing top 20 rows\n",
      "\n"
     ]
    }
   ],
   "source": [
    "#TODO: Write your code here\n",
    "metadata = spark.read.csv(\"C:/Users/nmwem/Downloads/Compressed/processing-big-data-predict-main/symbols_valid_meta.csv\", header=True)\n",
    "\n",
    "metadata.show()\n"
   ]
  },
  {
   "cell_type": "markdown",
   "metadata": {},
   "source": [
    "## Data Accuracy\n",
    "Data accuracy is the degree to which data correctly describes a \"real world\" object or event.\n",
    "\n",
    "It is important to do checks to determine the basic integrity of the dataset; do the values fall within expected ranges?\n",
    "\n",
    "Most of the possible errors relating to data accuracy can occur at collection time. In our case, it is not possible to test the collection time accuracy, so we have to infer from ranges and summary statistics. Here you need to look closely at each field to see if its values make sense, with no strange surprises.\n",
    "\n",
    "In assessing accuracy, it is important to look into precision as well. Do you need seven decimals, or will one or two suffice?\n",
    "\n",
    "- **Measured by**: The degree to which the data mirrors the characteristics of the real-world object or objects it represents;\n",
    "- **Units**: The percentage of data entries that pass the data accuracy rules;\n",
    "- **Related to**: Validity, Uniqueness, Consistency."
   ]
  },
  {
   "cell_type": "markdown",
   "metadata": {},
   "source": [
    "> ℹ️ **Instructions** ℹ️\n",
    ">\n",
    "> Generate summary statistics to explore your data. Make sure you understand the ranges, means, extremums, and deviations found in the data set."
   ]
  },
  {
   "cell_type": "code",
   "execution_count": 6,
   "metadata": {},
   "outputs": [
    {
     "name": "stdout",
     "output_type": "stream",
     "text": [
      "+-------+------------------+------------------+------------------+-----------------+-----------------+-----------------+-----+\n",
      "|summary|              open|              high|               low|            close|        adj_close|           volume|stock|\n",
      "+-------+------------------+------------------+------------------+-----------------+-----------------+-----------------+-----+\n",
      "|  count|              5106|              5106|              5064|             5106|             5085|             5085| 5106|\n",
      "|   mean|1.0904873526012002|16.757624946793637|15.728619917198033|16.64199179044607|5.986642513535306|540930.2458210423| null|\n",
      "| stddev|  2.36445352530491| 53.91407348193546| 51.32292289814399|53.54677139900802|24.64637054715319|864596.2440525505| null|\n",
      "|    min|               0.0|               0.0|       0.052377883|      0.053624976|     4.0381454E-7|              0.0|   AA|\n",
      "|    25%|               0.0|         0.2454427|        0.24348958|       0.24739583|      0.006592116|          38400.0| null|\n",
      "|    50%|               0.0|         1.8046875|         1.7851562|        1.8007812|       0.12449309|         177600.0| null|\n",
      "|    75%|        0.69547325|          6.903353|         6.7916665|        6.8333335|        0.7141595|         734400.0| null|\n",
      "|    max|              20.0|             287.5|             282.5|            285.0|        127.45936|        1.95456E7|  XOM|\n",
      "+-------+------------------+------------------+------------------+-----------------+-----------------+-----------------+-----+\n",
      "\n"
     ]
    }
   ],
   "source": [
    "#TODO: Write your code here\n",
    "df.summary().show()\n"
   ]
  },
  {
   "cell_type": "markdown",
   "metadata": {},
   "source": [
    "> ℹ️ **Instructions** ℹ️\n",
    ">\n",
    "> Generate histograms for the six numerical attributes found in the data to understand the distribution of values.\n",
    ">\n",
    ">*You may use as many coding cells as necessary.*"
   ]
  },
  {
   "cell_type": "code",
   "execution_count": 7,
   "metadata": {},
   "outputs": [
    {
     "data": {
      "image/png": "[encoded data removed]",
      "text/plain": [
       "<Figure size 640x480 with 1 Axes>"
      ]
     },
     "metadata": {},
     "output_type": "display_data"
    },
    {
     "data": {
      "image/png": "[encoded data removed]",
      "text/plain": [
       "<Figure size 640x480 with 1 Axes>"
      ]
     },
     "metadata": {},
     "output_type": "display_data"
    },
    {
     "data": {
      "image/png": "[encoded data removed]",
      "text/plain": [
       "<Figure size 640x480 with 1 Axes>"
      ]
     },
     "metadata": {},
     "output_type": "display_data"
    },
    {
     "data": {
      "image/png": "[encoded data removed]",
      "text/plain": [
       "<Figure size 640x480 with 1 Axes>"
      ]
     },
     "metadata": {},
     "output_type": "display_data"
    },
    {
     "data": {
      "image/png": "[encoded data removed]",
      "text/plain": [
       "<Figure size 640x480 with 1 Axes>"
      ]
     },
     "metadata": {},
     "output_type": "display_data"
    },
    {
     "data": {
      "image/png": "[encoded data removed]",
      "text/plain": [
       "<Figure size 640x480 with 1 Axes>"
      ]
     },
     "metadata": {},
     "output_type": "display_data"
    }
   ],
   "source": [
    "\n",
    "# Get the numerical columns from the data frame\n",
    "numeric_cols = [col for col in df.columns if col not in ['date', 'stock']]\n",
    "\n",
    "# Calculate mean values for each numerical column\n",
    "mean_values = [df.select(col).agg({\"{}\".format(col): \"mean\"}).collect()[0][0] for col in numeric_cols]\n",
    "\n",
    "# Define bin sizes based on mean values\n",
    "bin_sizes = [np.linspace(mean - 3 * np.sqrt(mean), mean + 3 * np.sqrt(mean), 100) for mean in mean_values]\n",
    "\n",
    "# Plot the histograms for each numerical column\n",
    "for i, col in enumerate(numeric_cols):\n",
    "    df_col = df.select(col).toPandas()[col]\n",
    "    plt.hist(df_col, bins=bin_sizes[i])\n",
    "    plt.title(col)\n",
    "    plt.xlabel(col)\n",
    "    plt.ylabel(\"Frequency\")\n",
    "    plt.show()\n"
   ]
  },
  {
   "cell_type": "markdown",
   "metadata": {},
   "source": [
    "> ℹ️ **Instructions** ℹ️\n",
    ">\n",
    "> Investigate the **open** column to identify stocks that have open values greater than 2, and note any anomalies that you find in the data.\n",
    ">\n",
    ">*You may use as many coding cells as necessary.*"
   ]
  },
  {
   "cell_type": "code",
   "execution_count": 8,
   "metadata": {
    "scrolled": true
   },
   "outputs": [
    {
     "name": "stdout",
     "output_type": "stream",
     "text": [
      "+-------------------+---------+---------+---------+---------+----------+--------+-----+\n",
      "|               date|     open|     high|      low|    close| adj_close|  volume|stock|\n",
      "+-------------------+---------+---------+---------+---------+----------+--------+-----+\n",
      "|1962-02-19 00:00:00|  5.83929| 5.907375|  5.83929|  5.86332| 1.3863293| 29900.0|   AA|\n",
      "|1962-02-19 00:00:00| 5.481634| 5.528486| 5.481634|5.5167727| 1.2804527| 32000.0| ARNC|\n",
      "|1962-02-19 00:00:00|     7.26|7.2933335| 7.173333|7.1866665| 0.5825691|280000.0|  IBM|\n",
      "|1962-02-14 00:00:00|  5.83929|  5.83929| 5.747175|  5.80725| 1.3730713| 56500.0|   AA|\n",
      "|1962-02-14 00:00:00| 5.481634| 5.481634| 5.399644|5.4347825| 1.2614225| 60400.0| ARNC|\n",
      "|1962-02-14 00:00:00| 7.306667|7.3333335|     7.28|7.2933335|0.59121627|208000.0|  IBM|\n",
      "|1962-02-13 00:00:00|  5.85531| 5.915385|  5.85531|  5.86332| 1.3863293| 62500.0|   AA|\n",
      "|1962-02-13 00:00:00|  5.50506| 5.540199|  5.50506|5.5167727| 1.2804527| 66800.0| ARNC|\n",
      "|1962-02-13 00:00:00|7.4266667|7.4333334| 7.306667| 7.306667|0.59229714|256000.0|  IBM|\n",
      "|1962-02-26 00:00:00|  6.05556| 6.107625| 5.955435| 6.107625| 1.4440926| 82500.0|   AA|\n",
      "|1962-02-26 00:00:00|5.6924663| 5.715892| 5.598763| 5.715892| 1.3266692| 88100.0| ARNC|\n",
      "|1962-02-26 00:00:00|     7.16|7.1666665|     7.12| 7.133333|  0.578246|299200.0|  IBM|\n",
      "|1962-02-06 00:00:00| 5.915385| 5.915385|  5.82327|  5.85531| 1.3844348| 40500.0|   AA|\n",
      "|1962-02-06 00:00:00| 5.540199| 5.540199|5.4582086|  5.50506| 1.2777345| 43300.0| ARNC|\n",
      "|1962-02-06 00:00:00| 7.346667|     7.36|     7.32|7.3533335|0.59607965|256000.0|  IBM|\n",
      "|1962-02-02 00:00:00| 5.931405| 5.955435| 5.907375| 5.915385| 1.3915651| 30500.0|   AA|\n",
      "|1962-02-02 00:00:00|5.5636244| 5.598763| 5.528486| 5.540199| 1.2794067| 32600.0| ARNC|\n",
      "|1962-02-02 00:00:00|7.3933334|     7.44|     7.36|     7.44| 0.6030228|507200.0|  IBM|\n",
      "|1962-02-16 00:00:00| 5.739165|  5.83128| 5.739165|  5.83128| 1.3787535| 55900.0|   AA|\n",
      "|1962-02-16 00:00:00| 5.387931| 5.469921| 5.387931| 5.469921| 1.2695786| 59700.0| ARNC|\n",
      "+-------------------+---------+---------+---------+---------+----------+--------+-----+\n",
      "only showing top 20 rows\n",
      "\n"
     ]
    }
   ],
   "source": [
    "#TODO: Write your code here\n",
    "df_filtered = df.filter(df.open > 2)\n",
    "df_filtered.show()"
   ]
  },
  {
   "cell_type": "code",
   "execution_count": 9,
   "metadata": {},
   "outputs": [
    {
     "name": "stdout",
     "output_type": "stream",
     "text": [
      "+-----+-----+\n",
      "|stock|count|\n",
      "+-----+-----+\n",
      "|   AA|  252|\n",
      "|ARNCA|   21|\n",
      "|   PG|   23|\n",
      "|  IBM|  252|\n",
      "| ARNC|  231|\n",
      "+-----+-----+\n",
      "\n"
     ]
    }
   ],
   "source": [
    "df.filter(df.open > 2).groupBy(df.stock).count().show()"
   ]
  },
  {
   "cell_type": "markdown",
   "metadata": {},
   "source": [
    " ## 📔️**Notes** 📔️\n",
    "\n",
    " *Use this cell to note down any potential findings.*\n",
    "\n",
    " 1.Stocks with open values greater than 2 belong to either AA, ARNCA, PG, IBM or ARNC\n",
    " 2.AA and IBM have the highest number of days with an open value greater than (252 each) followed closely by ARNC at 231\n",
    "    ...\n",
    " "
   ]
  },
  {
   "cell_type": "markdown",
   "metadata": {},
   "source": [
    "> ℹ️ **Instructions** ℹ️\n",
    ">\n",
    "> Investigate **high**, **low**, **close**, and **adj_close** to determine if any stocks may be deviating from the normal ranges of the data set. Note down the stock(s) that you come across.\n",
    ">\n",
    ">*You may use as many coding cells as necessary.*"
   ]
  },
  {
   "cell_type": "code",
   "execution_count": 10,
   "metadata": {},
   "outputs": [
    {
     "name": "stdout",
     "output_type": "stream",
     "text": [
      "+-----+-------------------+------------------+\n",
      "|stock|               date|            z_high|\n",
      "+-----+-------------------+------------------+\n",
      "|  NAV|1962-02-19 00:00:00| 4.882628190604237|\n",
      "|  NAV|1962-02-14 00:00:00| 4.824665588296936|\n",
      "|  NAV|1962-02-13 00:00:00| 4.836258108758396|\n",
      "|  NAV|1962-02-26 00:00:00| 4.871035670142777|\n",
      "|  NAV|1962-02-06 00:00:00|4.7319254246052544|\n",
      "|  NAV|1962-02-02 00:00:00| 4.627592740452114|\n",
      "|  NAV|1962-02-16 00:00:00| 4.836258108758396|\n",
      "|  NAV|1962-02-27 00:00:00| 4.882628190604237|\n",
      "|  NAV|1962-02-12 00:00:00| 4.813073067835476|\n",
      "|  NAV|1962-02-20 00:00:00| 4.882628190604237|\n",
      "|  NAV|1962-02-09 00:00:00| 4.778295506451095|\n",
      "|  NAV|1962-02-28 00:00:00| 4.894220711065697|\n",
      "|  NAV|1962-02-05 00:00:00| 4.650777781375034|\n",
      "|  NAV|1962-02-08 00:00:00| 4.789888026912556|\n",
      "|  NAV|1962-02-01 00:00:00| 4.662370301836495|\n",
      "|  NAV|1962-02-15 00:00:00| 4.789888026912556|\n",
      "|  NAV|1962-02-07 00:00:00| 4.778295506451095|\n",
      "|  NAV|1962-02-23 00:00:00| 4.871035670142777|\n",
      "|  NAV|1962-02-21 00:00:00| 4.905813231527157|\n",
      "|  NAV|1962-09-25 00:00:00|3.8740789104572078|\n",
      "+-----+-------------------+------------------+\n",
      "only showing top 20 rows\n",
      "\n",
      "+-----+-------------------+------------------+\n",
      "|stock|               date|             z_low|\n",
      "+-----+-------------------+------------------+\n",
      "|  NAV|1962-02-19 00:00:00| 5.088299055006586|\n",
      "|  NAV|1962-02-14 00:00:00|5.0152322889643965|\n",
      "|  NAV|1962-02-13 00:00:00| 5.051765671985492|\n",
      "|  NAV|1962-02-26 00:00:00| 5.076121260666221|\n",
      "|  NAV|1962-02-06 00:00:00| 4.917809934241478|\n",
      "|  NAV|1962-02-02 00:00:00| 4.832565373858924|\n",
      "|  NAV|1962-02-16 00:00:00| 5.039587877645126|\n",
      "|  NAV|1962-02-27 00:00:00|  5.12483243802768|\n",
      "|  NAV|1962-02-12 00:00:00| 5.039587877645126|\n",
      "|  NAV|1962-02-20 00:00:00| 5.088299055006586|\n",
      "|  NAV|1962-02-09 00:00:00| 5.003054494624032|\n",
      "|  NAV|1962-02-28 00:00:00|  5.12483243802768|\n",
      "|  NAV|1962-02-05 00:00:00| 4.869098756880018|\n",
      "|  NAV|1962-02-08 00:00:00| 4.990876700283667|\n",
      "|  NAV|1962-02-01 00:00:00| 4.869098756880018|\n",
      "|  NAV|1962-02-15 00:00:00| 5.003054494624032|\n",
      "|  NAV|1962-02-07 00:00:00| 4.954343317262572|\n",
      "|  NAV|1962-02-23 00:00:00| 5.076121260666221|\n",
      "|  NAV|1962-02-21 00:00:00| 5.088299055006586|\n",
      "|  NAV|1962-09-25 00:00:00| 4.065364330415938|\n",
      "+-----+-------------------+------------------+\n",
      "only showing top 20 rows\n",
      "\n",
      "+-----+-------------------+------------------+\n",
      "|stock|               date|           z_close|\n",
      "+-----+-------------------+------------------+\n",
      "|  NAV|1962-02-19 00:00:00| 4.906607837319976|\n",
      "|  NAV|1962-02-14 00:00:00| 4.801559487007968|\n",
      "|  NAV|1962-02-13 00:00:00| 4.848247642702194|\n",
      "|  NAV|1962-02-26 00:00:00| 4.906607837319976|\n",
      "|  NAV|1962-02-06 00:00:00| 4.754871331313743|\n",
      "|  NAV|1962-02-02 00:00:00| 4.661495019925291|\n",
      "|  NAV|1962-02-16 00:00:00| 4.871591720549307|\n",
      "|  NAV|1962-02-27 00:00:00| 4.918279876243533|\n",
      "|  NAV|1962-02-12 00:00:00| 4.848247642702194|\n",
      "|  NAV|1962-02-20 00:00:00| 4.906607837319976|\n",
      "|  NAV|1962-02-09 00:00:00| 4.801559487007968|\n",
      "|  NAV|1962-02-28 00:00:00| 4.918279876243533|\n",
      "|  NAV|1962-02-05 00:00:00| 4.661495019925291|\n",
      "|  NAV|1962-02-08 00:00:00| 4.801559487007968|\n",
      "|  NAV|1962-02-01 00:00:00| 4.661495019925291|\n",
      "|  NAV|1962-02-15 00:00:00| 4.813231525931525|\n",
      "|  NAV|1962-02-07 00:00:00| 4.813231525931525|\n",
      "|  NAV|1962-02-23 00:00:00|  4.89493579839642|\n",
      "|  NAV|1962-02-21 00:00:00| 4.859919681625751|\n",
      "|  NAV|1962-09-25 00:00:00|3.9028124898941234|\n",
      "+-----+-------------------+------------------+\n",
      "only showing top 20 rows\n",
      "\n",
      "+-----+-------------------+------------------+\n",
      "|stock|               date|       z_adj_close|\n",
      "+-----+-------------------+------------------+\n",
      "|  NAV|1962-02-19 00:00:00| 4.826556433678692|\n",
      "|  NAV|1962-02-14 00:00:00| 4.724486723926878|\n",
      "|  NAV|1962-02-13 00:00:00| 4.769849457204764|\n",
      "|  NAV|1962-02-26 00:00:00| 4.826556433678692|\n",
      "|  NAV|1962-02-06 00:00:00| 4.679123061985539|\n",
      "|  NAV|1962-02-02 00:00:00| 4.588391713894562|\n",
      "|  NAV|1962-02-16 00:00:00| 4.792532062061644|\n",
      "|  NAV|1962-02-27 00:00:00| 4.837899129102313|\n",
      "|  NAV|1962-02-12 00:00:00| 4.769849457204764|\n",
      "|  NAV|1962-02-20 00:00:00| 4.826556433678692|\n",
      "|  NAV|1962-02-09 00:00:00| 4.724486723926878|\n",
      "|  NAV|1962-02-28 00:00:00| 4.837899129102313|\n",
      "|  NAV|1962-02-05 00:00:00| 4.588391713894562|\n",
      "|  NAV|1962-02-08 00:00:00| 4.724486723926878|\n",
      "|  NAV|1962-02-01 00:00:00| 4.588391713894562|\n",
      "|  NAV|1962-02-15 00:00:00| 4.735826014251169|\n",
      "|  NAV|1962-02-07 00:00:00| 4.735826014251169|\n",
      "|  NAV|1962-02-23 00:00:00| 4.815214666918525|\n",
      "|  NAV|1962-02-21 00:00:00| 4.781190914410446|\n",
      "|  NAV|1962-09-25 00:00:00|3.9996169173606617|\n",
      "+-----+-------------------+------------------+\n",
      "only showing top 20 rows\n",
      "\n"
     ]
    }
   ],
   "source": [
    "\n",
    "# Compute the mean and standard deviation for each column\n",
    "high_stats = df.agg(avg(col(\"high\")).alias(\"mean\"), stddev_samp(col(\"high\")).alias(\"stddev\")).first()\n",
    "low_stats = df.agg(avg(col(\"low\")).alias(\"mean\"), stddev_samp(col(\"low\")).alias(\"stddev\")).first()\n",
    "close_stats = df.agg(avg(col(\"close\")).alias(\"mean\"), stddev_samp(col(\"close\")).alias(\"stddev\")).first()\n",
    "adj_close_stats = df.agg(avg(col(\"adj_close\")).alias(\"mean\"), stddev_samp(col(\"adj_close\")).alias(\"stddev\")).first()\n",
    "\n",
    "# Compute the z-score for each stock and each column\n",
    "z_high = df.withColumn(\"z_high\", (col(\"high\") - high_stats[\"mean\"]) / high_stats[\"stddev\"]).filter((col(\"z_high\") < -3) | (col(\"z_high\") > 3))\n",
    "z_low = df.withColumn(\"z_low\", (col(\"low\") - low_stats[\"mean\"]) / low_stats[\"stddev\"]).filter((col(\"z_low\") < -3) | (col(\"z_low\") > 3))\n",
    "z_close = df.withColumn(\"z_close\", (col(\"close\") - close_stats[\"mean\"]) / close_stats[\"stddev\"]).filter((col(\"z_close\") < -3) | (col(\"z_close\") > 3))\n",
    "z_adj_close = df.withColumn(\"z_adj_close\", (col(\"adj_close\") - adj_close_stats[\"mean\"]) / adj_close_stats[\"stddev\"]).filter((col(\"z_adj_close\") < -3) | (col(\"z_adj_close\") > 3))\n",
    "\n",
    "# Print out the z-scores for each stock and each column\n",
    "z_high.select(\"stock\", \"date\", \"z_high\").show()\n",
    "z_low.select(\"stock\", \"date\", \"z_low\").show()\n",
    "z_close.select(\"stock\", \"date\", \"z_close\").show()\n",
    "z_adj_close.select(\"stock\", \"date\", \"z_adj_close\").show()\n"
   ]
  },
  {
   "cell_type": "markdown",
   "metadata": {},
   "source": [
    " ## 📔️**Notes** 📔️\n",
    "\n",
    " *Use this cell to note down any potential findings.*\n",
    "\n",
    " 1.In the columns under investigation (high, low, close, and adj_close), stocks belonging to NAV were the only ones with a z-score of less than -3 or greater than 3, indicating the stock has a significant number of outliers.\n",
    " 2.\n",
    "    ..."
   ]
  },
  {
   "cell_type": "markdown",
   "metadata": {},
   "source": [
    "\n",
    "\n",
    "## Completeness\n",
    "\n",
    "Completeness is the proportion of stored data against the potential of “100% complete\". This is the degree to which the required data is in the dataset. \n",
    "\n",
    "Does the dataset have missing values, or if it is time-series data, does it have time period gaps? Has a bias been introduced that may change your assumptions or affect your results?\n",
    "\n",
    "Completeness issues can occur at the row level (gaps within the dataset) or the field level (one entry missing). At the field level, entire fields can being empty, or >80% of a field's data missing. \n",
    "\n",
    "Another issue that may occur is default values. A typical example of this is where a logger sends back a 0 instead of a null value, which can greatly skew any attempts at modelling. This is where it is instrumental to employ domain knowledge when assessing a dataset. \n",
    "\n",
    "- **Measured by**: A measure of the absence of blank (null) values or the presence of non-blank values;\n",
    "- **Units**: Percentage;\n",
    "- **Related to**: Validity and Accuracy."
   ]
  },
  {
   "cell_type": "markdown",
   "metadata": {},
   "source": [
    "### Missing values\n",
    "\n",
    "> ℹ️ **Instructions** ℹ️\n",
    ">\n",
    "> Write code to identify and count the number of missing values (nulls) in the dataset. Include a percentage to describe the proportion of missing values per column. Output the results in the following manner:\n",
    ">\n",
    "> `There are <number_of_missing_values> (<percentage>) null values in <column_name> column`\n",
    ">\n",
    ">*You may use as many coding cells as necessary.*"
   ]
  },
  {
   "cell_type": "code",
   "execution_count": 11,
   "metadata": {},
   "outputs": [
    {
     "name": "stdout",
     "output_type": "stream",
     "text": [
      "There are 0 (0.00%) null values in date column\n",
      "There are 0 (0.00%) null values in open column\n",
      "There are 0 (0.00%) null values in high column\n",
      "There are 42 (0.82%) null values in low column\n",
      "There are 0 (0.00%) null values in close column\n",
      "There are 21 (0.41%) null values in adj_close column\n",
      "There are 21 (0.41%) null values in volume column\n",
      "There are 0 (0.00%) null values in stock column\n"
     ]
    }
   ],
   "source": [
    "#TODO: Write your code here\n",
    "# Calculate the number of null values and the percentage of null values per column\n",
    "null_counts = []\n",
    "num_rows = df.count()\n",
    "for col_name in df.columns:\n",
    "    null_count = df.filter(col(col_name).isNull()).count()\n",
    "    null_counts.append((col_name, null_count, null_count/num_rows*100))\n",
    "\n",
    "# Print the results\n",
    "for col_name, null_count, null_pct in null_counts:\n",
    "    print(f\"There are {null_count} ({null_pct:.2f}%) null values in {col_name} column\")\n"
   ]
  },
  {
   "cell_type": "markdown",
   "metadata": {},
   "source": [
    "### Columns with missing values"
   ]
  },
  {
   "cell_type": "markdown",
   "metadata": {},
   "source": [
    "\n",
    "> ℹ️ **Instructions** ℹ️\n",
    ">\n",
    "> From the above result, probe the columns that are affected by the missing data to find out which stocks were affected.\n",
    ">\n",
    ">*You may use as many coding cells as necessary.*"
   ]
  },
  {
   "cell_type": "code",
   "execution_count": 12,
   "metadata": {},
   "outputs": [
    {
     "name": "stdout",
     "output_type": "stream",
     "text": [
      "The following stocks are affected by missing data in low, adj_close, and volume columns:\n",
      "JNJ\n",
      "CAT\n",
      "FL\n",
      "NAV\n"
     ]
    }
   ],
   "source": [
    "#TODO: Write your code here\n",
    "# Find which stocks are affected by missing data in low, adj_close, and volume columns\n",
    "affected_stocks = (\n",
    "    df.filter(col('low').isNull() | col('adj_close').isNull() | col('volume').isNull())\n",
    "    .select('stock')\n",
    "    .distinct()\n",
    "    .collect()\n",
    ")\n",
    "\n",
    "# Print the results\n",
    "if len(affected_stocks) == 0:\n",
    "    print(\"No stocks are affected by missing data in low, adj_close, and volume columns\")\n",
    "else:\n",
    "    print(\"The following stocks are affected by missing data in low, adj_close, and volume columns:\")\n",
    "    for row in affected_stocks:\n",
    "        print(row.stock)\n"
   ]
  },
  {
   "cell_type": "code",
   "execution_count": 18,
   "metadata": {},
   "outputs": [
    {
     "name": "stdout",
     "output_type": "stream",
     "text": [
      "+-------------------+---------+---------+----+---------+----------+--------+-----+--------+\n",
      "|               date|     open|     high| low|    close| adj_close|  volume|stock|null_low|\n",
      "+-------------------+---------+---------+----+---------+----------+--------+-----+--------+\n",
      "|1962-03-08 00:00:00|  1.65625|1.6614584|null| 1.640625|  0.140927| 98400.0|  CAT|       1|\n",
      "|1962-03-07 00:00:00|1.6770834|1.6770834|null|  1.65625| 0.1422691|172800.0|  CAT|       1|\n",
      "|1962-03-02 00:00:00|1.6822916|   1.6875|null|   1.6875|0.14495347|105600.0|  CAT|       1|\n",
      "|1962-03-20 00:00:00|1.6666666|1.6979166|null|1.6979166|0.14584826|177600.0|  CAT|       1|\n",
      "|1962-03-30 00:00:00|1.6822916| 1.703125|null| 1.703125|0.14629564| 86400.0|  CAT|       1|\n",
      "|1962-03-28 00:00:00| 1.671875| 1.703125|null| 1.703125|0.14629564|146400.0|  CAT|       1|\n",
      "|1962-03-13 00:00:00|1.6145834|1.6354166|null|    1.625|0.13958487|141600.0|  CAT|       1|\n",
      "|1962-03-19 00:00:00|1.6614584|1.6822916|null|1.6614584|0.14271663|105600.0|  CAT|       1|\n",
      "|1962-03-16 00:00:00|1.6458334|1.6614584|null|1.6614584|0.14271663| 79200.0|  CAT|       1|\n",
      "|1962-03-23 00:00:00|1.6822916|1.6979166|null|1.6822916|0.14450607|189600.0|  CAT|       1|\n",
      "|1962-03-27 00:00:00| 1.671875|1.6770834|null| 1.671875|0.14361136|112800.0|  CAT|       1|\n",
      "|1962-03-15 00:00:00|1.6614584|1.6614584|null|1.6458334|0.14137442|139200.0|  CAT|       1|\n",
      "|1962-03-14 00:00:00|1.6302084|1.6614584|null|1.6614584|0.14271663|117600.0|  CAT|       1|\n",
      "|1962-03-01 00:00:00|1.6822916| 1.703125|null|1.6822916|0.14450607| 74400.0|  CAT|       1|\n",
      "|1962-03-29 00:00:00| 1.703125| 1.703125|null|1.6822916|0.14450607| 91200.0|  CAT|       1|\n",
      "|1962-03-22 00:00:00|1.6666666|1.6927084|null|1.6822916|0.14450607|268800.0|  CAT|       1|\n",
      "|1962-03-06 00:00:00|   1.6875| 1.703125|null|1.6770834| 0.1440587| 98400.0|  CAT|       1|\n",
      "|1962-03-26 00:00:00|1.6822916|   1.6875|null| 1.671875|0.14361136|124800.0|  CAT|       1|\n",
      "|1962-03-05 00:00:00|   1.6875|1.6927084|null|   1.6875|0.14495347| 79200.0|  CAT|       1|\n",
      "|1962-03-12 00:00:00|1.6354166| 1.640625|null|1.6145834|0.13869008| 96000.0|  CAT|       1|\n",
      "|1962-03-21 00:00:00|1.6979166| 1.703125|null|  1.65625| 0.1422691|232800.0|  CAT|       1|\n",
      "|1962-03-09 00:00:00| 1.640625|1.6458334|null|1.6354166|0.14047968| 86400.0|  CAT|       1|\n",
      "|1962-12-19 00:00:00|      0.0|    240.0|null|    240.0|112.589325|   700.0|  NAV|       1|\n",
      "|1962-12-17 00:00:00|      0.0|  240.625|null|   238.75| 112.00292|   700.0|  NAV|       1|\n",
      "|1962-12-20 00:00:00|      0.0|   241.25|null|  239.375|112.296135|   600.0|  NAV|       1|\n",
      "|1962-12-27 00:00:00|      0.0|  248.125|null|  248.125| 116.40094|   600.0|  NAV|       1|\n",
      "|1962-12-21 00:00:00|      0.0|  243.125|null|    242.5| 113.76213|   500.0|  NAV|       1|\n",
      "|1962-12-12 00:00:00|      0.0|  244.375|null|   241.25| 113.17572|   600.0|  NAV|       1|\n",
      "|1962-12-11 00:00:00|      0.0|  244.375|null|  244.375| 114.64173|   400.0|  NAV|       1|\n",
      "|1962-12-24 00:00:00|      0.0|    245.0|null|  244.375| 114.64173|   500.0|  NAV|       1|\n",
      "+-------------------+---------+---------+----+---------+----------+--------+-----+--------+\n",
      "only showing top 30 rows\n",
      "\n"
     ]
    }
   ],
   "source": [
    "# Show the dataset with null values in the low column\n",
    "df.filter(col('low').isNull()).orderBy('stock').show(30)\n"
   ]
  },
  {
   "cell_type": "code",
   "execution_count": 29,
   "metadata": {},
   "outputs": [
    {
     "name": "stdout",
     "output_type": "stream",
     "text": [
      "+-------------------+----+---------+---------+---------+---------+--------+-----+--------+----+-----+-------+\n",
      "|               date|open|     high|      low|    close|adj_close|  volume|stock|null_low|year|month|row_num|\n",
      "+-------------------+----+---------+---------+---------+---------+--------+-----+--------+----+-----+-------+\n",
      "|1962-06-01 00:00:00| 0.0|5.8333335|     5.75|5.7916665|     null| 49200.0|   FL|       0|1962|    6|      1|\n",
      "|1962-06-04 00:00:00| 0.0|5.7708335|5.6458335|5.6666665|     null| 68400.0|   FL|       0|1962|    6|      1|\n",
      "|1962-06-05 00:00:00| 0.0|5.6666665|  5.59375|5.6145835|     null| 52800.0|   FL|       0|1962|    6|      1|\n",
      "|1962-06-06 00:00:00| 0.0|    5.875|  5.65625|5.8333335|     null|109200.0|   FL|       0|1962|    6|      1|\n",
      "|1962-06-07 00:00:00| 0.0|  5.84375|5.7291665|5.7291665|     null| 36000.0|   FL|       0|1962|    6|      1|\n",
      "|1962-06-08 00:00:00| 0.0|5.7916665|5.6458335|5.6458335|     null| 20400.0|   FL|       0|1962|    6|      1|\n",
      "|1962-06-11 00:00:00| 0.0|5.7083335|5.6458335|5.6458335|     null|  8400.0|   FL|       0|1962|    6|      1|\n",
      "|1962-06-12 00:00:00| 0.0|5.6666665|5.6041665|5.6041665|     null| 50400.0|   FL|       0|1962|    6|      1|\n",
      "|1962-06-13 00:00:00| 0.0|5.5833335|5.5416665|5.5520835|     null| 54000.0|   FL|       0|1962|    6|      1|\n",
      "|1962-06-14 00:00:00| 0.0|5.5833335|5.5208335|5.5208335|     null| 48000.0|   FL|       0|1962|    6|      1|\n",
      "|1962-06-15 00:00:00| 0.0|5.6666665|5.4583335|5.6666665|     null| 64800.0|   FL|       0|1962|    6|      1|\n",
      "|1962-06-18 00:00:00| 0.0|5.6666665|      5.5|   5.5625|     null| 42000.0|   FL|       0|1962|    6|      1|\n",
      "|1962-06-19 00:00:00| 0.0|      5.5|5.4791665|5.4791665|     null| 19200.0|   FL|       0|1962|    6|      1|\n",
      "|1962-06-20 00:00:00| 0.0|  5.53125|5.4583335|5.4583335|     null| 34800.0|   FL|       0|1962|    6|      1|\n",
      "|1962-06-21 00:00:00| 0.0|  5.46875|5.4166665|5.4166665|     null| 49200.0|   FL|       0|1962|    6|      1|\n",
      "|1962-06-22 00:00:00| 0.0|5.3645835|5.2916665|5.2916665|     null| 67200.0|   FL|       0|1962|    6|      1|\n",
      "|1962-06-25 00:00:00| 0.0|   5.3125|5.2083335|     5.25|     null| 90000.0|   FL|       0|1962|    6|      1|\n",
      "|1962-06-26 00:00:00| 0.0|   5.4375|  5.34375|5.3645835|     null| 56400.0|   FL|       0|1962|    6|      1|\n",
      "|1962-06-27 00:00:00| 0.0|  5.40625|   5.3125|5.3541665|     null| 51600.0|   FL|       0|1962|    6|      1|\n",
      "|1962-06-28 00:00:00| 0.0|  5.46875|5.3333335|5.4583335|     null| 26400.0|   FL|       0|1962|    6|      1|\n",
      "|1962-06-29 00:00:00| 0.0|      5.5|    5.375|    5.375|     null| 28800.0|   FL|       0|1962|    6|      1|\n",
      "+-------------------+----+---------+---------+---------+---------+--------+-----+--------+----+-----+-------+\n",
      "\n"
     ]
    }
   ],
   "source": [
    "df.filter(col('adj_close').isNull()).orderBy('stock').show(30)"
   ]
  },
  {
   "cell_type": "code",
   "execution_count": 7,
   "metadata": {},
   "outputs": [
    {
     "name": "stdout",
     "output_type": "stream",
     "text": [
      "The following stocks are affected by missing data in the low column:\n",
      "CAT 22\n",
      "NAV 20\n"
     ]
    }
   ],
   "source": [
    "# Find which stocks are affected by missing data in the low column\n",
    "affected_stocks = (\n",
    "    df.filter(col('low').isNull())\n",
    "    .groupBy('stock')\n",
    "    .count()\n",
    "    .filter(col('count') > 0)\n",
    "    .collect()\n",
    ")\n",
    "\n",
    "# Print the results\n",
    "if len(affected_stocks) == 0:\n",
    "    print(\"No stocks are affected by missing data in the low column\")\n",
    "else:\n",
    "    print(\"The following stocks are affected by missing data in the low column:\")\n",
    "    for row in affected_stocks:\n",
    "        print(row.stock, row['count'])\n"
   ]
  },
  {
   "cell_type": "code",
   "execution_count": 19,
   "metadata": {},
   "outputs": [
    {
     "name": "stdout",
     "output_type": "stream",
     "text": [
      "The largest number of entries a single ticker has is 309 for the stock HPQ.\n"
     ]
    }
   ],
   "source": [
    "# Group the dataframe by stock column and count the number of entries in each group\n",
    "count_by_stock = df.groupBy('stock').agg(count('*').alias('count'))\n",
    "\n",
    "# Sort the resulting dataframe in descending order based on the count column\n",
    "sorted_count_by_stock = count_by_stock.sort('count', ascending=False)\n",
    "\n",
    "# Take the first row, which represents the stock with the highest number of entries\n",
    "largest_num_entries = sorted_count_by_stock.first()\n",
    "\n",
    "# Print the result\n",
    "print(f\"The largest number of entries a single ticker has is {largest_num_entries['count']} for the stock {largest_num_entries['stock']}.\")\n"
   ]
  },
  {
   "cell_type": "code",
   "execution_count": 20,
   "metadata": {},
   "outputs": [
    {
     "name": "stdout",
     "output_type": "stream",
     "text": [
      "The number of entries for ticker 'ARNC' is 231.\n"
     ]
    }
   ],
   "source": [
    "# Count the number of entries for all tickers\n",
    "count_all = df.count()\n",
    "\n",
    "# Count the number of entries for the ticker \"ARNC\"\n",
    "count_ARNC = df.filter(col(\"stock\") == \"ARNC\").count()\n",
    "\n",
    "# Print the results\n",
    "\n",
    "print(f\"The number of entries for ticker 'ARNC' is {count_ARNC}.\")\n"
   ]
  },
  {
   "cell_type": "code",
   "execution_count": 23,
   "metadata": {},
   "outputs": [
    {
     "name": "stdout",
     "output_type": "stream",
     "text": [
      "+-------------------+-----------+-----------+-----------+-----------+------------+--------+-----+--------+----+-----+-------+\n",
      "|               date|       open|       high|        low|      close|   adj_close|  volume|stock|null_low|year|month|row_num|\n",
      "+-------------------+-----------+-----------+-----------+-----------+------------+--------+-----+--------+----+-----+-------+\n",
      "|1962-02-01 00:00:00| 0.12107246| 0.12284642| 0.11929851| 0.11929851| 0.006616706|535500.0|  HPQ|       0|1962|    2|      2|\n",
      "|1962-02-01 00:00:00| 0.12107246| 0.12284642| 0.11929851| 0.11929851| 0.006616706|535500.0|  HPQ|       0|1962|    2|      3|\n",
      "|1962-02-01 00:00:00| 0.12107246| 0.12284642| 0.11929851| 0.11929851| 0.006616706|535500.0|  HPQ|       0|1962|    2|      4|\n",
      "|1962-02-02 00:00:00| 0.11929851| 0.11929851|0.118855014| 0.11929851| 0.006616706|140900.0|  HPQ|       0|1962|    2|      2|\n",
      "|1962-02-02 00:00:00| 0.11929851| 0.11929851|0.118855014| 0.11929851| 0.006616706|140900.0|  HPQ|       0|1962|    2|      3|\n",
      "|1962-02-02 00:00:00| 0.11929851| 0.11929851|0.118855014| 0.11929851| 0.006616706|140900.0|  HPQ|       0|1962|    2|      4|\n",
      "|1962-02-05 00:00:00| 0.11929851| 0.12107246| 0.11796804| 0.11796804| 0.006542919|676400.0|  HPQ|       0|1962|    2|      2|\n",
      "|1962-02-05 00:00:00| 0.11929851| 0.12107246| 0.11796804| 0.11796804| 0.006542919|676400.0|  HPQ|       0|1962|    2|      3|\n",
      "|1962-02-05 00:00:00| 0.11929851| 0.12107246| 0.11796804| 0.11796804| 0.006542919|676400.0|  HPQ|       0|1962|    2|      4|\n",
      "|1962-02-06 00:00:00| 0.11796804|0.118411526| 0.11708106|0.118411526|0.0065675126|563700.0|  HPQ|       0|1962|    2|      2|\n",
      "|1962-02-06 00:00:00| 0.11796804|0.118411526| 0.11708106|0.118411526|0.0065675126|563700.0|  HPQ|       0|1962|    2|      3|\n",
      "|1962-02-06 00:00:00| 0.11796804|0.118411526| 0.11708106|0.118411526|0.0065675126|563700.0|  HPQ|       0|1962|    2|      4|\n",
      "|1962-02-07 00:00:00|0.118411526|0.118411526|0.115750596|0.115750596|0.0064199287|535500.0|  HPQ|       0|1962|    2|      2|\n",
      "|1962-02-07 00:00:00|0.118411526|0.118411526|0.115750596|0.115750596|0.0064199287|535500.0|  HPQ|       0|1962|    2|      3|\n",
      "|1962-02-07 00:00:00|0.118411526|0.118411526|0.115750596|0.115750596|0.0064199287|535500.0|  HPQ|       0|1962|    2|      4|\n",
      "|1962-02-08 00:00:00|0.115750596| 0.11708106| 0.11530711| 0.11530711| 0.006395332|732800.0|  HPQ|       0|1962|    2|      2|\n",
      "|1962-02-08 00:00:00|0.115750596| 0.11708106| 0.11530711| 0.11530711| 0.006395332|732800.0|  HPQ|       0|1962|    2|      3|\n",
      "|1962-02-08 00:00:00|0.115750596| 0.11708106| 0.11530711| 0.11530711| 0.006395332|732800.0|  HPQ|       0|1962|    2|      4|\n",
      "|1962-02-09 00:00:00|0.115750596| 0.11663757|0.115750596|0.116194084|0.0064445287|366400.0|  HPQ|       0|1962|    2|      2|\n",
      "|1962-02-09 00:00:00|0.115750596| 0.11663757|0.115750596|0.116194084|0.0064445287|366400.0|  HPQ|       0|1962|    2|      3|\n",
      "+-------------------+-----------+-----------+-----------+-----------+------------+--------+-----+--------+----+-----+-------+\n",
      "only showing top 20 rows\n",
      "\n"
     ]
    }
   ],
   "source": [
    "# Define the window function to partition by all columns and order by the date column\n",
    "w = Window.partitionBy(df.columns).orderBy(col('date'))\n",
    "\n",
    "# Add a row number column to the dataframe\n",
    "df = df.withColumn('row_num', row_number().over(w))\n",
    "\n",
    "# Filter out rows that have a row number greater than 1, i.e., remove duplicates\n",
    "duplicates = df.filter(col('row_num') > 1)\n",
    "\n",
    "# Show the resulting table with duplicate entries\n",
    "duplicates.show()\n"
   ]
  },
  {
   "cell_type": "code",
   "execution_count": 27,
   "metadata": {},
   "outputs": [
    {
     "name": "stdout",
     "output_type": "stream",
     "text": [
      "+-------------------+-----------+-----------+-----------+-----------+------------+---------+-----+--------+----+-----+-------+\n",
      "|               date|       open|       high|        low|      close|   adj_close|   volume|stock|null_low|year|month|row_num|\n",
      "+-------------------+-----------+-----------+-----------+-----------+------------+---------+-----+--------+----+-----+-------+\n",
      "|1962-12-31 00:00:00|   0.769982|   0.769982|   0.767478|    0.76873|0.0018812603| 828600.0|   GE|       0|1962|   12|      1|\n",
      "|1962-12-31 00:00:00|        0.0|  1.8632812|  1.8515625|   1.859375|  0.01717616|1059200.0|  XOM|       0|1962|   12|      1|\n",
      "|1962-12-31 00:00:00|        0.0|       8.25|    8.15625|    8.15625|   1.4585857|  30400.0|   GT|       0|1962|   12|      1|\n",
      "|1962-12-31 00:00:00|  1.5416666|     1.5625|  1.5260416|  1.5572916|  0.13672175|  98400.0|  CAT|       0|1962|   12|      1|\n",
      "|1962-12-31 00:00:00|  5.1302476|  5.1302476|   5.071683|  5.1185346|   1.2070543|  58200.0| ARNC|       0|1962|   12|      1|\n",
      "|1962-12-31 00:00:00|        0.0|  10.484375|  10.421875|   10.46875|  0.24465273|  24800.0|   ED|       0|1962|   12|      1|\n",
      "|1962-12-31 00:00:00|   5.233333|  5.2633333|   5.193333|        5.2|   0.4217636|1048000.0|  IBM|       0|1962|   12|      1|\n",
      "|1962-12-31 00:00:00|    5.45481|    5.45481|    5.41476|     5.4468|   1.3085586|  54500.0|   AA|       0|1962|   12|      1|\n",
      "|1962-12-31 00:00:00|        0.0|     3.9375|  3.8984375|     3.9375|  0.06431865| 105600.0|  CVX|       0|1962|   12|      1|\n",
      "|1962-12-31 00:00:00|        0.0|     31.625|     31.375|       31.5|   0.5463368|   1200.0|  DTE|       0|1962|   12|      1|\n",
      "|1962-12-31 00:00:00|        0.0|    250.625|       null|     248.75|   116.69414|    600.0|  NAV|       1|1962|   12|      1|\n",
      "|1962-12-31 00:00:00|        0.0| 0.12847222|  0.1267361| 0.12738715|1.6345338E-4|1440000.0|   MO|       0|1962|   12|      1|\n",
      "|1962-12-31 00:00:00|        0.0|   0.171875| 0.16956018| 0.16956018| 4.827062E-7| 216000.0|  JNJ|       0|1962|   12|      1|\n",
      "|1962-12-31 00:00:00|  0.0745013|  0.0745013| 0.07129004| 0.07225342| 0.027980544|1245600.0|  DIS|       0|1962|   12|      1|\n",
      "|1962-12-31 00:00:00|        0.0|  1.1132812|  1.1035156|  1.1132812| 0.010735849| 256000.0|   PG|       0|1962|   12|      1|\n",
      "|1962-12-31 00:00:00|        0.0|  5.3333335|       5.25|  5.2916665|   0.7082945|  57600.0|   FL|       0|1962|   12|      1|\n",
      "|1962-12-31 00:00:00| 0.08559335| 0.08603684| 0.08559335| 0.08559335| 0.004747302|1127400.0|  HPQ|       0|1962|   12|      1|\n",
      "|1962-12-31 00:00:00|  0.2220052| 0.22233073| 0.22135417|  0.2220052|0.0036789007| 614400.0|   KO|       0|1962|   12|      1|\n",
      "|1962-12-31 00:00:00|        0.0|   6.625986|  6.5027122|   6.625986|  0.60121965|  52700.0|   IP|       0|1962|   12|      1|\n",
      "|1962-12-31 00:00:00|  0.6069959|  0.6111111|  0.6069959|  0.6111111|  0.11326626|1123400.0|   BA|       0|1962|   12|      1|\n",
      "|1962-12-28 00:00:00| 0.08603684| 0.08648033| 0.08559335| 0.08559335| 0.004747302| 338200.0|  HPQ|       0|1962|   12|      1|\n",
      "|1962-12-28 00:00:00|0.076106936| 0.07642806|  0.0745013| 0.07546468| 0.029224122| 778500.0|  DIS|       0|1962|   12|      1|\n",
      "|1962-12-28 00:00:00| 0.22265625| 0.22265625| 0.22167969|  0.2220052|0.0036789007| 652800.0|   KO|       0|1962|   12|      1|\n",
      "|1962-12-28 00:00:00|  0.6111111|  0.6131687|  0.6069959|  0.6069959|   0.1125036| 880400.0|   BA|       0|1962|   12|      1|\n",
      "|1962-12-28 00:00:00|   0.771234|   0.771234| 0.76622593|   0.771234|0.0018873868|1098200.0|   GE|       0|1962|   12|      1|\n",
      "|1962-12-28 00:00:00|  1.5520834|  1.5520834|  1.5260416|  1.5416666|  0.13534991| 158400.0|  CAT|       0|1962|   12|      1|\n",
      "|1962-12-28 00:00:00|  5.0951085|   5.153673|  5.0951085|  5.1302476|   1.2098167|  66100.0| ARNC|       0|1962|   12|      1|\n",
      "|1962-12-28 00:00:00|   5.213333|       5.24|  5.2066665|   5.233333|   0.4244671| 579200.0|  IBM|       0|1962|   12|      1|\n",
      "|1962-12-28 00:00:00|        0.0| 0.13020833|  0.1297743| 0.12999132|1.6679478E-4| 691200.0|   MO|       0|1962|   12|      1|\n",
      "|1962-12-28 00:00:00|    5.43078|   5.506875|    5.43078|    5.45481|   1.3104835|  61900.0|   AA|       0|1962|   12|      1|\n",
      "|1962-12-28 00:00:00|        0.0|  0.1730324|  0.1712963|  0.1730324|4.9259086E-7| 604800.0|  JNJ|       0|1962|   12|      1|\n",
      "|1962-12-28 00:00:00|        0.0|  1.1074219|  1.0976562|  1.1015625| 0.010622837| 275200.0|   PG|       0|1962|   12|      1|\n",
      "|1962-12-28 00:00:00|        0.0|    3.90625|  3.8671875|    3.90625|  0.06380817| 132800.0|  CVX|       0|1962|   12|      1|\n",
      "|1962-12-28 00:00:00|        0.0|   1.859375|  1.8476562|  1.8476562| 0.017067898| 912000.0|  XOM|       0|1962|   12|      1|\n",
      "|1962-12-28 00:00:00|        0.0|  5.3645835|     5.3125|  5.3333335|   0.7138719|  27600.0|   FL|       0|1962|   12|      1|\n",
      "|1962-12-28 00:00:00|        0.0|  6.6568046|  6.5335307|   6.625986|  0.60121965|  49400.0|   IP|       0|1962|   12|      1|\n",
      "|1962-12-28 00:00:00|        0.0|       8.25|    8.03125|    8.15625|   1.4585857|  31600.0|   GT|       0|1962|   12|      1|\n",
      "|1962-12-28 00:00:00|        0.0|  10.484375|   10.40625|    10.4375|   0.2439226|  20000.0|   ED|       0|1962|   12|      1|\n",
      "|1962-12-28 00:00:00|        0.0|       31.5|     30.625|       31.5|   0.5463368|   1400.0|  DTE|       0|1962|   12|      1|\n",
      "|1962-12-28 00:00:00|        0.0|    249.375|       null|    248.125|   116.40094|    300.0|  NAV|       1|1962|   12|      1|\n",
      "|1962-12-27 00:00:00|    0.76873|   0.771234|    0.76873|   0.771234|0.0018873868|1168100.0|   GE|       0|1962|   12|      1|\n",
      "|1962-12-27 00:00:00|        0.0| 0.17332175|   0.171875|  0.1724537|4.9094336E-7| 259200.0|  JNJ|       0|1962|   12|      1|\n",
      "|1962-12-27 00:00:00|        0.0|  1.1191406|  1.1035156|   1.109375| 0.010698171| 332800.0|   PG|       0|1962|   12|      1|\n",
      "|1962-12-27 00:00:00|        0.0|  1.8671875|  1.8554688|  1.8554688|  0.01714007| 736000.0|  XOM|       0|1962|   12|      1|\n",
      "|1962-12-27 00:00:00|        0.0|  3.8984375|   3.859375|  3.8671875|  0.06317005| 112000.0|  CVX|       0|1962|   12|      1|\n",
      "|1962-12-27 00:00:00|        0.0|  5.3958335|    5.34375|    5.34375|   0.7152664|  26400.0|   FL|       0|1962|   12|      1|\n",
      "|1962-12-27 00:00:00|        0.0|  6.7492604|   6.625986|   6.625986|  0.60121965|  60800.0|   IP|       0|1962|   12|      1|\n",
      "|1962-12-27 00:00:00|        0.0|     31.125|      30.75|     30.875|  0.53549665|   1800.0|  DTE|       0|1962|   12|      1|\n",
      "|1962-12-27 00:00:00|        0.0|  10.484375|   10.40625|  10.421875|  0.24355716|  28800.0|   ED|       0|1962|   12|      1|\n",
      "|1962-12-27 00:00:00|        0.0|    248.125|       null|    248.125|   116.40094|    600.0|  NAV|       1|1962|   12|      1|\n",
      "|1962-12-27 00:00:00| 0.07707031| 0.07707031|0.076106936|0.076106936| 0.029472845| 233500.0|  DIS|       0|1962|   12|      1|\n",
      "|1962-12-27 00:00:00| 0.08692382| 0.08736731| 0.08603684| 0.08603684|0.0047718985| 845500.0|  HPQ|       0|1962|   12|      1|\n",
      "|1962-12-27 00:00:00| 0.22135417| 0.22395833| 0.22135417| 0.22265625|0.0036896893| 691200.0|   KO|       0|1962|   12|      1|\n",
      "|1962-12-27 00:00:00| 0.61728394| 0.61934155|  0.6111111|  0.6111111|  0.11326626| 637400.0|   BA|       0|1962|   12|      1|\n",
      "|1962-12-27 00:00:00|   1.546875|  1.5520834|  1.5364584|  1.5520834|   0.1362646| 122400.0|  CAT|       0|1962|   12|      1|\n",
      "|1962-12-27 00:00:00|   5.083396|  5.1770988|   5.083396|   5.083396|    1.198768|  75300.0| ARNC|       0|1962|   12|      1|\n",
      "|1962-12-27 00:00:00|       5.25|  5.2766666|   5.193333|   5.213333|  0.42284486| 784000.0|  IBM|       0|1962|   12|      1|\n",
      "|1962-12-27 00:00:00|        0.0| 0.13151042| 0.13042535| 0.13042535|1.6735167E-4| 460800.0|   MO|       0|1962|   12|      1|\n",
      "|1962-12-27 00:00:00|    5.42277|   5.522895|    5.42277|    5.42277|   1.3027864|  70500.0|   AA|       0|1962|   12|      1|\n",
      "|1962-12-27 00:00:00|        0.0|    8.28125|     8.0625|      8.125|   1.4529963|  71200.0|   GT|       0|1962|   12|      1|\n",
      "|1962-12-26 00:00:00|        0.0|   6.780079|  6.6876235|  6.6876235|   0.6068124|  62800.0|   IP|       0|1962|   12|      1|\n",
      "|1962-12-26 00:00:00|        0.0|  3.8671875|   3.828125|  3.8671875|  0.06317005| 115200.0|  CVX|       0|1962|   12|      1|\n",
      "|1962-12-26 00:00:00|        0.0|     5.4375|  5.3541665|  5.3958335|  0.72223794|  34800.0|   FL|       0|1962|   12|      1|\n",
      "|1962-12-26 00:00:00|        0.0|       8.25|    8.09375|     8.1875|   1.4641743|  30400.0|   GT|       0|1962|   12|      1|\n",
      "|1962-12-26 00:00:00|        0.0|  10.421875|   10.34375|  10.421875|  0.24355716|  13600.0|   ED|       0|1962|   12|      1|\n",
      "|1962-12-26 00:00:00|        0.0|    31.1875|      30.75|       31.0|   0.5376647|   3000.0|  DTE|       0|1962|   12|      1|\n",
      "|1962-12-26 00:00:00|        0.0|    246.875|       null|     246.25|  115.521324|    500.0|  NAV|       1|1962|   12|      1|\n",
      "|1962-12-26 00:00:00|  0.0878108| 0.08825429| 0.08648033| 0.08692382|0.0048210956| 253600.0|  HPQ|       0|1962|   12|      1|\n",
      "|1962-12-26 00:00:00| 0.07707031| 0.07707031|0.076106936| 0.07707031| 0.029845908| 544900.0|  DIS|       0|1962|   12|      1|\n",
      "|1962-12-26 00:00:00| 0.22135417| 0.22265625| 0.22135417| 0.22135417|0.0036681134| 652800.0|   KO|       0|1962|   12|      1|\n",
      "|1962-12-26 00:00:00| 0.61728394| 0.61934155|  0.6111111| 0.61728394|  0.11441046| 413000.0|   BA|       0|1962|   12|      1|\n",
      "|1962-12-26 00:00:00| 0.75996596|   0.767478| 0.75996596|   0.767478|0.0018781957|1058300.0|   GE|       0|1962|   12|      1|\n",
      "|1962-12-26 00:00:00|  1.5364584|   1.546875|  1.5364584|   1.546875|  0.13580723| 122400.0|  CAT|       0|1962|   12|      1|\n",
      "|1962-12-26 00:00:00|    5.05997|  5.1302476|  5.0365443|  5.0482574|   1.1904812|  70400.0| ARNC|       0|1962|   12|      1|\n",
      "|1962-12-26 00:00:00|  5.2533336|  5.2933335|       5.23|       5.25|  0.42581895| 723200.0|  IBM|       0|1962|   12|      1|\n",
      "|1962-12-26 00:00:00|        0.0|  1.8671875|  1.8476562|  1.8632812| 0.017212238| 784000.0|  XOM|       0|1962|   12|      1|\n",
      "|1962-12-26 00:00:00|    5.40675|    5.45481|   5.354685|   5.362695|   1.2883537|  65900.0|   AA|       0|1962|   12|      1|\n",
      "|1962-12-26 00:00:00|        0.0| 0.13151042| 0.13064235| 0.13064235| 1.676303E-4| 288000.0|   MO|       0|1962|   12|      1|\n",
      "|1962-12-26 00:00:00|        0.0|  0.1736111|   0.171875|   0.171875|4.8929604E-7| 388800.0|  JNJ|       0|1962|   12|      1|\n",
      "|1962-12-26 00:00:00|        0.0|  1.1230469|   1.109375|  1.1171875| 0.010773509| 198400.0|   PG|       0|1962|   12|      1|\n",
      "|1962-12-24 00:00:00|        0.0| 0.13216145| 0.13042535|  0.1310764|1.6818721E-4| 864000.0|   MO|       0|1962|   12|      1|\n",
      "|1962-12-24 00:00:00|        0.0|   0.171875|  0.1712963|   0.171875|4.8929604E-7| 259200.0|  JNJ|       0|1962|   12|      1|\n",
      "|1962-12-24 00:00:00|        0.0|  1.1210938|  1.0976562|  1.1210938| 0.010811188| 364800.0|   PG|       0|1962|   12|      1|\n",
      "|1962-12-24 00:00:00|        0.0|  3.8515625|  3.8046875|  3.8046875| 0.062149167| 108800.0|  CVX|       0|1962|   12|      1|\n",
      "|1962-12-24 00:00:00|        0.0|    5.34375|     5.3125|  5.3333335|   0.7138719|  26400.0|   FL|       0|1962|   12|      1|\n",
      "|1962-12-24 00:00:00|        0.0|   6.718442|  6.5951676|  6.6568046|  0.60401595|  30400.0|   IP|       0|1962|   12|      1|\n",
      "|1962-12-24 00:00:00|        0.0|   10.34375|      10.25|   10.34375|  0.24173158|  30400.0|   ED|       0|1962|   12|      1|\n",
      "|1962-12-24 00:00:00|        0.0|     8.3125|    8.09375|     8.1875|   1.4641743|  32400.0|   GT|       0|1962|   12|      1|\n",
      "|1962-12-24 00:00:00|        0.0|    31.1875|      30.75|      30.75|  0.53332883|   2000.0|  DTE|       0|1962|   12|      1|\n",
      "|1962-12-24 00:00:00|        0.0|      245.0|       null|    244.375|   114.64173|    500.0|  NAV|       1|1962|   12|      1|\n",
      "|1962-12-24 00:00:00| 0.07353792| 0.07707031| 0.07353792| 0.07707031| 0.029845908| 973100.0|  DIS|       0|1962|   12|      1|\n",
      "|1962-12-24 00:00:00| 0.08603684|  0.0878108| 0.08603684|  0.0878108|0.0048702923| 789100.0|  HPQ|       0|1962|   12|      1|\n",
      "|1962-12-24 00:00:00|  0.2233073| 0.22395833|    0.21875| 0.22005208|0.0036465353|1843200.0|   KO|       0|1962|   12|      1|\n",
      "|1962-12-24 00:00:00|  0.6090535| 0.61728394|  0.6069959| 0.61728394|  0.11441046| 413000.0|   BA|       0|1962|   12|      1|\n",
      "|1962-12-24 00:00:00|  5.1716666|  5.2533336|  5.1716666|  5.2533336|   0.4260892| 675200.0|  IBM|       0|1962|   12|      1|\n",
      "|1962-12-24 00:00:00|        0.0|  1.8515625|  1.8359375|  1.8398438| 0.016995728| 649600.0|  XOM|       0|1962|   12|      1|\n",
      "|1962-12-24 00:00:00| 0.75996596| 0.76121795| 0.75871396| 0.75996596|0.0018598124| 908500.0|   GE|       0|1962|   12|      1|\n",
      "|1962-12-24 00:00:00|    5.22252|    5.42277|    5.22252|    5.40675|   1.2989377|  47900.0|   AA|       0|1962|   12|      1|\n",
      "|1962-12-24 00:00:00|  1.5208334|    1.53125|  1.5208334|  1.5260416|  0.13397828| 117600.0|  CAT|       0|1962|   12|      1|\n",
      "|1962-12-24 00:00:00|  4.8959894|   5.083396|  4.8959894|    5.05997|    1.193243|  51200.0| ARNC|       0|1962|   12|      1|\n",
      "|1962-12-21 00:00:00|        0.0|  1.1386719|  1.1210938|  1.1210938| 0.010811188| 294400.0|   PG|       0|1962|   12|      1|\n",
      "|1962-12-21 00:00:00|        0.0|   3.859375|  3.8046875|   3.828125| 0.062532015| 152000.0|  CVX|       0|1962|   12|      1|\n",
      "|1962-12-21 00:00:00|        0.0|  1.8515625|  1.8320312|  1.8476562| 0.017067898|1257600.0|  XOM|       0|1962|   12|      1|\n",
      "|1962-12-21 00:00:00|        0.0|     5.4375|  5.3229165|  5.3229165|   0.7124775|  37200.0|   FL|       0|1962|   12|      1|\n",
      "|1962-12-21 00:00:00|        0.0|   6.718442|   6.625986|  6.6568046|  0.60401595|  27100.0|   IP|       0|1962|   12|      1|\n",
      "|1962-12-21 00:00:00|        0.0|     8.3125|      8.125|     8.1875|   1.4641743|  37600.0|   GT|       0|1962|   12|      1|\n",
      "|1962-12-21 00:00:00|        0.0|   10.40625|   10.34375|     10.375|  0.24246182|  30400.0|   ED|       0|1962|   12|      1|\n",
      "|1962-12-21 00:00:00|        0.0|       31.0|    30.8125|     30.875|  0.53549665|   2200.0|  DTE|       0|1962|   12|      1|\n",
      "|1962-12-21 00:00:00|        0.0|    243.125|       null|      242.5|   113.76213|    500.0|  NAV|       1|1962|   12|      1|\n",
      "|1962-12-21 00:00:00| 0.22460938|  0.2265625|  0.2233073|  0.2233073| 0.003700475| 460800.0|   KO|       0|1962|   12|      1|\n",
      "|1962-12-21 00:00:00| 0.08692382| 0.08692382| 0.08559335| 0.08603684|0.0047718985| 704600.0|  HPQ|       0|1962|   12|      1|\n",
      "|1962-12-21 00:00:00|  0.6131687| 0.61934155|  0.6069959|  0.6090535| 0.112884976| 643800.0|   BA|       0|1962|   12|      1|\n",
      "|1962-12-21 00:00:00| 0.76121795| 0.76246995| 0.75746197| 0.75996596|0.0018598124| 748800.0|   GE|       0|1962|   12|      1|\n",
      "|1962-12-21 00:00:00|  1.4895834|  1.5208334|  1.4791666|  1.5208334|  0.13352096| 398400.0|  CAT|       0|1962|   12|      1|\n",
      "|1962-12-21 00:00:00|  4.9604106|  4.9779797|  4.8842764|  4.8842764|   1.1518116|  81100.0| ARNC|       0|1962|   12|      1|\n",
      "|1962-12-21 00:00:00|  5.2283335|  5.2466664|   5.136667|   5.136667|   0.4166266| 899200.0|  IBM|       0|1962|   12|      1|\n",
      "|1962-12-21 00:00:00|        0.0|  0.1736111|  0.1712963|  0.1712963|4.8764855E-7| 259200.0|  JNJ|       0|1962|   12|      1|\n",
      "|1962-12-21 00:00:00|0.073216796|  0.0745013|0.073216796|0.073216796| 0.028353622| 583800.0|  DIS|       0|1962|   12|      1|\n",
      "|1962-12-21 00:00:00|   5.266575|   5.314635|    5.21451|    5.21451|   1.2527539|  75900.0|   AA|       0|1962|   12|      1|\n",
      "|1962-12-21 00:00:00|        0.0| 0.13368055| 0.13151042| 0.13237847|1.6985775E-4| 518400.0|   MO|       0|1962|   12|      1|\n",
      "|1962-12-20 00:00:00|        0.0| 0.13368055|  0.1297743| 0.13302952| 1.706932E-4|1209600.0|   MO|       0|1962|   12|      1|\n",
      "|1962-12-20 00:00:00| 0.07257454| 0.07385905| 0.07257454|0.073216796| 0.028353622|1479100.0|  DIS|       0|1962|   12|      1|\n",
      "|1962-12-20 00:00:00|  1.5052084|  1.5104166|  1.4895834|  1.4895834|   0.1307775| 273600.0|  CAT|       0|1962|   12|      1|\n",
      "|1962-12-20 00:00:00|        0.0|  10.359375|  10.265625|  10.328125|  0.24136643|  37600.0|   ED|       0|1962|   12|      1|\n",
      "|1962-12-20 00:00:00|        0.0| 0.17332175|   0.171875| 0.17332175|4.9341503E-7| 216000.0|  JNJ|       0|1962|   12|      1|\n",
      "|1962-12-20 00:00:00|        0.0|  5.4583335|  5.3958335|  5.4270835|  0.72642106|  21600.0|   FL|       0|1962|   12|      1|\n",
      "|1962-12-20 00:00:00|        0.0|  6.7492604|   6.625986|  6.6568046|  0.60401595|  72100.0|   IP|       0|1962|   12|      1|\n",
      "|1962-12-20 00:00:00|        0.0|     241.25|       null|    239.375|  112.296135|    600.0|  NAV|       1|1962|   12|      1|\n",
      "|1962-12-20 00:00:00| 0.08514986| 0.08603684| 0.08514986| 0.08603684|0.0047718985| 507300.0|  HPQ|       0|1962|   12|      1|\n",
      "|1962-12-20 00:00:00| 0.22526042| 0.22721355| 0.22460938| 0.22460938|0.0037220537| 960000.0|   KO|       0|1962|   12|      1|\n",
      "|1962-12-20 00:00:00|  0.6069959| 0.62139916| 0.60493827|  0.6131687| 0.113647655| 704600.0|   BA|       0|1962|   12|      1|\n",
      "|1962-12-20 00:00:00|        0.0|    8.40625|    8.28125|    8.34375|   1.4921154|  44800.0|   GT|       0|1962|   12|      1|\n",
      "|1962-12-20 00:00:00|  4.9662666|  5.0482574|  4.9194155|  4.9604106|   1.1697657|  94500.0| ARNC|       0|1962|   12|      1|\n",
      "|1962-12-20 00:00:00|  5.2283335|  5.2933335|  5.2283335|  5.2283335|  0.42406148|1272000.0|  IBM|       0|1962|   12|      1|\n",
      "|1962-12-20 00:00:00|   5.306625|   5.362695|    5.23854|   5.266575|   1.2652607|  88500.0|   AA|       0|1962|   12|      1|\n",
      "|1962-12-20 00:00:00|        0.0|    31.3125|     30.875|       31.0|   0.5376647|   4200.0|  DTE|       0|1962|   12|      1|\n",
      "|1962-12-20 00:00:00| 0.76121795| 0.76372194| 0.75746197| 0.76121795|0.0018628758|1487600.0|   GE|       0|1962|   12|      1|\n",
      "|1962-12-20 00:00:00|        0.0|   1.140625|  1.1210938|      1.125| 0.010848856| 275200.0|   PG|       0|1962|   12|      1|\n",
      "|1962-12-20 00:00:00|        0.0|  1.8398438|  1.8164062|   1.828125| 0.016887488|1302400.0|  XOM|       0|1962|   12|      1|\n",
      "|1962-12-20 00:00:00|        0.0|  3.8203125|   3.796875|     3.8125| 0.062276784| 145600.0|  CVX|       0|1962|   12|      1|\n",
      "|1962-12-19 00:00:00|        0.0|  1.1289062|   1.109375|  1.1289062| 0.010886526| 313600.0|   PG|       0|1962|   12|      1|\n",
      "|1962-12-19 00:00:00|        0.0|  5.4166665|  5.2916665|  5.3958335|  0.72223794|  79200.0|   FL|       0|1962|   12|      1|\n",
      "|1962-12-19 00:00:00|        0.0|  1.8203125|   1.796875|  1.8203125|  0.01681532|1232000.0|  XOM|       0|1962|   12|      1|\n",
      "|1962-12-19 00:00:00|        0.0|      8.375|     8.1875|      8.375|   1.4977044|  36400.0|   GT|       0|1962|   12|      1|\n",
      "|1962-12-19 00:00:00|  0.0838194| 0.08514986| 0.08293242|0.084262885|0.0046735145| 648200.0|  HPQ|       0|1962|   12|      1|\n",
      "|1962-12-19 00:00:00|  0.7537059| 0.76121795|  0.7461939| 0.76121795|0.0018628758|2266300.0|   GE|       0|1962|   12|      1|\n",
      "|1962-12-19 00:00:00|   5.122395|   5.338665|   5.122395|   5.306625|   1.2748827|  65900.0|   AA|       0|1962|   12|      1|\n",
      "|1962-12-19 00:00:00|        0.0|  3.8359375|  3.7734375|    3.78125| 0.061766304| 164800.0|  CVX|       0|1962|   12|      1|\n",
      "|1962-12-19 00:00:00|        0.0|  6.5951676|  6.4102564|  6.5951676|    0.598423|  83500.0|   IP|       0|1962|   12|      1|\n",
      "|1962-12-19 00:00:00|        0.0|  10.296875|   10.21875|  10.265625|  0.23990586|  24000.0|   ED|       0|1962|   12|      1|\n",
      "|1962-12-19 00:00:00|        0.0|       31.0|    30.8125|       31.0|   0.5376647|   1200.0|  DTE|       0|1962|   12|      1|\n",
      "|1962-12-19 00:00:00|        0.0|      240.0|       null|      240.0|  112.589325|    700.0|  NAV|       1|1962|   12|      1|\n",
      "|1962-12-19 00:00:00| 0.07032666| 0.07064778|0.070005536|0.070005536| 0.027110036| 272400.0|  DIS|       0|1962|   12|      1|\n",
      "|1962-12-19 00:00:00| 0.22526042|  0.2265625| 0.22526042| 0.22526042|0.0037328426| 921600.0|   KO|       0|1962|   12|      1|\n",
      "|1962-12-19 00:00:00| 0.60493827|  0.6069959| 0.60082304|  0.6069959|   0.1125036| 734600.0|   BA|       0|1962|   12|      1|\n",
      "|1962-12-19 00:00:00|        1.5|  1.5390625|        1.5|  1.5052084|  0.13214913| 103200.0|  CAT|       0|1962|   12|      1|\n",
      "|1962-12-19 00:00:00|   4.802286|  5.0131183|   4.802286|  4.9662666|   1.1711464|  70400.0| ARNC|       0|1962|   12|      1|\n",
      "|1962-12-19 00:00:00|   5.096667|   5.233333|   5.096667|  5.2283335|  0.42406148| 963200.0|  IBM|       0|1962|   12|      1|\n",
      "|1962-12-19 00:00:00|        0.0|  0.1736111| 0.16956018|  0.1736111|4.9423835E-7| 518400.0|  JNJ|       0|1962|   12|      1|\n",
      "|1962-12-19 00:00:00|        0.0| 0.13020833| 0.12912327| 0.13020833|1.6707322E-4|1324800.0|   MO|       0|1962|   12|      1|\n",
      "|1962-12-18 00:00:00|        0.0|     1.8125|   1.796875|  1.8046875|  0.01667097| 963200.0|  XOM|       0|1962|   12|      1|\n",
      "|1962-12-18 00:00:00|        0.0|  5.3333335|  5.2916665|     5.3125|   0.7110834|  33600.0|   FL|       0|1962|   12|      1|\n",
      "|1962-12-18 00:00:00|        0.0|      10.25|  10.203125|      10.25|  0.23954056|  26400.0|   ED|       0|1962|   12|      1|\n",
      "|1962-12-18 00:00:00| 0.07129004| 0.07129004| 0.07032666| 0.07032666| 0.027234405| 544900.0|  DIS|       0|1962|   12|      1|\n",
      "|1962-12-18 00:00:00|  4.8842764|   4.931128|   4.802286|   4.802286|   1.1324756|  83900.0| ARNC|       0|1962|   12|      1|\n",
      "|1962-12-18 00:00:00|        0.0|  1.1328125|  1.1113281|  1.1132812| 0.010735849| 332800.0|   PG|       0|1962|   12|      1|\n",
      "|1962-12-18 00:00:00|        0.0|    3.84375|   3.796875|   3.796875|  0.06202152|  83200.0|  CVX|       0|1962|   12|      1|\n",
      "|1962-12-18 00:00:00|        0.0|  6.6876235|  6.5335307|   6.564349|  0.59562683|  73000.0|   IP|       0|1962|   12|      1|\n",
      "|1962-12-18 00:00:00|        0.0|    8.34375|    8.21875|       8.25|   1.4753512|  38400.0|   GT|       0|1962|   12|      1|\n",
      "|1962-12-18 00:00:00|        0.0|       31.5|     30.875|     31.125|   0.5398329|  10400.0|  DTE|       0|1962|   12|      1|\n",
      "|1962-12-18 00:00:00|        0.0|     238.75|       null|     236.25|    110.8301|    900.0|  NAV|       1|1962|   12|      1|\n",
      "|1962-12-18 00:00:00| 0.08514986| 0.08559335|  0.0838194|  0.0838194|0.0046489164|1381000.0|  HPQ|       0|1962|   12|      1|\n",
      "|1962-12-18 00:00:00| 0.22786458| 0.22786458| 0.22526042| 0.22526042|0.0037328426| 806400.0|   KO|       0|1962|   12|      1|\n",
      "|1962-12-18 00:00:00|  0.6131687|  0.6131687| 0.60288066| 0.60493827|  0.11212213| 917000.0|   BA|       0|1962|   12|      1|\n",
      "|1962-12-18 00:00:00|        0.0|  0.1712963| 0.16956018|  0.1707176|4.8600106E-7| 691200.0|  JNJ|       0|1962|   12|      1|\n",
      "|1962-12-18 00:00:00|   5.133333|  5.1766667|  5.0866666|   5.096667|  0.41338223| 875200.0|  IBM|       0|1962|   12|      1|\n",
      "|1962-12-18 00:00:00|    5.21451|    5.24655|   5.122395|   5.122395|   1.2306238|  78500.0|   AA|       0|1962|   12|      1|\n",
      "|1962-12-18 00:00:00|   0.767478|   0.767478| 0.74869794|  0.7537059|0.0018444912|1168100.0|   GE|       0|1962|   12|      1|\n",
      "|1962-12-18 00:00:00|  1.4791666|  1.5208334|  1.4791666|        1.5|  0.13169187| 314400.0|  CAT|       0|1962|   12|      1|\n",
      "|1962-12-18 00:00:00|        0.0| 0.13020833| 0.12934028|  0.1297743|1.6651639E-4| 806400.0|   MO|       0|1962|   12|      1|\n",
      "|1962-12-17 00:00:00|        0.0|  1.1484375|  1.1289062|   1.140625|  0.01099953| 243200.0|   PG|       0|1962|   12|      1|\n",
      "|1962-12-17 00:00:00|        0.0|  0.1736111|  0.1712963|  0.1712963|4.8764855E-7| 561600.0|  JNJ|       0|1962|   12|      1|\n",
      "|1962-12-17 00:00:00|        0.0|  1.8085938|  1.8007812|  1.8046875|  0.01667097| 864000.0|  XOM|       0|1962|   12|      1|\n",
      "|1962-12-17 00:00:00|        0.0|  5.3645835|  5.2916665|  5.3229165|   0.7124775|  32400.0|   FL|       0|1962|   12|      1|\n",
      "|1962-12-17 00:00:00|        0.0|      8.375|     8.1875|      8.375|   1.4977044|  47600.0|   GT|       0|1962|   12|      1|\n",
      "|1962-12-17 00:00:00|  1.4895834|  1.4895834|  1.4739584|  1.4739584|  0.12940557| 129600.0|  CAT|       0|1962|   12|      1|\n",
      "|1962-12-17 00:00:00|0.069837175| 0.07108427| 0.06921363| 0.07108427| 0.027427102| 311400.0|  DIS|       0|1962|   12|      1|\n",
      "|1962-12-17 00:00:00|        0.0|  3.8828125|    3.84375|  3.8515625| 0.062914856| 126400.0|  CVX|       0|1962|   12|      1|\n",
      "|1962-12-17 00:00:00|        0.0|  6.8108974|  6.6568046|  6.6568046|  0.60401595|  49000.0|   IP|       0|1962|   12|      1|\n",
      "|1962-12-17 00:00:00|        0.0|   10.28125|   10.21875|      10.25|  0.23954056|  19200.0|   ED|       0|1962|   12|      1|\n",
      "|1962-12-17 00:00:00|        0.0|    31.8125|       31.5|    31.8125|  0.55175686|   2400.0|  DTE|       0|1962|   12|      1|\n",
      "|1962-12-17 00:00:00|        0.0|    240.625|       null|     238.75|   112.00292|    700.0|  NAV|       1|1962|   12|      1|\n",
      "|1962-12-17 00:00:00|   0.771234| 0.77498996|   0.767478|   0.771234|0.0018751266| 569000.0|   GE|       0|1962|   12|      1|\n",
      "|1962-12-17 00:00:00|  4.9779797|  5.0248313|  4.8842764|  4.8842764|   1.1518116| 103100.0| ARNC|       0|1962|   12|      1|\n",
      "|1962-12-17 00:00:00|   5.193333|  5.2266665|       5.12|   5.133333|  0.41635615| 904000.0|  IBM|       0|1962|   12|      1|\n",
      "|1962-12-17 00:00:00|   5.314635|   5.346675|    5.21451|    5.21451|   1.2527539|  96500.0|   AA|       0|1962|   12|      1|\n",
      "|1962-12-17 00:00:00| 0.08559335| 0.08603684| 0.08514986| 0.08514986| 0.004722707| 817300.0|  HPQ|       0|1962|   12|      1|\n",
      "|1962-12-17 00:00:00|  0.2298177|  0.2311198| 0.22721355| 0.22786458|0.0037759962|1612800.0|   KO|       0|1962|   12|      1|\n",
      "|1962-12-17 00:00:00|        0.0| 0.13064235| 0.12934028|  0.1295573|  1.66238E-4| 748800.0|   MO|       0|1962|   12|      1|\n",
      "|1962-12-14 00:00:00|        0.0|  1.8046875|  1.7890625|  1.8046875|  0.01667097|1062400.0|  XOM|       0|1962|   12|      1|\n",
      "|1962-12-14 00:00:00|        0.0|      5.375|  5.2916665|  5.3645835|  0.71805507|  16800.0|   FL|       0|1962|   12|      1|\n",
      "|1962-12-14 00:00:00|        0.0|    239.375|       null|    239.375|  112.296135|    400.0|  NAV|       1|1962|   12|      1|\n",
      "|1962-12-14 00:00:00| 0.08514986| 0.08603684| 0.08514986| 0.08559335| 0.004747302|1042800.0|  HPQ|       0|1962|   12|      1|\n",
      "|1962-12-14 00:00:00|  5.0014057|  5.0014057|   4.954554|  4.9779797|   1.1739084|  46900.0| ARNC|       0|1962|   12|      1|\n",
      "|1962-12-14 00:00:00|        0.0| 0.12890625| 0.12738715| 0.12890625|1.6540267E-4| 576000.0|   MO|       0|1962|   12|      1|\n",
      "|1962-12-14 00:00:00|        0.0|  3.8467262|  3.8095238|  3.8392856|  0.06271432| 144000.0|  CVX|       0|1962|   12|      1|\n",
      "|1962-12-14 00:00:00|        0.0|   6.841716|  6.6876235|   6.780079|   0.6152013|  52700.0|   IP|       0|1962|   12|      1|\n",
      "|1962-12-14 00:00:00|        0.0|       8.25|     8.0625|       8.25|   1.4753512|  35600.0|   GT|       0|1962|   12|      1|\n",
      "|1962-12-14 00:00:00|        0.0|    31.5625|     31.375|       31.5|   0.5411337|   1200.0|  DTE|       0|1962|   12|      1|\n",
      "|1962-12-14 00:00:00| 0.07108427| 0.07108427| 0.06921363|0.069837175| 0.026945926| 817400.0|  DIS|       0|1962|   12|      1|\n",
      "|1962-12-14 00:00:00| 0.22428386|  0.2298177| 0.22428386|  0.2298177|0.0038083624|3072000.0|   KO|       0|1962|   12|      1|\n",
      "|1962-12-14 00:00:00|    0.76873|   0.772486|   0.767478|   0.771234|0.0018751266| 878500.0|   GE|       0|1962|   12|      1|\n",
      "|1962-12-14 00:00:00|  1.4947916|  1.4947916|  1.4791666|  1.4895834|   0.1307775|  88800.0|  CAT|       0|1962|   12|      1|\n",
      "|1962-12-14 00:00:00|   5.173333|       5.21|       5.14|   5.193333|  0.42122287| 995200.0|  IBM|       0|1962|   12|      1|\n",
      "|1962-12-14 00:00:00|   5.330655|   5.330655|    5.26257|   5.314635|   1.2768074|  43900.0|   AA|       0|1962|   12|      1|\n",
      "|1962-12-14 00:00:00|        0.0|   10.28125|    10.1875|   10.28125|  0.24027067|  50400.0|   ED|       0|1962|   12|      1|\n",
      "|1962-12-14 00:00:00|        0.0|  0.1736111|  0.1712963|  0.1736111|4.9423835E-7| 561600.0|  JNJ|       0|1962|   12|      1|\n",
      "|1962-12-14 00:00:00|        0.0|   1.140625|      1.125|  1.1367188| 0.010961852| 313600.0|   PG|       0|1962|   12|      1|\n",
      "|1962-12-13 00:00:00|        0.0|   1.140625|      1.125|  1.1289062| 0.010886526| 179200.0|   PG|       0|1962|   12|      1|\n",
      "|1962-12-13 00:00:00|        0.0|  1.8203125|  1.8046875|     1.8125| 0.016743153|1113600.0|  XOM|       0|1962|   12|      1|\n",
      "|1962-12-13 00:00:00|        0.0|  10.203125|   10.15625|    10.1875|  0.23808007|  48000.0|   ED|       0|1962|   12|      1|\n",
      "|1962-12-13 00:00:00|        0.0|   0.171875|  0.1712963|  0.1712963|4.8764855E-7| 432000.0|  JNJ|       0|1962|   12|      1|\n",
      "|1962-12-13 00:00:00|        0.0|     31.875|       31.5|    31.6875|   0.5443553|   2400.0|  DTE|       0|1962|   12|      1|\n",
      "|1962-12-13 00:00:00|   0.771234| 0.77373797|   0.767478|    0.76873|0.0018690398|1228000.0|   GE|       0|1962|   12|      1|\n",
      "|1962-12-13 00:00:00|        0.0|  6.9341717|   6.780079|   6.841716|  0.62079436|  64400.0|   IP|       0|1962|   12|      1|\n",
      "|1962-12-13 00:00:00|        0.0|  3.8541667|   3.794643|  3.8318453|  0.06259275| 278400.0|  CVX|       0|1962|   12|      1|\n",
      "|1962-12-13 00:00:00|        0.0|       8.25|    8.15625|     8.1875|   1.4641743|  25200.0|   GT|       0|1962|   12|      1|\n",
      "|1962-12-13 00:00:00|        0.0|     241.25|       null|    238.125|   111.70971|    500.0|  NAV|       1|1962|   12|      1|\n",
      "|1962-12-13 00:00:00| 0.07233136| 0.07233136|0.071707815|0.071707815| 0.027667692| 272400.0|  DIS|       0|1962|   12|      1|\n",
      "|1962-12-13 00:00:00| 0.08514986| 0.08559335| 0.08470637| 0.08514986| 0.004722707| 648200.0|  HPQ|       0|1962|   12|      1|\n",
      "|1962-12-13 00:00:00|        0.0|  5.3958335|  5.2708335|  5.3333335|   0.7138719|  21600.0|   FL|       0|1962|   12|      1|\n",
      "|1962-12-13 00:00:00|  1.4947916|  1.5104166|  1.4895834|  1.5104166|  0.13260642|  64800.0|  CAT|       0|1962|   12|      1|\n",
      "|1962-12-13 00:00:00|  5.0365443|    5.14196|  5.0014057|  5.0014057|   1.1794331|  60400.0| ARNC|       0|1962|   12|      1|\n",
      "|1962-12-13 00:00:00|   5.354685|    5.46282|   5.330655|   5.330655|    1.280657|  56500.0|   AA|       0|1962|   12|      1|\n",
      "|1962-12-13 00:00:00| 0.22005208| 0.22526042| 0.22005208| 0.22265625|0.0036896893|1344000.0|   KO|       0|1962|   12|      1|\n",
      "|1962-12-13 00:00:00|       5.25|  5.2766666|  5.1666665|   5.173333|  0.41960087|1120000.0|  IBM|       0|1962|   12|      1|\n",
      "|1962-12-13 00:00:00|        0.0| 0.13020833| 0.12890625| 0.12934028|1.6395788E-4| 576000.0|   MO|       0|1962|   12|      1|\n",
      "|1962-12-12 00:00:00| 0.75746197|   0.777494|  0.7562099|   0.771234|0.0018751266|2186400.0|   GE|       0|1962|   12|      1|\n",
      "|1962-12-12 00:00:00|        0.0|  1.1464844|   1.140625|  1.1464844| 0.011056036| 243200.0|   PG|       0|1962|   12|      1|\n",
      "|1962-12-12 00:00:00|  1.5364584|  1.5364584|  1.4791666|  1.4947916|  0.13123469| 374400.0|  CAT|       0|1962|   12|      1|\n",
      "|1962-12-12 00:00:00|    5.05997|   5.153673|  5.0248313|  5.0365443|   1.1877184|  64600.0| ARNC|       0|1962|   12|      1|\n",
      "|1962-12-12 00:00:00|        0.0| 0.12934028| 0.12847222| 0.12934028|1.6395788E-4|1267200.0|   MO|       0|1962|   12|      1|\n",
      "|1962-12-12 00:00:00|        0.0|  0.1736111|  0.1724537|  0.1730324|4.9259086E-7| 518400.0|  JNJ|       0|1962|   12|      1|\n",
      "|1962-12-12 00:00:00|        0.0|  5.4895835|  5.3958335|    5.40625|   0.7236321|  42000.0|   FL|       0|1962|   12|      1|\n",
      "|1962-12-12 00:00:00|        0.0|  1.8242188|   1.796875|     1.8125| 0.016743153|1340800.0|  XOM|       0|1962|   12|      1|\n",
      "|1962-12-12 00:00:00|        0.0|  6.9958086|  6.8725348|    6.96499|   0.6319797|  63600.0|   IP|       0|1962|   12|      1|\n",
      "|1962-12-12 00:00:00|  0.0707725| 0.07233136|  0.0707725| 0.07233136| 0.027908275| 311400.0|  DIS|       0|1962|   12|      1|\n",
      "|1962-12-12 00:00:00| 0.21907552| 0.22005208|    0.21875| 0.22005208|0.0036465353| 883200.0|   KO|       0|1962|   12|      1|\n",
      "|1962-12-12 00:00:00|   5.193333|       5.26|   5.193333|       5.25|  0.42581895| 768000.0|  IBM|       0|1962|   12|      1|\n",
      "|1962-12-12 00:00:00|    5.40675|   5.506875|   5.346675|   5.354685|   1.2864289|  60500.0|   AA|       0|1962|   12|      1|\n",
      "|1962-12-12 00:00:00|        0.0|  3.8764882|  3.8244047|  3.8318453|  0.06259275| 204800.0|  CVX|       0|1962|   12|      1|\n",
      "|1962-12-12 00:00:00|        0.0|     8.3125|        8.0|     8.1875|   1.4641743|  43200.0|   GT|       0|1962|   12|      1|\n",
      "|1962-12-12 00:00:00|        0.0|    10.1875|  10.046875|   10.15625|  0.23734972|  68800.0|   ED|       0|1962|   12|      1|\n",
      "|1962-12-12 00:00:00|        0.0|      31.75|    31.1875|       31.5|   0.5411337|   4000.0|  DTE|       0|1962|   12|      1|\n",
      "|1962-12-12 00:00:00|        0.0|    244.375|       null|     241.25|   113.17572|    600.0|  NAV|       1|1962|   12|      1|\n",
      "|1962-12-12 00:00:00| 0.08470637| 0.08692382|0.084262885| 0.08514986| 0.004722707| 535500.0|  HPQ|       0|1962|   12|      1|\n",
      "|1962-12-11 00:00:00|        0.0|  3.8764882|  3.8467262|  3.8764882|    0.063322| 188800.0|  CVX|       0|1962|   12|      1|\n",
      "|1962-12-11 00:00:00|        0.0|  5.4583335|  5.3958335|  5.4166665|   0.7250263|  40800.0|   FL|       0|1962|   12|      1|\n",
      "|1962-12-11 00:00:00|        0.0|      8.125|    7.84375|        8.0|   1.4306409|  24800.0|   GT|       0|1962|   12|      1|\n",
      "|1962-12-11 00:00:00|        0.0|  0.1712963|  0.1712963|  0.1712963|4.8764855E-7| 302400.0|  JNJ|       0|1962|   12|      1|\n",
      "|1962-12-11 00:00:00|        0.0|   7.026627|  6.9341717|    6.96499|   0.6319797|  72600.0|   IP|       0|1962|   12|      1|\n",
      "|1962-12-11 00:00:00|        0.0|       10.0|    9.96875|       10.0|   0.2336982| 102400.0|   ED|       0|1962|   12|      1|\n",
      "|1962-12-11 00:00:00|  0.0707725| 0.07108427|  0.0707725|  0.0707725| 0.027306817| 233500.0|  DIS|       0|1962|   12|      1|\n",
      "|1962-12-11 00:00:00|  5.1866665|   5.233333|       5.15|  5.1666665|  0.41906008|1128000.0|  IBM|       0|1962|   12|      1|\n",
      "|1962-12-11 00:00:00|        0.0|  1.1523438|   1.140625|  1.1523438| 0.011112544| 268800.0|   PG|       0|1962|   12|      1|\n",
      "|1962-12-11 00:00:00|        0.0|      31.25|    31.0625|      31.25|  0.53683877|   1600.0|  DTE|       0|1962|   12|      1|\n",
      "|1962-12-11 00:00:00|  0.0838194| 0.08559335|  0.0838194| 0.08470637|0.0046981126| 789100.0|  HPQ|       0|1962|   12|      1|\n",
      "|1962-12-11 00:00:00| 0.21744792| 0.22005208| 0.21744792| 0.21907552| 0.003630353| 960000.0|   KO|       0|1962|   12|      1|\n",
      "|1962-12-11 00:00:00|   5.354685|    5.43078|   5.330655|    5.40675|   1.2989377|  54500.0|   AA|       0|1962|   12|      1|\n",
      "|1962-12-11 00:00:00|  5.0365443|  5.0951085|  5.0014057|    5.05997|    1.193243|  58200.0| ARNC|       0|1962|   12|      1|\n",
      "|1962-12-11 00:00:00|        0.0|   1.796875|  1.7695312|  1.7929688| 0.016562723| 915200.0|  XOM|       0|1962|   12|      1|\n",
      "|1962-12-11 00:00:00|        0.0|    244.375|       null|    244.375|   114.64173|    400.0|  NAV|       1|1962|   12|      1|\n",
      "|1962-12-11 00:00:00| 0.75746197| 0.76121795| 0.74869794| 0.75746197|0.0018416424|2296300.0|   GE|       0|1962|   12|      1|\n",
      "|1962-12-11 00:00:00|  1.5416666|  1.5416666|  1.5208334|  1.5416666|  0.13534991| 408000.0|  CAT|       0|1962|   12|      1|\n",
      "|1962-12-11 00:00:00|        0.0|  0.1297743| 0.12586805|  0.1297743|1.6450805E-4|1440000.0|   MO|       0|1962|   12|      1|\n",
      "|1962-12-10 00:00:00|        0.0|  1.8085938|  1.7734375|  1.7734375| 0.016382296| 918400.0|  XOM|       0|1962|   12|      1|\n",
      "|1962-12-10 00:00:00|        0.0|  3.8988094|  3.8541667|  3.8839285|  0.06344354| 150400.0|  CVX|       0|1962|   12|      1|\n",
      "|1962-12-10 00:00:00|        0.0|  5.5729165|  5.4479165|  5.4479165|   0.7292088|  21600.0|   FL|       0|1962|   12|      1|\n",
      "|1962-12-10 00:00:00| 0.22363281| 0.22363281| 0.21647136| 0.21647136| 0.003587199| 844800.0|   KO|       0|1962|   12|      1|\n",
      "|1962-12-10 00:00:00|        0.0|   7.119083|   6.903353|  6.9958086|  0.63477635|  98500.0|   IP|       0|1962|   12|      1|\n",
      "|1962-12-10 00:00:00|        0.0|   9.984375|   9.953125|   9.953125|  0.23260257|  26400.0|   ED|       0|1962|   12|      1|\n",
      "|1962-12-10 00:00:00|  1.5729166|  1.5833334|  1.5416666|  1.5416666|  0.13534991| 441600.0|  CAT|       0|1962|   12|      1|\n",
      "|1962-12-10 00:00:00| 0.76121795|   0.767478| 0.75746197| 0.75746197|0.0018416424|1707200.0|   GE|       0|1962|   12|      1|\n",
      "|1962-12-10 00:00:00|        0.0| 0.17534722|  0.1724537|  0.1724537|4.9094336E-7| 302400.0|  JNJ|       0|1962|   12|      1|\n",
      "|1962-12-10 00:00:00|        0.0|     8.1875|     7.8125|     8.0625|     1.44182|  36800.0|   GT|       0|1962|   12|      1|\n",
      "|1962-12-10 00:00:00|        0.0|    31.0625|       31.0|    31.0625|   0.5336177|   2200.0|  DTE|       0|1962|   12|      1|\n",
      "|1962-12-10 00:00:00|        0.0|    249.375|       null|      247.5|    114.7004|   2200.0|  NAV|       1|1962|   12|      1|\n",
      "|1962-12-10 00:00:00|        5.3|  5.3433332|  5.1866665|  5.1866665|   0.4206819|1475200.0|  IBM|       0|1962|   12|      1|\n",
      "|1962-12-10 00:00:00|   5.083396|   5.200525|  5.0365443|  5.0365443|   1.1877184|  72500.0| ARNC|       0|1962|   12|      1|\n",
      "|1962-12-10 00:00:00|        0.0|    1.15625|  1.1445312|  1.1503906| 0.011093704| 134400.0|   PG|       0|1962|   12|      1|\n",
      "|1962-12-10 00:00:00|        0.0| 0.13042535| 0.12760417| 0.12760417|1.6175711E-4|1670400.0|   MO|       0|1962|   12|      1|\n",
      "|1962-12-10 00:00:00|0.071396045|0.071396045| 0.07014895| 0.07014895|  0.02706622| 350300.0|  DIS|       0|1962|   12|      1|\n",
      "|1962-12-10 00:00:00|    5.42277|   5.538915|   5.354685|   5.354685|   1.2864289|  67900.0|   AA|       0|1962|   12|      1|\n",
      "|1962-12-10 00:00:00| 0.09047173| 0.09091522| 0.08337591| 0.08337591|0.0046243123|1465600.0|  HPQ|       0|1962|   12|      1|\n",
      "|1962-12-07 00:00:00|        0.0|  3.8690476|   3.794643|  3.8690476|  0.06320045| 160000.0|  CVX|       0|1962|   12|      1|\n",
      "|1962-12-07 00:00:00|        0.0|  5.5833335|        5.5|  5.5416665|   0.7417576|  40800.0|   FL|       0|1962|   12|      1|\n",
      "|1962-12-07 00:00:00|        0.0|    251.875|       null|      250.0|   115.85895|   1400.0|  NAV|       1|1962|   12|      1|\n",
      "|1962-12-07 00:00:00|        0.0|  7.0574455|  6.9341717|   7.026627|   0.6375721|  59600.0|   IP|       0|1962|   12|      1|\n",
      "|1962-12-07 00:00:00| 0.07233136| 0.07233136|0.071396045|0.071396045| 0.027547402| 350300.0|  DIS|       0|1962|   12|      1|\n",
      "|1962-12-07 00:00:00|  0.2233073| 0.22395833| 0.22265625| 0.22395833|0.0037112657| 921600.0|   KO|       0|1962|   12|      1|\n",
      "|1962-12-07 00:00:00|        0.0|       31.0|    30.8125|       31.0|  0.53254414|   2200.0|  DTE|       0|1962|   12|      1|\n",
      "|1962-12-07 00:00:00|        0.0| 0.13172743| 0.13085938| 0.13085938|1.6588344E-4| 691200.0|   MO|       0|1962|   12|      1|\n",
      "|1962-12-07 00:00:00|        0.0|        8.0|    7.78125|      7.875|   1.4082898|  29600.0|   GT|       0|1962|   12|      1|\n",
      "|1962-12-07 00:00:00| 0.09135871| 0.09135871|0.089141265| 0.09047173|0.0050178785| 479100.0|  HPQ|       0|1962|   12|      1|\n",
      "|1962-12-07 00:00:00| 0.75746197| 0.76622593|  0.7537059| 0.76121795|0.0018507737|1867000.0|   GE|       0|1962|   12|      1|\n",
      "|1962-12-07 00:00:00|   1.578125|   1.578125|  1.5520834|  1.5729166|   0.1380936|  96000.0|  CAT|       0|1962|   12|      1|\n",
      "|1962-12-07 00:00:00|  5.3133335|       5.37|        5.3|        5.3|  0.42987448|1115200.0|  IBM|       0|1962|   12|      1|\n",
      "|1962-12-07 00:00:00|        0.0|  1.8203125|  1.7851562|     1.8125| 0.016743153|1846400.0|  XOM|       0|1962|   12|      1|\n",
      "|1962-12-07 00:00:00|        0.0| 0.17476852|   0.171875| 0.17476852|4.9753334E-7| 388800.0|  JNJ|       0|1962|   12|      1|\n",
      "|1962-12-07 00:00:00|        0.0|   9.984375|    9.96875|    9.96875|  0.23296793|  18400.0|   ED|       0|1962|   12|      1|\n",
      "|1962-12-07 00:00:00|   5.083396|   5.083396|  5.0365443|   5.083396|    1.198768|  44800.0| ARNC|       0|1962|   12|      1|\n",
      "|1962-12-07 00:00:00|    5.42277|    5.42277|   5.354685|    5.42277|   1.3027864|  41900.0|   AA|       0|1962|   12|      1|\n",
      "|1962-12-07 00:00:00|        0.0|  1.1582031|  1.1445312|  1.1542969| 0.011131378| 198400.0|   PG|       0|1962|   12|      1|\n",
      "|1962-12-06 00:00:00|        0.0|  1.1660156|  1.1445312|  1.1445312| 0.011037199| 435200.0|   PG|       0|1962|   12|      1|\n",
      "|1962-12-06 00:00:00|        0.0|  1.8046875|    1.78125|  1.7929688| 0.016562723|1126400.0|  XOM|       0|1962|   12|      1|\n",
      "|1962-12-06 00:00:00|        0.0|  3.8541667|  3.7872024|  3.8244047| 0.062471222| 257600.0|  CVX|       0|1962|   12|      1|\n",
      "|1962-12-06 00:00:00|        0.0|  0.1730324|  0.1712963|  0.1724537|4.9094336E-7| 388800.0|  JNJ|       0|1962|   12|      1|\n",
      "|1962-12-06 00:00:00|        0.0|  5.6145835|     5.5625|  5.5833335|  0.74733526|  44400.0|   FL|       0|1962|   12|      1|\n",
      "|1962-12-06 00:00:00|        0.0|       31.0|     30.875|     30.875|   0.5303969|   3200.0|  DTE|       0|1962|   12|      1|\n",
      "|1962-12-06 00:00:00|        0.0|  7.0574455|  6.9341717|   7.026627|   0.6375721|  70100.0|   IP|       0|1962|   12|      1|\n",
      "|1962-12-06 00:00:00|        0.0|    249.375|       null|    249.375|   115.56933|    500.0|  NAV|       1|1962|   12|      1|\n",
      "|1962-12-06 00:00:00|  1.5520834|   1.578125|   1.546875|   1.578125|  0.13855079| 127200.0|  CAT|       0|1962|   12|      1|\n",
      "|1962-12-06 00:00:00|        0.0|     8.1875|        8.0|        8.0|   1.4306409| 166800.0|   GT|       0|1962|   12|      1|\n",
      "|1962-12-06 00:00:00| 0.07295491| 0.07295491| 0.07233136| 0.07295491|  0.02814887| 350300.0|  DIS|       0|1962|   12|      1|\n",
      "|1962-12-06 00:00:00|0.093576156|0.093576156| 0.09047173| 0.09224568|0.0051162667|1042800.0|  HPQ|       0|1962|   12|      1|\n",
      "|1962-12-06 00:00:00|   5.188812|   5.188812|    5.05997|  5.1302476|   1.2098167|  86000.0| ARNC|       0|1962|   12|      1|\n",
      "|1962-12-06 00:00:00|   5.530905|   5.530905|    5.40675|    5.45481|   1.3104835|  80500.0|   AA|       0|1962|   12|      1|\n",
      "|1962-12-06 00:00:00|        0.0|   9.984375|     9.9375|   9.984375|    0.233333|  30400.0|   ED|       0|1962|   12|      1|\n",
      "|1962-12-06 00:00:00|        0.0| 0.13259548|  0.1310764| 0.13151042|1.6670875E-4| 864000.0|   MO|       0|1962|   12|      1|\n",
      "|1962-12-06 00:00:00| 0.22460938| 0.22460938| 0.22265625|  0.2233073| 0.003700475| 998400.0|   KO|       0|1962|   12|      1|\n",
      "|1962-12-06 00:00:00|  5.3166666|   5.383333|   5.306667|  5.3133335|  0.43095598|1384000.0|  IBM|       0|1962|   12|      1|\n",
      "|1962-12-06 00:00:00| 0.76121795| 0.76497394|  0.7562099| 0.75746197|0.0018416424|2146500.0|   GE|       0|1962|   12|      1|\n",
      "|1962-12-05 00:00:00|        0.0|  1.8046875|  1.7773438|  1.8007812| 0.016634878|1932800.0|  XOM|       0|1962|   12|      1|\n",
      "|1962-12-05 00:00:00|        0.0|    3.90625|  3.8541667|  3.8541667| 0.062957354| 286400.0|  CVX|       0|1962|   12|      1|\n",
      "|1962-12-05 00:00:00|        0.0|  5.6458335|    5.59375|  5.6041665|  0.75012344|  39600.0|   FL|       0|1962|   12|      1|\n",
      "|1962-12-05 00:00:00| 0.07326668|0.073890224| 0.07295491| 0.07295491|  0.02814887| 973100.0|  DIS|       0|1962|   12|      1|\n",
      "|1962-12-05 00:00:00|        0.0|    6.96499|  6.8725348|    6.96499|   0.6319797|  81100.0|   IP|       0|1962|   12|      1|\n",
      "|1962-12-05 00:00:00|        0.0|    8.28125|    8.09375|    8.09375|    1.447408|  36000.0|   GT|       0|1962|   12|      1|\n",
      "|1962-12-05 00:00:00| 0.09535011| 0.09535011| 0.09313266|0.094019644|0.0052146544|2649400.0|  HPQ|       0|1962|   12|      1|\n",
      "|1962-12-05 00:00:00|  1.5677084|  1.5729166|  1.5520834|  1.5520834|   0.1362646| 182400.0|  CAT|       0|1962|   12|      1|\n",
      "|1962-12-05 00:00:00|        0.0|    1.15625|  1.1484375|  1.1523438| 0.011112544| 262400.0|   PG|       0|1962|   12|      1|\n",
      "|1962-12-05 00:00:00|        0.0|   9.984375|   9.921875|   9.921875|  0.23187234|  22400.0|   ED|       0|1962|   12|      1|\n",
      "|1962-12-05 00:00:00|        0.0|       31.0|      30.75|       31.0|  0.53254414|   3200.0|  DTE|       0|1962|   12|      1|\n",
      "|1962-12-05 00:00:00| 0.22526042| 0.22623698| 0.22526042| 0.22623698| 0.003749025|1228800.0|   KO|       0|1962|   12|      1|\n",
      "|1962-12-05 00:00:00|  5.1770988|   5.270802|  5.1770988|  5.2473764|   1.2374376|  62500.0| ARNC|       0|1962|   12|      1|\n",
      "|1962-12-05 00:00:00|  5.3366666|  5.4133334|  5.3166666|  5.3166666|  0.43122628|2139200.0|  IBM|       0|1962|   12|      1|\n",
      "|1962-12-05 00:00:00|        0.0| 0.17447917|   0.171875|   0.171875|4.8929604E-7| 475200.0|  JNJ|       0|1962|   12|      1|\n",
      "|1962-12-05 00:00:00|        0.0|     248.75|       null|     248.75|  115.279655|    500.0|  NAV|       1|1962|   12|      1|\n",
      "|1962-12-05 00:00:00|  0.7524539| 0.76622593|  0.7524539| 0.76121795|0.0018507737|2515900.0|   GE|       0|1962|   12|      1|\n",
      "|1962-12-05 00:00:00|   5.522895|    5.62302|   5.522895|      5.607|   1.3470464|  58500.0|   AA|       0|1962|   12|      1|\n",
      "|1962-12-05 00:00:00|        0.0| 0.13628472| 0.13324653| 0.13324653|1.6890952E-4|1728000.0|   MO|       0|1962|   12|      1|\n",
      "|1962-12-04 00:00:00|        0.0|   3.861607|   3.794643|  3.8392856|  0.06271432| 243200.0|  CVX|       0|1962|   12|      1|\n",
      "|1962-12-04 00:00:00|        0.0|      5.625|    5.59375|  5.6041665|  0.75012344|  26400.0|   FL|       0|1962|   12|      1|\n",
      "|1962-12-04 00:00:00|        0.0|   9.984375|    9.90625|   9.984375|    0.233333|  30400.0|   ED|       0|1962|   12|      1|\n",
      "|1962-12-04 00:00:00|        0.0| 0.13519965| 0.13237847| 0.13519965|1.7138537E-4| 691200.0|   MO|       0|1962|   12|      1|\n",
      "|1962-12-04 00:00:00|        0.0|  6.9341717|   6.718442|   6.903353|   0.6263869|  55100.0|   IP|       0|1962|   12|      1|\n",
      "|1962-12-04 00:00:00|        0.0|    30.9375|     30.625|     30.625|  0.52610254|   3200.0|  DTE|       0|1962|   12|      1|\n",
      "|1962-12-04 00:00:00|0.089141265| 0.09535011|0.089141265| 0.09535011| 0.005288449|4566000.0|  HPQ|       0|1962|   12|      1|\n",
      "|1962-12-04 00:00:00|   5.233333|      5.345|   5.233333|  5.3366666|  0.43284824|1755200.0|  IBM|       0|1962|   12|      1|\n",
      "|1962-12-04 00:00:00|        0.0|  0.1724537|  0.1707176|   0.171875|4.8929604E-7| 216000.0|  JNJ|       0|1962|   12|      1|\n",
      "|1962-12-04 00:00:00|        0.0|       8.25|        8.0|    8.21875|   1.4697618|  26400.0|   GT|       0|1962|   12|      1|\n",
      "|1962-12-04 00:00:00|        0.0|    249.375|       null|    249.375|   115.56933|    500.0|  NAV|       1|1962|   12|      1|\n",
      "|1962-12-04 00:00:00| 0.22005208| 0.22591145| 0.22005208| 0.22460938|0.0037220537|1267200.0|   KO|       0|1962|   12|      1|\n",
      "|1962-12-04 00:00:00| 0.74744594|  0.7562099| 0.74744594|  0.7524539|0.0018294655|1597400.0|   GE|       0|1962|   12|      1|\n",
      "|1962-12-04 00:00:00|    5.41476|   5.554935|    5.41476|   5.514885|    1.324916|  77900.0|   AA|       0|1962|   12|      1|\n",
      "|1962-12-04 00:00:00|   5.071683|  5.2239504|   5.071683|   5.165386|   1.2181027|  83200.0| ARNC|       0|1962|   12|      1|\n",
      "|1962-12-04 00:00:00|        0.0|  1.1523438|  1.1210938|  1.1503906| 0.011093704| 320000.0|   PG|       0|1962|   12|      1|\n",
      "|1962-12-04 00:00:00|0.072019584|0.073578455|0.072019584| 0.07326668| 0.028269155| 700600.0|  DIS|       0|1962|   12|      1|\n",
      "|1962-12-04 00:00:00|  1.5104166|  1.5677084|  1.5104166|  1.5677084|  0.13763636| 206400.0|  CAT|       0|1962|   12|      1|\n",
      "|1962-12-04 00:00:00|        0.0|  1.7773438|  1.7578125|  1.7773438| 0.016418396| 896000.0|  XOM|       0|1962|   12|      1|\n",
      "|1962-12-03 00:00:00|        0.0|  0.1730324|  0.1707176|  0.1707176|4.8600106E-7| 432000.0|  JNJ|       0|1962|   12|      1|\n",
      "|1962-12-03 00:00:00|        0.0|  1.1230469|  1.1035156|  1.1171875| 0.010773509| 358400.0|   PG|       0|1962|   12|      1|\n",
      "|1962-12-03 00:00:00|        0.0|   1.765625|  1.7460938|  1.7578125| 0.016237961| 697600.0|  XOM|       0|1962|   12|      1|\n",
      "|1962-12-03 00:00:00|        0.0|  3.8244047|       3.75|  3.8244047| 0.062471222| 270400.0|  CVX|       0|1962|   12|      1|\n",
      "|1962-12-03 00:00:00|        0.0|  5.6770835|  5.5833335|  5.6041665|  0.75012344|  20400.0|   FL|       0|1962|   12|      1|\n",
      "|1962-12-03 00:00:00|  1.5052084|  1.5208334|  1.5052084|  1.5104166|  0.13260642|  81600.0|  CAT|       0|1962|   12|      1|\n",
      "|1962-12-03 00:00:00|        0.0|   6.903353|   6.780079|   6.780079|   0.6152013|  39700.0|   IP|       0|1962|   12|      1|\n",
      "|1962-12-03 00:00:00|        0.0|    31.0625|    30.9375|    30.9375|  0.53147066|   3600.0|  DTE|       0|1962|   12|      1|\n",
      "|1962-12-03 00:00:00|   5.153673|   5.153673|  5.0131183|    5.05997|    1.193243|  73200.0| ARNC|       0|1962|   12|      1|\n",
      "|1962-12-03 00:00:00|  0.2233073|  0.2233073| 0.22005208| 0.22005208|0.0036465353|1651200.0|   KO|       0|1962|   12|      1|\n",
      "|1962-12-03 00:00:00|        0.0|    8.21875|    8.03125|     8.1875|   1.4641743|  25600.0|   GT|       0|1962|   12|      1|\n",
      "|1962-12-03 00:00:00|        0.0|      247.5|       null|      247.5|    114.7004|    500.0|  NAV|       1|1962|   12|      1|\n",
      "|1962-12-03 00:00:00|0.072019584| 0.07233136|0.072019584|0.072019584| 0.027787965| 389200.0|  DIS|       0|1962|   12|      1|\n",
      "|1962-12-03 00:00:00|       5.26|       5.26|  5.2033334|       5.22|  0.42338556|1288000.0|  IBM|       0|1962|   12|      1|\n",
      "|1962-12-03 00:00:00|  0.6399177|  0.6399177| 0.63374484| 0.63580245|  0.11784279| 546600.0|   BA|       0|1962|   12|      1|\n",
      "|1962-12-03 00:00:00|        0.0| 0.13368055| 0.13259548| 0.13368055|1.6945974E-4| 633600.0|   MO|       0|1962|   12|      1|\n",
      "|1962-12-03 00:00:00|        0.0|   9.984375|   9.921875|     9.9375|   0.2322375|  20000.0|   ED|       0|1962|   12|      1|\n",
      "|1962-12-03 00:00:00|0.088697776| 0.08958475| 0.08736731|0.089141265|0.0049440833|1691100.0|  HPQ|       0|1962|   12|      1|\n",
      "|1962-12-03 00:00:00|   5.506875|   5.506875|   5.338665|    5.40675|   1.2989377|  68500.0|   AA|       0|1962|   12|      1|\n",
      "|1962-12-03 00:00:00| 0.74869794| 0.74869794|  0.7424379| 0.74744594|0.0018172906|1417700.0|   GE|       0|1962|   12|      1|\n",
      "|1962-11-30 00:00:00|        0.0|  3.7797618|   3.735119|   3.764881| 0.061498918| 260800.0|  CVX|       0|1962|   11|      1|\n",
      "|1962-11-30 00:00:00|        0.0|  5.7916665|  5.6666665|  5.7083335|   0.7640669|  20400.0|   FL|       0|1962|   11|      1|\n",
      "|1962-11-30 00:00:00|        0.0|    246.875|     243.75|      245.0|  113.541756|    600.0|  NAV|       0|1962|   11|      1|\n",
      "|1962-11-30 00:00:00|        0.0| 0.13498265| 0.13368055| 0.13368055|1.6945974E-4| 345600.0|   MO|       0|1962|   11|      1|\n",
      "|1962-11-30 00:00:00|        0.0|  6.9958086|   6.903353|   6.903353|   0.6263869|  32800.0|   IP|       0|1962|   11|      1|\n",
      "|1962-11-30 00:00:00| 0.07482555| 0.07482555|0.069837175|0.071396045| 0.027547402|2374400.0|  DIS|       0|1962|   11|      1|\n",
      "|1962-11-30 00:00:00| 0.21679688| 0.22460938| 0.21679688| 0.22460938|0.0037220537|2035200.0|   KO|       0|1962|   11|      1|\n",
      "|1962-11-30 00:00:00|  5.3293667|   5.341079|   5.153673|  5.1770988|   1.2208649|  77500.0| ARNC|       0|1962|   11|      1|\n",
      "|1962-11-30 00:00:00|        0.0|  0.1736111|   0.171875|  0.1736111|4.9423835E-7| 864000.0|  JNJ|       0|1962|   11|      1|\n",
      "|1962-11-30 00:00:00|        0.0|     8.4375|    8.09375|       8.25|   1.4753512|  44800.0|   GT|       0|1962|   11|      1|\n",
      "|1962-11-30 00:00:00|  0.0878108|0.088697776|  0.0878108|0.088697776| 0.004919491|1127400.0|  HPQ|       0|1962|   11|      1|\n",
      "|1962-11-30 00:00:00| 0.64248973| 0.64248973| 0.63580245|  0.6399177| 0.118605465|1123400.0|   BA|       0|1962|   11|      1|\n",
      "|1962-11-30 00:00:00| 0.74994993|  0.7512019| 0.74744594| 0.74869794| 0.001820334|1028300.0|   GE|       0|1962|   11|      1|\n",
      "|1962-11-30 00:00:00|   5.346667|  5.3566666|  5.2966666|  5.3133335|  0.43095598|1299200.0|  IBM|       0|1962|   11|      1|\n",
      "|1962-11-30 00:00:00|        0.0|     31.125|    30.9375|       31.0|  0.53254414|   4400.0|  DTE|       0|1962|   11|      1|\n",
      "|1962-11-30 00:00:00|        0.0|  1.1230469|  1.1035156|   1.109375| 0.010698171| 384000.0|   PG|       0|1962|   11|      1|\n",
      "|1962-11-30 00:00:00|        0.0|   9.984375|     9.9375|     9.9375|   0.2322375|  35200.0|   ED|       0|1962|   11|      1|\n",
      "|1962-11-30 00:00:00|  1.5052084|        0.0|  1.5052084|  1.5052084|  0.13214913| 124800.0|  CAT|       0|1962|   11|      1|\n",
      "|1962-11-30 00:00:00|    5.66307|   5.707125|   5.506875|   5.522895|   1.3268418|  72500.0|   AA|       0|1962|   11|      1|\n",
      "|1962-11-30 00:00:00|        0.0|  1.7773438|  1.7617188|  1.7617188| 0.016274048| 806400.0|  XOM|       0|1962|   11|      1|\n",
      "|1962-11-29 00:00:00|        0.0|  1.7773438|       1.75|  1.7773438| 0.016418396|1200000.0|  XOM|       0|1962|   11|      1|\n",
      "|1962-11-29 00:00:00|        0.0|   3.764881|  3.6160715|  3.7425594| 0.061134316| 510400.0|  CVX|       0|1962|   11|      1|\n",
      "|1962-11-29 00:00:00|        0.0|    5.84375|  5.7916665|  5.7916665|   0.7752206|  40800.0|   FL|       0|1962|   11|      1|\n",
      "|1962-11-29 00:00:00|        0.0|    8.46875|    8.21875|     8.4375|   1.5088817|  44000.0|   GT|       0|1962|   11|      1|\n",
      "|1962-11-29 00:00:00|        0.0|  6.9958086|  6.8108974|  6.9341717|  0.62918353|  90000.0|   IP|       0|1962|   11|      1|\n",
      "|1962-11-29 00:00:00|        0.0|       10.0|   9.921875|       10.0|   0.2336982|  42400.0|   ED|       0|1962|   11|      1|\n",
      "|1962-11-29 00:00:00|        0.0|     31.125|    30.8125|       31.0|  0.53254414|   2000.0|  DTE|       0|1962|   11|      1|\n",
      "|1962-11-29 00:00:00| 0.63580245|  0.6440329| 0.63374484|  0.6440329|  0.11936817|1737200.0|   BA|       0|1962|   11|      1|\n",
      "|1962-11-29 00:00:00|  0.2154948| 0.21614583|  0.2154948| 0.21614583|0.0035818045|1113600.0|   KO|       0|1962|   11|      1|\n",
      "|1962-11-29 00:00:00|        0.0| 0.17476852|   0.171875|  0.1736111|4.9423835E-7| 561600.0|  JNJ|       0|1962|   11|      1|\n",
      "|1962-11-29 00:00:00|        0.0|    248.125|      245.0|      245.0|  113.541756|    400.0|  NAV|       0|1962|   11|      1|\n",
      "|1962-11-29 00:00:00| 0.07513732| 0.07576086| 0.07451377| 0.07482555|  0.02887064| 544900.0|  DIS|       0|1962|   11|      1|\n",
      "|1962-11-29 00:00:00| 0.74869794| 0.74994993|  0.7449419| 0.74994993|0.0018233774|1447600.0|   GE|       0|1962|   11|      1|\n",
      "|1962-11-29 00:00:00|  5.4347825|  5.4582086|   5.294228|  5.3293667|   1.2567728|  83200.0| ARNC|       0|1962|   11|      1|\n",
      "|1962-11-29 00:00:00|        5.3|   5.346667|       5.29|   5.346667|   0.4336594|1752000.0|  IBM|       0|1962|   11|      1|\n",
      "|1962-11-29 00:00:00|        0.0|  1.1171875|  1.1015625|  1.1113281| 0.010717012| 313600.0|   PG|       0|1962|   11|      1|\n",
      "|1962-11-29 00:00:00|        0.0| 0.13498265| 0.13216145| 0.13498265|1.7111028E-4|1728000.0|   MO|       0|1962|   11|      1|\n",
      "|1962-11-29 00:00:00|0.088697776| 0.08958475| 0.08736731|  0.0878108|0.0048702923| 591800.0|  HPQ|       0|1962|   11|      1|\n",
      "|1962-11-29 00:00:00|  1.5052084|        0.0|  1.5052084|  1.5052084|  0.13214913| 132000.0|  CAT|       0|1962|   11|      1|\n",
      "|1962-11-29 00:00:00|    5.80725|    5.82327|    5.63904|    5.66307|   1.3605173|  77900.0|   AA|       0|1962|   11|      1|\n",
      "|1962-11-28 00:00:00|        0.0|  1.1210938|  1.1171875|  1.1171875| 0.010773509| 268800.0|   PG|       0|1962|   11|      1|\n",
      "|1962-11-28 00:00:00|        0.0|  1.7578125|  1.7421875|       1.75| 0.016165799|1139200.0|  XOM|       0|1962|   11|      1|\n",
      "|1962-11-28 00:00:00|        0.0|  3.6011906|  3.5565476|  3.6011906| 0.058825083| 344000.0|  CVX|       0|1962|   11|      1|\n",
      "|1962-11-28 00:00:00|        0.0|  5.8333335|  5.7708335|  5.8020835|   0.7766146|  45600.0|   FL|       0|1962|   11|      1|\n",
      "|1962-11-28 00:00:00|        0.0|       31.0|      30.75|       31.0|  0.53254414|   1200.0|  DTE|       0|1962|   11|      1|\n",
      "|1962-11-28 00:00:00|        0.0| 0.13867188|  0.1345486|  0.1345486|1.7056007E-4|1670400.0|   MO|       0|1962|   11|      1|\n",
      "|1962-11-28 00:00:00|        0.0|    6.96499|   6.780079|  6.9341717|  0.62918353|  58800.0|   IP|       0|1962|   11|      1|\n",
      "|1962-11-28 00:00:00|        0.0|    249.375|      247.5|     248.75|  115.279655|    300.0|  NAV|       0|1962|   11|      1|\n",
      "|1962-11-28 00:00:00| 0.21484375|  0.2154948|  0.2141927| 0.21451823|0.0035548296|1420800.0|   KO|       0|1962|   11|      1|\n",
      "|1962-11-28 00:00:00|        0.0| 0.17534722| 0.16840278| 0.17418982| 4.958861E-7| 907200.0|  JNJ|       0|1962|   11|      1|\n",
      "|1962-11-28 00:00:00|        0.0|    8.34375|    8.15625|     8.3125|   1.4865272|  43600.0|   GT|       0|1962|   11|      1|\n",
      "|1962-11-28 00:00:00| 0.07482555| 0.07576086| 0.07482555| 0.07513732| 0.028990928| 661700.0|  DIS|       0|1962|   11|      1|\n",
      "|1962-11-28 00:00:00| 0.63374484|  0.6440329| 0.63374484| 0.63580245|  0.11784279|1871000.0|   BA|       0|1962|   11|      1|\n",
      "|1962-11-28 00:00:00|  0.7461939|  0.7512019|  0.7461939| 0.74869794| 0.001820334|1936800.0|   GE|       0|1962|   11|      1|\n",
      "|1962-11-28 00:00:00|    5.65506|    5.81526|    5.65506|    5.80725|   1.3951547|  72500.0|   AA|       0|1962|   11|      1|\n",
      "|1962-11-28 00:00:00|  5.2733335|   5.346667|  5.2733335|        5.3|  0.42987448|2656000.0|  IBM|       0|1962|   11|      1|\n",
      "|1962-11-28 00:00:00|        0.0|   10.03125|   9.921875|   9.921875|  0.23187234|  19200.0|   ED|       0|1962|   11|      1|\n",
      "|1962-11-28 00:00:00|0.088697776| 0.08958475|0.088697776|0.088697776| 0.004919491|1409200.0|  HPQ|       0|1962|   11|      1|\n",
      "|1962-11-28 00:00:00|        1.5|        0.0|  1.4947916|  1.5052084|  0.13214913| 177600.0|  CAT|       0|1962|   11|      1|\n",
      "|1962-11-28 00:00:00|  5.3176537|  5.4464955|  5.3176537|  5.4347825|   1.2816323|  77500.0| ARNC|       0|1962|   11|      1|\n",
      "|1962-11-27 00:00:00|        0.0|  3.5714285|   3.549107|  3.5565476| 0.058095835| 142400.0|  CVX|       0|1962|   11|      1|\n",
      "|1962-11-27 00:00:00|        0.0|  5.7083335|  5.6354165|  5.7083335|   0.7640669|  36000.0|   FL|       0|1962|   11|      1|\n",
      "|1962-11-27 00:00:00|  0.2141927| 0.21484375| 0.21386719| 0.21484375|0.0035343757|1152000.0|   KO|       0|1962|   11|      1|\n",
      "|1962-11-27 00:00:00|        0.0|    6.96499|  6.8108974|  6.8725348|   0.6235909|  76200.0|   IP|       0|1962|   11|      1|\n",
      "|1962-11-27 00:00:00|        0.0|    30.9375|      30.75|     30.875|   0.5303969|   1600.0|  DTE|       0|1962|   11|      1|\n",
      "|1962-11-27 00:00:00|  0.7461939| 0.74869794|  0.7399339|  0.7461939|0.0018142454|1198000.0|   GE|       0|1962|   11|      1|\n",
      "|1962-11-27 00:00:00|  0.6440329|  0.6522634| 0.63374484| 0.63374484|  0.11746136|2028800.0|   BA|       0|1962|   11|      1|\n",
      "|1962-11-27 00:00:00|        0.0| 0.16898148| 0.16782407| 0.16898148| 4.810583E-7| 691200.0|  JNJ|       0|1962|   11|      1|\n",
      "|1962-11-27 00:00:00|        0.0|       8.25|        8.0|       8.25|   1.4753512|  60800.0|   GT|       0|1962|   11|      1|\n",
      "|1962-11-27 00:00:00|        0.0|      250.0|    246.875|    248.125|   114.98999|   1400.0|  NAV|       0|1962|   11|      1|\n",
      "|1962-11-27 00:00:00|0.073578455| 0.07482555|0.073578455| 0.07482555|  0.02887064| 389200.0|  DIS|       0|1962|   11|      1|\n",
      "|1962-11-27 00:00:00|        1.5|        0.0|   1.484375|        1.5|  0.13169187| 165600.0|  CAT|       0|1962|   11|      1|\n",
      "|1962-11-27 00:00:00|  5.1833334|  5.2766666|   5.153333|  5.2633333|  0.42690063|1728000.0|  IBM|       0|1962|   11|      1|\n",
      "|1962-11-27 00:00:00|  5.1068215|   5.294228|  5.1068215|   5.294228|   1.2484865| 185600.0| ARNC|       0|1962|   11|      1|\n",
      "|1962-11-27 00:00:00|        0.0|  1.1191406|  1.1035156|  1.1191406|0.0107923485| 556800.0|   PG|       0|1962|   11|      1|\n",
      "|1962-11-27 00:00:00|        0.0|  0.1343316| 0.13020833|  0.1343316|  1.70285E-4|1728000.0|   MO|       0|1962|   11|      1|\n",
      "|1962-11-27 00:00:00|        0.0|  10.015625|      9.875|   9.984375|    0.233333|  65600.0|   ED|       0|1962|   11|      1|\n",
      "|1962-11-27 00:00:00| 0.08736731|0.089141265| 0.08736731| 0.08825429| 0.004894887|1493800.0|  HPQ|       0|1962|   11|      1|\n",
      "|1962-11-27 00:00:00|    5.43879|    5.63904|    5.43879|    5.63904|    1.354744| 173700.0|   AA|       0|1962|   11|      1|\n",
      "|1962-11-27 00:00:00|        0.0|       1.75|   1.734375|  1.7421875|  0.01609362|1088000.0|  XOM|       0|1962|   11|      1|\n",
      "|1962-11-26 00:00:00|        0.0|  1.7539062|  1.7382812|  1.7460938| 0.016129712|1056000.0|  XOM|       0|1962|   11|      1|\n",
      "|1962-11-26 00:00:00|        0.0|  3.5639882|  3.5342262|  3.5639882| 0.058217384| 140800.0|  CVX|       0|1962|   11|      1|\n",
      "|1962-11-26 00:00:00|        0.0|  5.6666665|  5.5520835|  5.6354165|   0.7543065|  58800.0|   FL|       0|1962|   11|      1|\n",
      "|1962-11-26 00:00:00| 0.07482555| 0.07638441| 0.07264313| 0.07264313| 0.028028578| 622800.0|  DIS|       0|1962|   11|      1|\n",
      "|1962-11-26 00:00:00|        0.0| 0.13085938|  0.1280382| 0.13020833|1.6505817E-4|1670400.0|   MO|       0|1962|   11|      1|\n",
      "|1962-11-26 00:00:00|        0.0|  7.0574455|  6.9341717|  6.9341717|  0.62918353|  57100.0|   IP|       0|1962|   11|      1|\n",
      "|1962-11-26 00:00:00| 0.08692382|0.088697776| 0.08603684| 0.08648033|   0.0047965|3044000.0|  HPQ|       0|1962|   11|      1|\n",
      "|1962-11-26 00:00:00| 0.21256511|  0.2154948| 0.21223958|  0.2141927|0.0035236622|1996800.0|   KO|       0|1962|   11|      1|\n",
      "|1962-11-26 00:00:00|   5.153673|  5.2239504|   5.071683|   5.071683|   1.1960062|  73200.0| ARNC|       0|1962|   11|      1|\n",
      "|1962-11-26 00:00:00|        0.0| 0.16724537| 0.16319445| 0.16666667|4.7446864E-7|1252800.0|  JNJ|       0|1962|   11|      1|\n",
      "|1962-11-26 00:00:00|        0.0|      8.125|     7.9375|    7.96875|   1.4250541|  32400.0|   GT|       0|1962|   11|      1|\n",
      "|1962-11-26 00:00:00|  0.6460905|  0.6460905|  0.6255144|  0.6440329|  0.11936817|5898600.0|   BA|       0|1962|   11|      1|\n",
      "|1962-11-26 00:00:00|  0.7537059|  0.7549579| 0.73492587|  0.7461939|0.0018142454|2196400.0|   GE|       0|1962|   11|      1|\n",
      "|1962-11-26 00:00:00|   5.173333|  5.2633333|   5.153333|  5.1833334|  0.42041162|2139200.0|  IBM|       0|1962|   11|      1|\n",
      "|1962-11-26 00:00:00|        0.0|    246.875|      242.5|    246.875|   114.41073|    600.0|  NAV|       0|1962|   11|      1|\n",
      "|1962-11-26 00:00:00|        0.0|  1.1074219|  1.0917969|  1.1015625| 0.010622837| 659200.0|   PG|       0|1962|   11|      1|\n",
      "|1962-11-26 00:00:00|        0.0|    9.96875|      9.875|     9.9375|   0.2322375|  80000.0|   ED|       0|1962|   11|      1|\n",
      "|1962-11-26 00:00:00|        1.5|        0.0|  1.4947916|        1.5|  0.13169187| 187200.0|  CAT|       0|1962|   11|      1|\n",
      "|1962-11-26 00:00:00|   5.506875|   5.554935|    5.41476|    5.41476|   1.3008609|  68500.0|   AA|       0|1962|   11|      1|\n",
      "|1962-11-26 00:00:00|        0.0|    31.1875|     30.625|     30.625|  0.52610254|   3400.0|  DTE|       0|1962|   11|      1|\n",
      "|1962-11-23 00:00:00|        0.0| 0.12890625| 0.12521702|  0.1267361|1.6065668E-4|1612800.0|   MO|       0|1962|   11|      1|\n",
      "|1962-11-23 00:00:00|        0.0| 0.16377315| 0.16001157| 0.16261575|4.6293675E-7| 345600.0|  JNJ|       0|1962|   11|      1|\n",
      "|1962-11-23 00:00:00|        0.0|    1.09375|  1.0664062|  1.0859375| 0.010472151| 640000.0|   PG|       0|1962|   11|      1|\n",
      "|1962-11-23 00:00:00|        0.0|  1.7539062|  1.7226562|  1.7539062| 0.016201891|2140800.0|  XOM|       0|1962|   11|      1|\n",
      "|1962-11-23 00:00:00|        0.0|  3.5416667|  3.4970238|  3.5193453| 0.057488132| 208000.0|  CVX|       0|1962|   11|      1|\n",
      "|1962-11-23 00:00:00|        0.0|  5.5729165|  5.5104165|  5.5416665|   0.7417576|  49200.0|   FL|       0|1962|   11|      1|\n",
      "|1962-11-23 00:00:00|        0.0|  7.0574455|   6.780079|   7.026627|   0.6375721|  75800.0|   IP|       0|1962|   11|      1|\n",
      "|1962-11-23 00:00:00|        0.0|    8.09375|     7.8125|    8.03125|   1.4362307|  29600.0|   GT|       0|1962|   11|      1|\n",
      "|1962-11-23 00:00:00|        0.0|     31.125|      30.75|     31.125|  0.53469133|   3400.0|  DTE|       0|1962|   11|      1|\n",
      "|1962-11-23 00:00:00|        0.0|    9.90625|   9.765625|      9.875|  0.23077703|  48000.0|   ED|       0|1962|   11|      1|\n",
      "+-------------------+-----------+-----------+-----------+-----------+------------+---------+-----+--------+----+-----+-------+\n",
      "only showing top 500 rows\n",
      "\n"
     ]
    }
   ],
   "source": [
    "df.orderBy(desc(\"date\")).show(500)\n"
   ]
  },
  {
   "cell_type": "markdown",
   "metadata": {},
   "source": [
    "#### Fix Completeness\n",
    "\n",
    "How do we deal with incomplete data?\n",
    "- Dropping missing values\n",
    "- Discard the incomplete column\n",
    "- Discard the rows containing missing data\n",
    "- Case deletion\n",
    "\n",
    "> ℹ️ **Instructions** ℹ️\n",
    ">\n",
    "> Use the appropriate strategy to remedy the missing data. \n",
    ">\n",
    ">*You may use as many coding cells as necessary.*"
   ]
  },
  {
   "cell_type": "code",
   "execution_count": 13,
   "metadata": {},
   "outputs": [],
   "source": [
    "#TODO: Write your code here\n",
    "#since the number of rows with missing data is relatively small (less than 1% of the total rows), \n",
    "#we will drop the rows containing missing data.\n",
    "df = df.dropna(subset=['low', 'adj_close', 'volume'])\n"
   ]
  },
  {
   "cell_type": "code",
   "execution_count": 14,
   "metadata": {},
   "outputs": [
    {
     "name": "stdout",
     "output_type": "stream",
     "text": [
      "There are 0 (0.00%) null values in date column\n",
      "There are 0 (0.00%) null values in open column\n",
      "There are 0 (0.00%) null values in high column\n",
      "There are 0 (0.00%) null values in low column\n",
      "There are 0 (0.00%) null values in close column\n",
      "There are 0 (0.00%) null values in adj_close column\n",
      "There are 0 (0.00%) null values in volume column\n",
      "There are 0 (0.00%) null values in stock column\n"
     ]
    }
   ],
   "source": [
    "#TODO: Write your code here\n",
    "# Calculate the number of null values and the percentage of null values per column\n",
    "null_counts = []\n",
    "num_rows = df.count()\n",
    "for col_name in df.columns:\n",
    "    null_count = df.filter(col(col_name).isNull()).count()\n",
    "    null_counts.append((col_name, null_count, null_count/num_rows*100))\n",
    "\n",
    "# Print the results\n",
    "for col_name, null_count, null_pct in null_counts:\n",
    "    print(f\"There are {null_count} ({null_pct:.2f}%) null values in {col_name} column\")"
   ]
  },
  {
   "cell_type": "markdown",
   "metadata": {},
   "source": [
    "### Zero Values\n",
    "\n",
    "Take a deeper look into the entries with many zero values."
   ]
  },
  {
   "cell_type": "markdown",
   "metadata": {},
   "source": [
    "#### Fix Completeness\n",
    "\n",
    "Completeness issues can be fixed through imputation of the missing data through:\n",
    "- imputation by mean/mode/median;\n",
    "- regression; or\n",
    "- KNN.\n",
    " \n",
    "> ℹ️ **Instructions** ℹ️\n",
    ">\n",
    "> Write code to identify and count the number of zeros (0) in the dataset. Include a percentage to describe the proportion of missing values per column. Output the results in the following manner:\n",
    ">\n",
    "> `There are <number_of_zeros> (<percentage>) zero values in <column_name> column`\n",
    ">\n",
    ">*You may use as many coding cells as necessary.*"
   ]
  },
  {
   "cell_type": "code",
   "execution_count": 15,
   "metadata": {},
   "outputs": [
    {
     "name": "stdout",
     "output_type": "stream",
     "text": [
      "There are 2706 (53.88%) zero values in open column\n",
      "There are 20 (0.40%) zero values in high column\n",
      "There are 0 (0.00%) zero values in low column\n",
      "There are 0 (0.00%) zero values in close column\n",
      "There are 0 (0.00%) zero values in adj_close column\n",
      "There are 27 (0.54%) zero values in volume column\n"
     ]
    }
   ],
   "source": [
    "zero_counts = []\n",
    "num_rows = df.count()\n",
    "for col_name in ['open', 'high', 'low', 'close', 'adj_close', 'volume']:\n",
    "    zero_count = df.filter(col(col_name).isNull() == False).filter(col(col_name) == 0).count()\n",
    "    zero_counts.append((col_name, zero_count, zero_count/num_rows*100))\n",
    "\n",
    "# Print the results\n",
    "for col_name, zero_count, zero_pct in zero_counts:\n",
    "    print(f\"There are {zero_count} ({zero_pct:.2f}%) zero values in {col_name} column\")\n"
   ]
  },
  {
   "cell_type": "markdown",
   "metadata": {},
   "source": [
    "From the above section, you find that there are a few columns that contain zero values. However, some of these are true zeros and are explainable. Your task is to distinguish which column should undergo data imputation.\n",
    "\n",
    "> ℹ️ **Instructions** ℹ️\n",
    ">\n",
    "> Investigate the columns with zero values and determine which one should undergo data imputation. Take note of the stock and month on which zero values occurred.\n",
    ">\n",
    ">*You may use as many coding cells as necessary.*"
   ]
  },
  {
   "cell_type": "code",
   "execution_count": 16,
   "metadata": {},
   "outputs": [
    {
     "name": "stdout",
     "output_type": "stream",
     "text": [
      "+-------------------+----+----------+----------+----------+------------+---------+-----+\n",
      "|               date|open|      high|       low|     close|   adj_close|   volume|stock|\n",
      "+-------------------+----+----------+----------+----------+------------+---------+-----+\n",
      "|1962-02-19 00:00:00| 0.0|  3.578869|      20.0|  3.549107| 0.056501225| 273600.0|  CVX|\n",
      "|1962-02-19 00:00:00| 0.0|   29.9375|     29.75|   29.9375|  0.49964145|   1600.0|  DTE|\n",
      "|1962-02-19 00:00:00| 0.0|  9.921875|  9.890625|  9.921875|  0.22499175|   8800.0|   ED|\n",
      "|1962-02-19 00:00:00| 0.0| 7.0833335| 7.0208335| 7.0208335|  0.91296524|  20400.0|   FL|\n",
      "|1962-02-19 00:00:00| 0.0|   10.9375|     10.75|   10.9375|   1.9131781|  22800.0|   GT|\n",
      "|1962-02-19 00:00:00| 0.0|  9.003848|  8.822562|  8.882991|   0.7784165|  39300.0|   IP|\n",
      "|1962-02-19 00:00:00| 0.0|0.23206018|0.23206018|0.23206018| 6.541049E-7|  43200.0|  JNJ|\n",
      "|1962-02-19 00:00:00| 0.0|0.17881945|0.17621528|0.17708333|2.1674694E-4| 460800.0|   MO|\n",
      "|1962-02-19 00:00:00| 0.0|     280.0|   276.875|   279.375|   124.94374|    600.0|  NAV|\n",
      "|1962-02-19 00:00:00| 0.0| 1.2734375|  1.265625|  1.265625| 0.012011507| 281600.0|   PG|\n",
      "|1962-02-19 00:00:00| 0.0| 1.7460938| 1.7109375| 1.7382812| 0.015494763|1657600.0|  XOM|\n",
      "|1962-02-14 00:00:00| 0.0| 3.4970238|      20.0| 3.4970238| 0.055672023| 116800.0|  CVX|\n",
      "|1962-02-14 00:00:00| 0.0|   30.1875|   29.6875|    29.875|   0.4985984|   2000.0|  DTE|\n",
      "|1962-02-14 00:00:00| 0.0|   9.90625|  9.796875|   9.90625|  0.22463761|  41600.0|   ED|\n",
      "|1962-02-14 00:00:00| 0.0| 7.0833335| 7.0520835| 7.0520835|  0.91702884|  18000.0|   FL|\n",
      "|1962-02-14 00:00:00| 0.0|  10.78125|  10.59375|  10.78125|   1.8858457|  20800.0|   GT|\n",
      "|1962-02-14 00:00:00| 0.0|  8.762134|  8.641277|  8.701706|   0.7625307|  30000.0|   IP|\n",
      "|1962-02-14 00:00:00| 0.0|0.24074075| 0.2337963| 0.2349537| 6.622604E-7|1080000.0|  JNJ|\n",
      "|1962-02-14 00:00:00| 0.0|0.17708333|0.17621528|0.17621528|2.1568447E-4| 172800.0|   MO|\n",
      "|1962-02-14 00:00:00| 0.0|   276.875|   273.125|    273.75|   122.42809|    800.0|  NAV|\n",
      "+-------------------+----+----------+----------+----------+------------+---------+-----+\n",
      "only showing top 20 rows\n",
      "\n"
     ]
    }
   ],
   "source": [
    "df.filter(df['open']==0).show()"
   ]
  },
  {
   "cell_type": "code",
   "execution_count": 17,
   "metadata": {},
   "outputs": [
    {
     "name": "stdout",
     "output_type": "stream",
     "text": [
      "+-------------------+----+----------+----------+----------+------------+------+-----+\n",
      "|               date|open|      high|       low|     close|   adj_close|volume|stock|\n",
      "+-------------------+----+----------+----------+----------+------------+------+-----+\n",
      "|1962-05-18 00:00:00| 0.0| 1.6679688| 1.6484375| 1.6679688| 0.015032374|   0.0|  XOM|\n",
      "|1962-05-24 00:00:00| 0.0| 1.6328125| 1.6171875| 1.6289062|  0.01468032|   0.0|  XOM|\n",
      "|1962-09-28 00:00:00| 0.0|0.15914352| 0.1574074|0.15914352| 4.514184E-7|   0.0|  JNJ|\n",
      "|1962-05-08 00:00:00| 0.0| 1.7265625| 1.7109375| 1.7148438| 0.015285846|   0.0|  XOM|\n",
      "|1962-01-02 00:00:00| 0.0|0.22337963|0.22222222|0.22337963| 6.281419E-7|   0.0|  JNJ|\n",
      "|1962-05-14 00:00:00| 0.0|  1.640625| 1.5820312| 1.6328125| 0.014715531|   0.0|  XOM|\n",
      "|1962-05-28 00:00:00| 0.0|    1.5625| 1.4179688|    1.4375| 0.012955305|   0.0|  XOM|\n",
      "|1962-05-25 00:00:00| 0.0| 1.6328125|  1.578125|   1.59375|  0.01436349|   0.0|  XOM|\n",
      "|1962-05-29 00:00:00| 0.0|   1.59375| 1.4179688| 1.5898438| 0.014328282|   0.0|  XOM|\n",
      "|1962-05-02 00:00:00| 0.0| 1.7148438| 1.6992188| 1.7148438| 0.015285846|   0.0|  XOM|\n",
      "|1962-05-31 00:00:00| 0.0| 1.6328125|  1.609375|     1.625| 0.014645126|   0.0|  XOM|\n",
      "|1962-05-16 00:00:00| 0.0| 1.6953125|  1.671875| 1.6796875|0.0151379965|   0.0|  XOM|\n",
      "|1962-05-07 00:00:00| 0.0| 1.7148438| 1.7070312| 1.7148438| 0.015285846|   0.0|  XOM|\n",
      "|1962-05-10 00:00:00| 0.0|    1.6875| 1.6640625| 1.6679688| 0.015032374|   0.0|  XOM|\n",
      "|1962-05-15 00:00:00| 0.0| 1.6914062| 1.6445312| 1.6796875|0.0151379965|   0.0|  XOM|\n",
      "|1962-05-01 00:00:00| 0.0| 1.6992188| 1.6601562| 1.6992188| 0.015146574|   0.0|  XOM|\n",
      "|1962-05-11 00:00:00| 0.0|  1.671875| 1.6445312| 1.6445312| 0.014821144|   0.0|  XOM|\n",
      "|1962-05-17 00:00:00| 0.0| 1.6796875| 1.6484375| 1.6640625|  0.01499716|   0.0|  XOM|\n",
      "|1962-05-21 00:00:00| 0.0|   1.65625| 1.6445312|   1.65625| 0.014926753|   0.0|  XOM|\n",
      "|1962-05-23 00:00:00| 0.0| 1.6367188| 1.6171875| 1.6210938| 0.014609924|   0.0|  XOM|\n",
      "|1962-10-15 00:00:00| 0.0|0.15856482|0.15856482|0.15856482|4.4977733E-7|   0.0|  JNJ|\n",
      "|1962-05-09 00:00:00| 0.0| 1.6953125| 1.6796875|    1.6875| 0.015208395|   0.0|  XOM|\n",
      "|1962-05-04 00:00:00| 0.0| 1.7226562| 1.7109375|   1.71875|0.0153206745|   0.0|  XOM|\n",
      "|1962-05-03 00:00:00| 0.0| 1.7304688| 1.7148438|   1.71875|0.0153206745|   0.0|  XOM|\n",
      "|1962-05-22 00:00:00| 0.0| 1.6601562| 1.6289062|  1.640625| 0.014785934|   0.0|  XOM|\n",
      "|1962-04-17 00:00:00| 0.0|   0.21875| 0.2175926|   0.21875|6.1658733E-7|   0.0|  JNJ|\n",
      "+-------------------+----+----------+----------+----------+------------+------+-----+\n",
      "\n"
     ]
    }
   ],
   "source": [
    "df.filter(df['open']==0).filter(df['volume']==0).show(27)"
   ]
  },
  {
   "cell_type": "code",
   "execution_count": 18,
   "metadata": {},
   "outputs": [
    {
     "name": "stdout",
     "output_type": "stream",
     "text": [
      "+-------------------+---------+----+---------+---------+----------+--------+-----+\n",
      "|               date|     open|high|      low|    close| adj_close|  volume|stock|\n",
      "+-------------------+---------+----+---------+---------+----------+--------+-----+\n",
      "|1962-11-05 00:00:00|1.4114584| 0.0|1.4114584|   1.4375|0.12620474|172800.0|  CAT|\n",
      "|1962-11-12 00:00:00| 1.453125| 0.0|1.4427084|1.4583334|0.12803373| 96000.0|  CAT|\n",
      "|1962-11-08 00:00:00|1.4583334| 0.0|1.4427084|1.4583334|0.12803373|129600.0|  CAT|\n",
      "|1962-11-01 00:00:00|1.3697916| 0.0|1.3697916|1.4010416| 0.1230039|136800.0|  CAT|\n",
      "|1962-11-29 00:00:00|1.5052084| 0.0|1.5052084|1.5052084|0.13214913|132000.0|  CAT|\n",
      "|1962-11-28 00:00:00|      1.5| 0.0|1.4947916|1.5052084|0.13214913|177600.0|  CAT|\n",
      "|1962-11-30 00:00:00|1.5052084| 0.0|1.5052084|1.5052084|0.13214913|124800.0|  CAT|\n",
      "|1962-11-26 00:00:00|      1.5| 0.0|1.4947916|      1.5|0.13169187|187200.0|  CAT|\n",
      "|1962-11-02 00:00:00|1.4010416| 0.0|1.3958334|1.4114584|0.12391846|211200.0|  CAT|\n",
      "|1962-11-21 00:00:00|      1.5| 0.0|1.4947916|      1.5|0.13169187|105600.0|  CAT|\n",
      "|1962-11-15 00:00:00|1.5052084| 0.0|1.4947916|      1.5|0.13169187|187200.0|  CAT|\n",
      "|1962-11-16 00:00:00|      1.5| 0.0|1.4947916|      1.5|0.13169187|127200.0|  CAT|\n",
      "|1962-11-20 00:00:00|      1.5| 0.0|1.4947916|      1.5|0.13169187|112800.0|  CAT|\n",
      "|1962-11-09 00:00:00| 1.453125| 0.0|   1.4375| 1.453125|0.12757647|120000.0|  CAT|\n",
      "|1962-11-19 00:00:00|      1.5| 0.0|1.4895834|      1.5|0.13169187|112800.0|  CAT|\n",
      "|1962-11-23 00:00:00|      1.5| 0.0|1.4947916|      1.5|0.13169187|228000.0|  CAT|\n",
      "|1962-11-27 00:00:00|      1.5| 0.0| 1.484375|      1.5|0.13169187|165600.0|  CAT|\n",
      "|1962-11-14 00:00:00| 1.484375| 0.0|1.4791666|1.5052084|0.13214913|261600.0|  CAT|\n",
      "|1962-11-13 00:00:00|1.4583334| 0.0| 1.453125| 1.484375| 0.1303201|216000.0|  CAT|\n",
      "|1962-11-07 00:00:00|   1.4375| 0.0|   1.4375|1.4583334|0.12803373|182400.0|  CAT|\n",
      "+-------------------+---------+----+---------+---------+----------+--------+-----+\n",
      "\n"
     ]
    }
   ],
   "source": [
    "df.filter(df['high']==0).show(20)"
   ]
  },
  {
   "cell_type": "markdown",
   "metadata": {},
   "source": [
    "> ℹ️ **Instructions** ℹ️\n",
    ">\n",
    "> Once you have identified the column that needs to undergo imputation, update the values for the affected records by using the average value for the affected stock.\n",
    ">\n",
    ">*You may use as many coding cells as necessary.*"
   ]
  },
  {
   "cell_type": "code",
   "execution_count": 19,
   "metadata": {},
   "outputs": [],
   "source": [
    "# Calculate the mean open for each stock\n",
    "mean_open_by_stock = df.filter(df.volume != 0) \\\n",
    "                       .groupBy(\"stock\") \\\n",
    "                       .agg(avg(\"open\").alias(\"mean_open\"))\n",
    "\n",
    "# Impute the missing \"open\" values with the corresponding mean values for each stock\n",
    "df_imputed = df.withColumn(\"open\",\n",
    "                           when((df.volume == 0) & (df.open == 0), None)\n",
    "                           .otherwise(when(df.open == 0,\n",
    "                                            mean_open_by_stock.filter(mean_open_by_stock.stock == df.stock)\n",
    "                                                            .select(\"mean_open\")\n",
    "                                                            .first()[\"mean_open\"])\n",
    "                                      .otherwise(df.open))) \\\n",
    "               .fillna({'open': 0})\n",
    "\n",
    "# Calculate the mean high for stocks with non-zero high values\n",
    "mean_high_by_stock = df.filter(df.high > 0) \\\n",
    "                       .groupBy(\"stock\") \\\n",
    "                       .agg(avg(\"high\").alias(\"mean_high\"))\n",
    "\n",
    "# Impute the missing \"high\" values with the corresponding mean values for each stock\n",
    "df_imputed = df_imputed.withColumn(\"high\",\n",
    "                                   when(df_imputed.high == 0,\n",
    "                                        mean_high_by_stock.filter(mean_high_by_stock.stock == df_imputed.stock)\n",
    "                                                         .select(\"mean_high\")\n",
    "                                                         .first()[\"mean_high\"])\n",
    "                                   .otherwise(df_imputed.high))\n"
   ]
  },
  {
   "cell_type": "code",
   "execution_count": 20,
   "metadata": {},
   "outputs": [
    {
     "name": "stdout",
     "output_type": "stream",
     "text": [
      "+-------------------+----+-------------------+----------+----------+------------+------+-----+\n",
      "|               date|open|               high|       low|     close|   adj_close|volume|stock|\n",
      "+-------------------+----+-------------------+----------+----------+------------+------+-----+\n",
      "|1962-05-18 00:00:00| 0.0|         1.66796875| 1.6484375| 1.6679688| 0.015032374|   0.0|  XOM|\n",
      "|1962-05-24 00:00:00| 0.0|          1.6328125| 1.6171875| 1.6289062|  0.01468032|   0.0|  XOM|\n",
      "|1962-09-28 00:00:00| 0.0|0.15914352238178253| 0.1574074|0.15914352| 4.514184E-7|   0.0|  JNJ|\n",
      "|1962-05-08 00:00:00| 0.0|          1.7265625| 1.7109375| 1.7148438| 0.015285846|   0.0|  XOM|\n",
      "|1962-01-02 00:00:00| 0.0|0.22337962687015533|0.22222222|0.22337963| 6.281419E-7|   0.0|  JNJ|\n",
      "|1962-05-14 00:00:00| 0.0|           1.640625| 1.5820312| 1.6328125| 0.014715531|   0.0|  XOM|\n",
      "|1962-05-28 00:00:00| 0.0|             1.5625| 1.4179688|    1.4375| 0.012955305|   0.0|  XOM|\n",
      "|1962-05-25 00:00:00| 0.0|          1.6328125|  1.578125|   1.59375|  0.01436349|   0.0|  XOM|\n",
      "|1962-05-29 00:00:00| 0.0|            1.59375| 1.4179688| 1.5898438| 0.014328282|   0.0|  XOM|\n",
      "|1962-05-02 00:00:00| 0.0|         1.71484375| 1.6992188| 1.7148438| 0.015285846|   0.0|  XOM|\n",
      "|1962-05-31 00:00:00| 0.0|          1.6328125|  1.609375|     1.625| 0.014645126|   0.0|  XOM|\n",
      "|1962-05-16 00:00:00| 0.0|          1.6953125|  1.671875| 1.6796875|0.0151379965|   0.0|  XOM|\n",
      "|1962-05-07 00:00:00| 0.0|         1.71484375| 1.7070312| 1.7148438| 0.015285846|   0.0|  XOM|\n",
      "|1962-05-10 00:00:00| 0.0|             1.6875| 1.6640625| 1.6679688| 0.015032374|   0.0|  XOM|\n",
      "|1962-05-15 00:00:00| 0.0|         1.69140625| 1.6445312| 1.6796875|0.0151379965|   0.0|  XOM|\n",
      "|1962-05-01 00:00:00| 0.0|         1.69921875| 1.6601562| 1.6992188| 0.015146574|   0.0|  XOM|\n",
      "|1962-05-11 00:00:00| 0.0|           1.671875| 1.6445312| 1.6445312| 0.014821144|   0.0|  XOM|\n",
      "|1962-05-17 00:00:00| 0.0|          1.6796875| 1.6484375| 1.6640625|  0.01499716|   0.0|  XOM|\n",
      "|1962-05-21 00:00:00| 0.0|            1.65625| 1.6445312|   1.65625| 0.014926753|   0.0|  XOM|\n",
      "|1962-05-23 00:00:00| 0.0|         1.63671875| 1.6171875| 1.6210938| 0.014609924|   0.0|  XOM|\n",
      "|1962-10-15 00:00:00| 0.0|0.15856482088565826|0.15856482|0.15856482|4.4977733E-7|   0.0|  JNJ|\n",
      "|1962-05-09 00:00:00| 0.0|          1.6953125| 1.6796875|    1.6875| 0.015208395|   0.0|  XOM|\n",
      "|1962-05-04 00:00:00| 0.0|         1.72265625| 1.7109375|   1.71875|0.0153206745|   0.0|  XOM|\n",
      "|1962-05-03 00:00:00| 0.0|         1.73046875| 1.7148438|   1.71875|0.0153206745|   0.0|  XOM|\n",
      "|1962-05-22 00:00:00| 0.0|         1.66015625| 1.6289062|  1.640625| 0.014785934|   0.0|  XOM|\n",
      "|1962-04-17 00:00:00| 0.0|            0.21875| 0.2175926|   0.21875|6.1658733E-7|   0.0|  JNJ|\n",
      "+-------------------+----+-------------------+----------+----------+------------+------+-----+\n",
      "\n"
     ]
    }
   ],
   "source": [
    "df = df_imputed\n",
    "df.where(df['open']==0).show(100)"
   ]
  },
  {
   "cell_type": "markdown",
   "metadata": {},
   "source": [
    "\n",
    "## Consistency\n",
    "\n",
    "Consistency is the absence of difference when comparing two or more representations of a thing against a reference.\n",
    "\n",
    "Data entries that refer to the same record or entity have to be consistent across all entries, e.g., if you are dealing with records from a logger in the field, the entries for that logger have to remain consistent, and the name or primary key of that logger cannot change from one entry to another. \n",
    "\n",
    "For example, 'Logger1', 'Loger1' and 'Logge1' are examples of inconsistent keys. \n",
    "\n",
    "This is not just within a single table but also becomes more important if you are dealing with relational data. In which case, the mappings between tables and systems must be consistent. If not, the relationships will be completely lost between the tables and referential integrity compromised. \n",
    "\n",
    "- **Measured by**: Analysis of pattern and/or value frequency;\n",
    "- **Units**: Percentage;\n",
    "- **Related to**: Accuracy, Validity, and Uniqueness."
   ]
  },
  {
   "cell_type": "markdown",
   "metadata": {},
   "source": [
    "> ℹ️ **Instructions** ℹ️\n",
    ">\n",
    "> There currently exists a stock that has inconsistent naming. Make use of the metadata to determine which stock is inconsistently named, then update the dataframe appropriately to get rid of this inconsistency.\n",
    ">\n",
    ">*You may use as many coding cells as necessary.*"
   ]
  },
  {
   "cell_type": "code",
   "execution_count": 21,
   "metadata": {},
   "outputs": [
    {
     "name": "stdout",
     "output_type": "stream",
     "text": [
      "+-----+\n",
      "|stock|\n",
      "+-----+\n",
      "|ARNCA|\n",
      "+-----+\n",
      "\n"
     ]
    }
   ],
   "source": [
    "#TODO: Write your code here\n",
    "parquet_stocks = df.select('stock').distinct()\n",
    "metadata_stocks = metadata.select('Symbol').distinct()\n",
    "inconsistent_stocks = parquet_stocks.exceptAll(metadata_stocks)\n",
    "inconsistent_stocks.show()"
   ]
  },
  {
   "cell_type": "code",
   "execution_count": 22,
   "metadata": {},
   "outputs": [
    {
     "name": "stdout",
     "output_type": "stream",
     "text": [
      "+-------------+------+--------------------+----------------+---------------+---+--------------+----------+----------------+----------+-------------+----------+\n",
      "|Nasdaq Traded|Symbol|       Security Name|Listing Exchange|Market Category|ETF|Round Lot Size|Test Issue|Financial Status|CQS Symbol|NASDAQ Symbol|NextShares|\n",
      "+-------------+------+--------------------+----------------+---------------+---+--------------+----------+----------------+----------+-------------+----------+\n",
      "|            Y|  ARNA|Arena Pharmaceuti...|               Q|              Q|  N|         100.0|         N|               N|      null|         ARNA|         N|\n",
      "|            Y|  ARNC|Arconic Corporati...|               N|               |  N|         100.0|         N|            null|      ARNC|         ARNC|         N|\n",
      "+-------------+------+--------------------+----------------+---------------+---+--------------+----------+----------------+----------+-------------+----------+\n",
      "\n"
     ]
    }
   ],
   "source": [
    "metadata.createOrReplaceTempView(\"metadata\")\n",
    "\n",
    "spark.sql(\"select * from metadata where Symbol like 'ARN%'\").show()"
   ]
  },
  {
   "cell_type": "code",
   "execution_count": 23,
   "metadata": {},
   "outputs": [
    {
     "name": "stdout",
     "output_type": "stream",
     "text": [
      "+-------------------+-----------------+------------------+---------+---------+---------+-------+-----+\n",
      "|               date|             open|              high|      low|    close|adj_close| volume|stock|\n",
      "+-------------------+-----------------+------------------+---------+---------+---------+-------+-----+\n",
      "|1962-07-20 00:00:00|5.106821537017822| 5.247376441955566|5.0863194|  5.14196| 1.199828|27700.0|ARNCA|\n",
      "|1962-07-25 00:00:00|5.013118267059326| 5.013118267059326| 4.872564|4.9896927| 1.164298|64600.0|ARNCA|\n",
      "|1962-07-03 00:00:00|5.083395957946777| 5.247376441955566| 5.083396|5.2239504| 1.218961|98800.0|ARNCA|\n",
      "|1962-07-09 00:00:00|5.305940628051758| 5.341079235076904| 5.200525| 5.341079|1.2462914|92400.0|ARNCA|\n",
      "|1962-07-17 00:00:00|5.235663414001465| 5.235663414001465|  5.05997|  5.05997|1.1806968|26200.0|ARNCA|\n",
      "|1962-07-18 00:00:00|5.059969902038574| 5.200524806976318|4.9662666| 5.165386|1.2052941|41200.0|ARNCA|\n",
      "|1962-07-27 00:00:00|5.048257350921631| 5.247376441955566|5.0482574|5.2473764|1.2244265|46900.0|ARNCA|\n",
      "|1962-07-31 00:00:00|5.376218318939209| 5.481634140014648|5.3762183|5.4582086|1.2736224|94500.0|ARNCA|\n",
      "|1962-07-02 00:00:00|4.919415473937988| 5.200524806976318|4.9194155| 5.083396|1.1861634|90300.0|ARNCA|\n",
      "|1962-07-16 00:00:00|5.282515048980713| 5.282515048980713| 5.212238|5.2356634|1.2216929|27700.0|ARNCA|\n",
      "|1962-07-11 00:00:00| 5.25908899307251| 5.364505290985107| 5.200525| 5.341079|1.2462914|36900.0|ARNCA|\n",
      "|1962-07-24 00:00:00|5.083395957946777| 5.118534564971924|5.0365443|5.0365443|1.1752304|27700.0|ARNCA|\n",
      "|1962-07-13 00:00:00|5.329366683959961| 5.341079235076904| 5.294228|5.3176537|1.2408253|38400.0|ARNCA|\n",
      "|1962-07-19 00:00:00|5.165386199951172| 5.247376441955566|5.1068215|5.1068215|1.1916293|60400.0|ARNCA|\n",
      "|1962-07-06 00:00:00|5.387930870056152| 5.387930870056152| 5.294228|5.3059406|1.2380928|68900.0|ARNCA|\n",
      "|1962-07-12 00:00:00|5.341079235076904| 5.387930870056152| 5.294228|5.3293667|1.2435582|75300.0|ARNCA|\n",
      "|1962-07-26 00:00:00|5.024831295013428| 5.130247592926025|5.0248313|5.0365443|1.1752304|57600.0|ARNCA|\n",
      "|1962-07-05 00:00:00|5.223950386047363|   5.4347825050354| 5.212238|5.4347825|1.2681566|66100.0|ARNCA|\n",
      "|1962-07-30 00:00:00|5.247376441955566|5.4113569259643555|5.2473764|5.3293667|1.2435582|54000.0|ARNCA|\n",
      "|1962-07-23 00:00:00|5.141960144042969| 5.141960144042969| 5.083396| 5.083396|1.1861634|30500.0|ARNCA|\n",
      "+-------------------+-----------------+------------------+---------+---------+---------+-------+-----+\n",
      "only showing top 20 rows\n",
      "\n"
     ]
    }
   ],
   "source": [
    "arnca_rows = df.filter(df.stock == 'ARNCA').show()\n"
   ]
  },
  {
   "cell_type": "code",
   "execution_count": 24,
   "metadata": {},
   "outputs": [],
   "source": [
    "df = df.withColumn('stock', F.regexp_replace('stock', 'ARNCA', 'ARNC'))\n"
   ]
  },
  {
   "cell_type": "code",
   "execution_count": 25,
   "metadata": {},
   "outputs": [
    {
     "name": "stdout",
     "output_type": "stream",
     "text": [
      "+----+----+----+---+-----+---------+------+-----+\n",
      "|date|open|high|low|close|adj_close|volume|stock|\n",
      "+----+----+----+---+-----+---------+------+-----+\n",
      "+----+----+----+---+-----+---------+------+-----+\n",
      "\n"
     ]
    }
   ],
   "source": [
    "arnca_rows = df.filter(df.stock == 'ARNCA').show()"
   ]
  },
  {
   "cell_type": "code",
   "execution_count": 26,
   "metadata": {},
   "outputs": [
    {
     "name": "stdout",
     "output_type": "stream",
     "text": [
      "+-------------------+------------------+------------------+---------+---------+---------+-------+-----+\n",
      "|               date|              open|              high|      low|    close|adj_close| volume|stock|\n",
      "+-------------------+------------------+------------------+---------+---------+---------+-------+-----+\n",
      "|1962-02-19 00:00:00| 5.481634140014648|5.5284857749938965| 5.481634|5.5167727|1.2804527|32000.0| ARNC|\n",
      "|1962-02-14 00:00:00| 5.481634140014648| 5.481634140014648| 5.399644|5.4347825|1.2614225|60400.0| ARNC|\n",
      "|1962-02-13 00:00:00| 5.505060195922852| 5.540198802947998|  5.50506|5.5167727|1.2804527|66800.0| ARNC|\n",
      "|1962-02-26 00:00:00|5.6924662590026855|5.7158918380737305| 5.598763| 5.715892|1.3266692|88100.0| ARNC|\n",
      "|1962-02-06 00:00:00| 5.540198802947998| 5.540198802947998|5.4582086|  5.50506|1.2777345|43300.0| ARNC|\n",
      "|1962-02-02 00:00:00| 5.563624382019043|5.5987629890441895| 5.528486| 5.540199|1.2794067|32600.0| ARNC|\n",
      "|1962-02-16 00:00:00| 5.387930870056152| 5.469921112060547| 5.387931| 5.469921|1.2695786|59700.0| ARNC|\n",
      "|1962-02-27 00:00:00|5.7158918380737305| 5.739317893981934| 5.715892| 5.715892|1.3266692|29800.0| ARNC|\n",
      "|1962-02-12 00:00:00|5.4582085609436035| 5.469921112060547|5.4464955|5.4464955|1.2641411|17700.0| ARNC|\n",
      "|1962-02-20 00:00:00| 5.516772747039795| 5.610476016998291| 5.493347| 5.610476|1.3022016|43300.0| ARNC|\n",
      "|1962-02-09 00:00:00| 5.516772747039795| 5.551911354064941|5.4582086|5.4582086|1.2668599|36200.0| ARNC|\n",
      "|1962-02-28 00:00:00|5.7158918380737305|  5.83302116394043|5.6690407|5.6690407|1.3157941|51200.0| ARNC|\n",
      "|1962-02-05 00:00:00|5.5753374099731445| 5.610476016998291|5.5753374|5.5753374|1.2875211|77500.0| ARNC|\n",
      "|1962-02-08 00:00:00| 5.540198802947998| 5.563624382019043| 5.481634|5.5167727|1.2804527|55400.0| ARNC|\n",
      "|1962-02-01 00:00:00| 5.587050437927246| 5.587050437927246|  5.50506|5.5636244|1.2848175|72500.0| ARNC|\n",
      "|1962-02-15 00:00:00|   5.4347825050354|5.5284857749938965| 5.387931| 5.387931| 1.250549|66800.0| ARNC|\n",
      "|1962-02-07 00:00:00| 5.516772747039795|5.5753374099731445|5.5167727| 5.540199|  1.28589|49000.0| ARNC|\n",
      "|1962-02-23 00:00:00| 5.657327651977539| 5.704179286956787|5.6456146|5.6924663|1.3212318|77500.0| ARNC|\n",
      "|1962-02-21 00:00:00| 5.622189044952393| 5.751030921936035| 5.622189|5.6573277|1.3130747|60400.0| ARNC|\n",
      "|1962-09-25 00:00:00| 5.001405715942383| 5.200524806976318|5.0014057| 5.165386|1.2112882|74700.0| ARNC|\n",
      "+-------------------+------------------+------------------+---------+---------+---------+-------+-----+\n",
      "only showing top 20 rows\n",
      "\n"
     ]
    }
   ],
   "source": [
    "arnc_rows = df.filter(df.stock == 'ARNC').show()"
   ]
  },
  {
   "cell_type": "markdown",
   "metadata": {},
   "source": [
    "## Timeliness\n",
    "\n",
    "Timeliness is the degree to which data represent reality from the required point in time.\n",
    "\n",
    "Timeliness expects that the data within your dataset is sufficiently up to date. If you are trying to answer questions that relate to recent problems, having timely data is extremely important. For example, you cannot use current flight patterns to model how many aeroplanes will be required by a large aeronautics company within the next 5-10 years. \n",
    "\n",
    "Similarly, when answering questions that require real-time answers (e.g., predicting when a pipe will burst in a manufacturing plant), you have to be set up to receive real-time data from sensors and loggers. \n",
    "\n",
    "- **Measured by**: Time difference;\n",
    "- **Units**: Time;\n",
    "- **Related to**: Accuracy because it will decay as time progress. "
   ]
  },
  {
   "cell_type": "markdown",
   "metadata": {},
   "source": [
    "It is important to see the latest value for each of the stocks that we are looking at:"
   ]
  },
  {
   "cell_type": "code",
   "execution_count": 27,
   "metadata": {},
   "outputs": [
    {
     "name": "stdout",
     "output_type": "stream",
     "text": [
      "+-----+-------------------+\n",
      "|stock|          max(Date)|\n",
      "+-----+-------------------+\n",
      "|   AA|1962-12-31 00:00:00|\n",
      "|  XOM|1962-12-31 00:00:00|\n",
      "|  DIS|1962-12-31 00:00:00|\n",
      "|   PG|1962-12-31 00:00:00|\n",
      "|   GT|1962-12-31 00:00:00|\n",
      "|   MO|1962-12-31 00:00:00|\n",
      "|  IBM|1962-12-31 00:00:00|\n",
      "|  JNJ|1962-12-31 00:00:00|\n",
      "|  CVX|1962-12-31 00:00:00|\n",
      "|  DTE|1962-12-31 00:00:00|\n",
      "|   BA|1962-12-31 00:00:00|\n",
      "|   GE|1962-12-31 00:00:00|\n",
      "|  HPQ|1962-12-31 00:00:00|\n",
      "| ARNC|1962-12-31 00:00:00|\n",
      "|  CAT|1962-12-31 00:00:00|\n",
      "|   IP|1962-12-31 00:00:00|\n",
      "|   FL|1962-12-31 00:00:00|\n",
      "|   ED|1962-12-31 00:00:00|\n",
      "|  NAV|1962-11-30 00:00:00|\n",
      "|   KO|1962-12-31 00:00:00|\n",
      "+-----+-------------------+\n",
      "\n"
     ]
    }
   ],
   "source": [
    "df.groupBy('stock').agg(F.max('Date')).show()"
   ]
  },
  {
   "cell_type": "markdown",
   "metadata": {},
   "source": [
    "Sometimes, some of these axes of data quality will be less important than others. \n",
    "This is one of those cases where it is less important to have timely data, since \n",
    "we are trying to create a training dataset for a stock market prediction algorithm. \n",
    "\n",
    "It is important to know the context in which you are doing your modelling. "
   ]
  },
  {
   "cell_type": "markdown",
   "metadata": {},
   "source": [
    "### Gaps in the dataset\n",
    "\n",
    "Let's see if we can find inconsistencies in the time series by having a look at the number of entries for each of the tickers.\n",
    " \n",
    "> ℹ️ **Instructions** ℹ️\n",
    ">\n",
    "> Uncomment and use the below code to determine which dates had entries that were not equal to 20. You may have to change the name of the dataframe to see the resultant output\n",
    ">\n",
    ">*You may use as many coding cells as necessary.*"
   ]
  },
  {
   "cell_type": "code",
   "execution_count": 28,
   "metadata": {},
   "outputs": [
    {
     "name": "stdout",
     "output_type": "stream",
     "text": [
      "+-------------------+-----+\n",
      "|               date|count|\n",
      "+-------------------+-----+\n",
      "|1962-09-18 00:00:00|   21|\n",
      "|1962-06-07 00:00:00|   19|\n",
      "|1962-02-01 00:00:00|   23|\n",
      "|1962-02-26 00:00:00|   23|\n",
      "|1962-02-14 00:00:00|   23|\n",
      "|1962-09-11 00:00:00|   21|\n",
      "|1962-06-12 00:00:00|   19|\n",
      "|1962-09-10 00:00:00|   21|\n",
      "|1962-02-16 00:00:00|   23|\n",
      "|1962-09-25 00:00:00|   21|\n",
      "|1962-03-19 00:00:00|   19|\n",
      "|1962-09-26 00:00:00|   21|\n",
      "|1962-12-20 00:00:00|   19|\n",
      "|1962-12-18 00:00:00|   19|\n",
      "|1962-09-12 00:00:00|   21|\n",
      "|1962-07-25 00:00:00|   19|\n",
      "|1962-12-03 00:00:00|   19|\n",
      "|1962-02-08 00:00:00|   23|\n",
      "|1962-09-14 00:00:00|   21|\n",
      "|1962-02-09 00:00:00|   23|\n",
      "|1962-02-07 00:00:00|   23|\n",
      "|1962-02-21 00:00:00|   23|\n",
      "|1962-03-14 00:00:00|   19|\n",
      "|1962-09-20 00:00:00|   21|\n",
      "|1962-09-28 00:00:00|   21|\n",
      "|1962-07-20 00:00:00|   19|\n",
      "|1962-02-27 00:00:00|   23|\n",
      "|1962-02-19 00:00:00|   23|\n",
      "|1962-09-21 00:00:00|   21|\n",
      "|1962-12-28 00:00:00|   19|\n",
      "|1962-02-06 00:00:00|   23|\n",
      "|1962-09-17 00:00:00|   21|\n",
      "|1962-02-15 00:00:00|   23|\n",
      "|1962-02-05 00:00:00|   23|\n",
      "|1962-02-13 00:00:00|   23|\n",
      "|1962-12-31 00:00:00|   19|\n",
      "|1962-06-06 00:00:00|   19|\n",
      "|1962-09-07 00:00:00|   21|\n",
      "|1962-09-27 00:00:00|   21|\n",
      "|1962-09-13 00:00:00|   21|\n",
      "|1962-09-24 00:00:00|   21|\n",
      "|1962-02-28 00:00:00|   23|\n",
      "|1962-09-06 00:00:00|   21|\n",
      "|1962-02-02 00:00:00|   23|\n",
      "|1962-09-05 00:00:00|   21|\n",
      "|1962-12-21 00:00:00|   19|\n",
      "|1962-03-22 00:00:00|   19|\n",
      "|1962-02-20 00:00:00|   23|\n",
      "|1962-09-19 00:00:00|   21|\n",
      "|1962-09-04 00:00:00|   21|\n",
      "|1962-02-23 00:00:00|   23|\n",
      "|1962-03-20 00:00:00|   19|\n",
      "|1962-02-12 00:00:00|   23|\n",
      "|1962-07-10 00:00:00|   19|\n",
      "|1962-07-23 00:00:00|   19|\n",
      "|1962-06-18 00:00:00|   19|\n",
      "|1962-12-19 00:00:00|   19|\n",
      "|1962-12-27 00:00:00|   19|\n",
      "|1962-03-21 00:00:00|   19|\n",
      "|1962-07-24 00:00:00|   19|\n",
      "|1962-06-29 00:00:00|   19|\n",
      "|1962-07-31 00:00:00|   19|\n",
      "|1962-07-30 00:00:00|   19|\n",
      "|1962-03-06 00:00:00|   19|\n",
      "|1962-12-11 00:00:00|   18|\n",
      "|1962-06-27 00:00:00|   19|\n",
      "|1962-03-28 00:00:00|   19|\n",
      "|1962-07-18 00:00:00|   19|\n",
      "|1962-12-26 00:00:00|   19|\n",
      "|1962-07-03 00:00:00|   19|\n",
      "|1962-07-27 00:00:00|   19|\n",
      "|1962-12-24 00:00:00|   19|\n",
      "|1962-03-26 00:00:00|   19|\n",
      "|1962-07-16 00:00:00|   19|\n",
      "|1962-07-05 00:00:00|   19|\n",
      "|1962-07-13 00:00:00|   19|\n",
      "|1962-03-29 00:00:00|   19|\n",
      "|1962-03-07 00:00:00|   19|\n",
      "|1962-06-04 00:00:00|   19|\n",
      "|1962-03-16 00:00:00|   19|\n",
      "|1962-06-05 00:00:00|   19|\n",
      "|1962-06-22 00:00:00|   19|\n",
      "|1962-03-01 00:00:00|   19|\n",
      "|1962-03-15 00:00:00|   19|\n",
      "|1962-03-12 00:00:00|   19|\n",
      "|1962-07-26 00:00:00|   19|\n",
      "|1962-06-25 00:00:00|   19|\n",
      "|1962-06-20 00:00:00|   19|\n",
      "|1962-12-07 00:00:00|   18|\n",
      "|1962-12-12 00:00:00|   18|\n",
      "|1962-06-26 00:00:00|   19|\n",
      "|1962-06-21 00:00:00|   19|\n",
      "|1962-07-09 00:00:00|   19|\n",
      "|1962-06-13 00:00:00|   19|\n",
      "|1962-03-02 00:00:00|   19|\n",
      "|1962-06-19 00:00:00|   19|\n",
      "|1962-06-28 00:00:00|   19|\n",
      "|1962-07-02 00:00:00|   19|\n",
      "|1962-07-12 00:00:00|   19|\n",
      "|1962-12-17 00:00:00|   18|\n",
      "|1962-12-05 00:00:00|   18|\n",
      "|1962-12-04 00:00:00|   18|\n",
      "|1962-03-23 00:00:00|   19|\n",
      "|1962-07-17 00:00:00|   19|\n",
      "|1962-07-06 00:00:00|   19|\n",
      "|1962-03-13 00:00:00|   19|\n",
      "|1962-06-11 00:00:00|   19|\n",
      "|1962-12-14 00:00:00|   18|\n",
      "|1962-03-09 00:00:00|   19|\n",
      "|1962-03-08 00:00:00|   19|\n",
      "|1962-12-06 00:00:00|   18|\n",
      "|1962-12-10 00:00:00|   18|\n",
      "|1962-07-11 00:00:00|   19|\n",
      "|1962-06-08 00:00:00|   19|\n",
      "|1962-06-01 00:00:00|   19|\n",
      "|1962-03-27 00:00:00|   19|\n",
      "|1962-03-05 00:00:00|   19|\n",
      "|1962-06-15 00:00:00|   19|\n",
      "|1962-06-14 00:00:00|   19|\n",
      "|1962-03-30 00:00:00|   19|\n",
      "|1962-12-13 00:00:00|   18|\n",
      "|1962-07-19 00:00:00|   19|\n",
      "+-------------------+-----+\n",
      "\n"
     ]
    }
   ],
   "source": [
    "df.orderBy('date').groupby('date').count().where(F.col('count') != 20).show(400)"
   ]
  },
  {
   "cell_type": "markdown",
   "metadata": {},
   "source": [
    "> ℹ️ **Instructions** ℹ️\n",
    ">\n",
    "> From the above result, investigate the number of times a stock appears for the given month. You can infer the months by using the output of the previous cell.\n",
    ">\n",
    ">*You may use as many coding cells as necessary.*"
   ]
  },
  {
   "cell_type": "code",
   "execution_count": 29,
   "metadata": {},
   "outputs": [
    {
     "name": "stdout",
     "output_type": "stream",
     "text": [
      "+----+-----+-----+-----+\n",
      "|year|month|stock|count|\n",
      "+----+-----+-----+-----+\n",
      "|1962|    1|   ED|   22|\n",
      "|1962|    1|   GE|   22|\n",
      "|1962|    1|   MO|   22|\n",
      "|1962|    1|  XOM|   22|\n",
      "|1962|    1|   PG|   22|\n",
      "|1962|    1|   FL|   22|\n",
      "|1962|    1| ARNC|   22|\n",
      "|1962|    1|  CVX|   22|\n",
      "|1962|    1|   BA|   22|\n",
      "|1962|    1|  DIS|   22|\n",
      "|1962|    1|   GT|   22|\n",
      "|1962|    1|  JNJ|   22|\n",
      "|1962|    1|  CAT|   22|\n",
      "|1962|    1|  DTE|   22|\n",
      "|1962|    1|  IBM|   22|\n",
      "|1962|    1|  NAV|   22|\n",
      "|1962|    1|   IP|   22|\n",
      "|1962|    1|   KO|   22|\n",
      "|1962|    1|   AA|   22|\n",
      "|1962|    1|  HPQ|   22|\n",
      "|1962|    2|   BA|   19|\n",
      "|1962|    2|  NAV|   19|\n",
      "|1962|    2|   GT|   19|\n",
      "|1962|    2|  CVX|   19|\n",
      "|1962|    2|   MO|   19|\n",
      "|1962|    2|  JNJ|   19|\n",
      "|1962|    2|  XOM|   19|\n",
      "|1962|    2|   AA|   19|\n",
      "|1962|    2|  DIS|   19|\n",
      "|1962|    2|  DTE|   19|\n",
      "|1962|    2|   PG|   19|\n",
      "|1962|    2|   ED|   19|\n",
      "|1962|    2|   IP|   19|\n",
      "|1962|    2|   GE|   19|\n",
      "|1962|    2|   KO|   19|\n",
      "|1962|    2| ARNC|   19|\n",
      "|1962|    2|   FL|   19|\n",
      "|1962|    2|  IBM|   19|\n",
      "|1962|    2|  CAT|   19|\n",
      "|1962|    2|  HPQ|   76|\n",
      "|1962|    3|   PG|   22|\n",
      "|1962|    3|   FL|   22|\n",
      "|1962|    3|   MO|   22|\n",
      "|1962|    3|   KO|   22|\n",
      "|1962|    3|   IP|   22|\n",
      "|1962|    3|   AA|   22|\n",
      "|1962|    3| ARNC|   22|\n",
      "|1962|    3|  JNJ|   22|\n",
      "|1962|    3|  DTE|   22|\n",
      "|1962|    3|  DIS|   22|\n",
      "|1962|    3|   GT|   22|\n",
      "|1962|    3|   ED|   22|\n",
      "|1962|    3|  NAV|   22|\n",
      "|1962|    3|  XOM|   22|\n",
      "|1962|    3|   GE|   22|\n",
      "|1962|    3|  CVX|   22|\n",
      "|1962|    3|  IBM|   22|\n",
      "|1962|    3|   BA|   22|\n",
      "|1962|    3|  HPQ|   22|\n",
      "|1962|    4| ARNC|   20|\n",
      "|1962|    4|   IP|   20|\n",
      "|1962|    4|  JNJ|   20|\n",
      "|1962|    4|  HPQ|   20|\n",
      "|1962|    4|   KO|   20|\n",
      "|1962|    4|  XOM|   20|\n",
      "|1962|    4|  IBM|   20|\n",
      "|1962|    4|   PG|   20|\n",
      "|1962|    4|   BA|   20|\n",
      "|1962|    4|  CAT|   20|\n",
      "|1962|    4|   MO|   20|\n",
      "|1962|    4|  DIS|   20|\n",
      "|1962|    4|   AA|   20|\n",
      "|1962|    4|   GT|   20|\n",
      "|1962|    4|  NAV|   20|\n",
      "|1962|    4|   FL|   20|\n",
      "|1962|    4|  CVX|   20|\n",
      "|1962|    4|   ED|   20|\n",
      "|1962|    4|  DTE|   20|\n",
      "|1962|    4|   GE|   20|\n",
      "|1962|    5|   IP|   22|\n",
      "|1962|    5|  DIS|   22|\n",
      "|1962|    5|   ED|   22|\n",
      "|1962|    5|  HPQ|   22|\n",
      "|1962|    5|   KO|   22|\n",
      "|1962|    5|   GT|   22|\n",
      "|1962|    5|  NAV|   22|\n",
      "|1962|    5| ARNC|   22|\n",
      "|1962|    5|   PG|   22|\n",
      "|1962|    5|  XOM|   22|\n",
      "|1962|    5|   AA|   22|\n",
      "|1962|    5|   MO|   22|\n",
      "|1962|    5|  CVX|   22|\n",
      "|1962|    5|   FL|   22|\n",
      "|1962|    5|   BA|   22|\n",
      "|1962|    5|   GE|   22|\n",
      "|1962|    5|  DTE|   22|\n",
      "|1962|    5|  CAT|   22|\n",
      "|1962|    5|  IBM|   22|\n",
      "|1962|    5|  JNJ|   22|\n",
      "|1962|    6|   PG|   21|\n",
      "|1962|    6|  NAV|   21|\n",
      "|1962|    6|  IBM|   21|\n",
      "|1962|    6|  CVX|   21|\n",
      "|1962|    6|   MO|   21|\n",
      "|1962|    6|   GT|   21|\n",
      "|1962|    6|   BA|   21|\n",
      "|1962|    6|   KO|   21|\n",
      "|1962|    6|  CAT|   21|\n",
      "|1962|    6|   GE|   21|\n",
      "|1962|    6|   IP|   21|\n",
      "|1962|    6|  DTE|   21|\n",
      "|1962|    6|  DIS|   21|\n",
      "|1962|    6|   AA|   21|\n",
      "|1962|    6|  JNJ|   21|\n",
      "|1962|    6| ARNC|   21|\n",
      "|1962|    6|  XOM|   21|\n",
      "|1962|    6|  HPQ|   21|\n",
      "|1962|    6|   ED|   21|\n",
      "|1962|    7|  IBM|   21|\n",
      "|1962|    7|  NAV|   21|\n",
      "|1962|    7|  XOM|   21|\n",
      "|1962|    7|   GT|   21|\n",
      "|1962|    7|  DIS|   21|\n",
      "|1962|    7|   PG|   21|\n",
      "|1962|    7|   AA|   21|\n",
      "|1962|    7|   GE|   21|\n",
      "|1962|    7|  DTE|   21|\n",
      "|1962|    7|  HPQ|   21|\n",
      "|1962|    7|  CVX|   21|\n",
      "|1962|    7|   IP|   21|\n",
      "|1962|    7|   BA|   21|\n",
      "|1962|    7|  CAT|   21|\n",
      "|1962|    7| ARNC|   21|\n",
      "|1962|    7|   ED|   21|\n",
      "|1962|    7|   MO|   21|\n",
      "|1962|    7|   FL|   21|\n",
      "|1962|    7|   KO|   21|\n",
      "|1962|    8| ARNC|   23|\n",
      "|1962|    8|   ED|   23|\n",
      "|1962|    8|   GT|   23|\n",
      "|1962|    8|  XOM|   23|\n",
      "|1962|    8|   IP|   23|\n",
      "|1962|    8|   MO|   23|\n",
      "|1962|    8|   AA|   23|\n",
      "|1962|    8|  IBM|   23|\n",
      "|1962|    8|  HPQ|   23|\n",
      "|1962|    8|  CVX|   23|\n",
      "|1962|    8|  NAV|   23|\n",
      "|1962|    8|  DTE|   23|\n",
      "|1962|    8|   KO|   23|\n",
      "|1962|    8|   FL|   23|\n",
      "|1962|    8|  DIS|   23|\n",
      "|1962|    8|   PG|   23|\n",
      "|1962|    8|   GE|   23|\n",
      "|1962|    8|  JNJ|   23|\n",
      "|1962|    8|  CAT|   23|\n",
      "|1962|    8|   BA|   23|\n",
      "|1962|    9|  NAV|   19|\n",
      "|1962|    9|  CVX|   19|\n",
      "|1962|    9|  DIS|   19|\n",
      "|1962|    9|  DTE|   19|\n",
      "|1962|    9|  HPQ|   19|\n",
      "|1962|    9|   BA|   19|\n",
      "|1962|    9|  JNJ|   19|\n",
      "|1962|    9| ARNC|   19|\n",
      "|1962|    9|   MO|   19|\n",
      "|1962|    9|  CAT|   19|\n",
      "|1962|    9|   AA|   19|\n",
      "|1962|    9|   GE|   19|\n",
      "|1962|    9|   IP|   19|\n",
      "|1962|    9|  IBM|   19|\n",
      "|1962|    9|   FL|   19|\n",
      "|1962|    9|   PG|   19|\n",
      "|1962|    9|  XOM|   19|\n",
      "|1962|    9|   GT|   19|\n",
      "|1962|    9|   KO|   19|\n",
      "|1962|    9|   ED|   38|\n",
      "|1962|   10|   MO|   23|\n",
      "|1962|   10|  CVX|   23|\n",
      "|1962|   10|   AA|   23|\n",
      "|1962|   10|  JNJ|   23|\n",
      "|1962|   10|  NAV|   23|\n",
      "|1962|   10|  CAT|   23|\n",
      "|1962|   10|   FL|   23|\n",
      "|1962|   10|  DIS|   23|\n",
      "|1962|   10|   IP|   23|\n",
      "|1962|   10|  DTE|   23|\n",
      "|1962|   10| ARNC|   23|\n",
      "|1962|   10|   ED|   23|\n",
      "|1962|   10|  IBM|   23|\n",
      "|1962|   10|   BA|   23|\n",
      "|1962|   10|   GT|   23|\n",
      "|1962|   10|   GE|   23|\n",
      "|1962|   10|  HPQ|   23|\n",
      "|1962|   10|   KO|   23|\n",
      "|1962|   10|  XOM|   23|\n",
      "|1962|   10|   PG|   23|\n",
      "|1962|   11|  XOM|   20|\n",
      "|1962|   11|   ED|   20|\n",
      "|1962|   11|  JNJ|   20|\n",
      "|1962|   11|   GT|   20|\n",
      "|1962|   11|  DIS|   20|\n",
      "|1962|   11| ARNC|   20|\n",
      "|1962|   11|   MO|   20|\n",
      "|1962|   11|   FL|   20|\n",
      "|1962|   11|   KO|   20|\n",
      "|1962|   11|  HPQ|   20|\n",
      "|1962|   11|  IBM|   20|\n",
      "|1962|   11|  CAT|   20|\n",
      "|1962|   11|   IP|   20|\n",
      "|1962|   11|  DTE|   20|\n",
      "|1962|   11|   GE|   20|\n",
      "|1962|   11|  NAV|   20|\n",
      "|1962|   11|   BA|   20|\n",
      "|1962|   11|  CVX|   20|\n",
      "|1962|   11|   AA|   20|\n",
      "|1962|   11|   PG|   20|\n",
      "|1962|   12|   BA|   10|\n",
      "|1962|   12|   MO|   20|\n",
      "|1962|   12|   ED|   20|\n",
      "|1962|   12| ARNC|   20|\n",
      "|1962|   12|   GE|   20|\n",
      "|1962|   12|   GT|   20|\n",
      "|1962|   12|  DTE|   20|\n",
      "|1962|   12|   PG|   20|\n",
      "|1962|   12|   AA|   20|\n",
      "|1962|   12|  JNJ|   20|\n",
      "|1962|   12|  HPQ|   20|\n",
      "|1962|   12|  CVX|   20|\n",
      "|1962|   12|  DIS|   20|\n",
      "|1962|   12|   FL|   20|\n",
      "|1962|   12|  CAT|   20|\n",
      "|1962|   12|  XOM|   20|\n",
      "|1962|   12|   IP|   20|\n",
      "|1962|   12|   KO|   20|\n",
      "|1962|   12|  IBM|   20|\n",
      "+----+-----+-----+-----+\n",
      "\n"
     ]
    }
   ],
   "source": [
    "# Group the data by month and stock, and count the number of occurrences\n",
    "month_stock_counts = df.groupBy(year('date').alias('year'), month('date').alias('month'), 'stock').count()\n",
    "\n",
    "# Order the results by month and count\n",
    "month_stock_counts.orderBy('year', 'month', 'count').show(400)\n"
   ]
  },
  {
   "cell_type": "markdown",
   "metadata": {},
   "source": [
    "## Uniqueness\n",
    "\n",
    "Uniqueness requires that nothing will be recorded more than once based upon how that thing is identified. It is the inverse of an assessment of the level of duplication.\n",
    "\n",
    "Each entry within the dataset should only relate to a single event that has occurred and thus should not be duplicated. This is largely mediated by having the appropriate primary key, which means sticking to the requirements of a good primary key. All fields in the tables should be non-transitively dependent on the primary key.\n",
    "\n",
    "As such, deduplication of the dataset may be required. \n",
    "\n",
    "- **Measured by**: Analysis of the number of things assessed in the “real world” compared to the number of records of things in the dataset. This requires a reference dataset which is the ground truth;\n",
    "- **Units**: Percentage;\n",
    "- **Related to**: Consistency."
   ]
  },
  {
   "cell_type": "markdown",
   "metadata": {},
   "source": [
    "### Duplication Test\n",
    "For time-series data, it is important to check for duplications, as we typically expect all values to be unique within the dataset.\n",
    "\n",
    "The first thing to check will be if the primary key values within the dataset are unique - in our case, that will be a combination of the stock name and the date.\n",
    "\n",
    "Secondly, we want to check if the entries are all unique, which is done by checking for duplicates across that whole dataset."
   ]
  },
  {
   "cell_type": "markdown",
   "metadata": {},
   "source": [
    "> ℹ️ **Instructions** ℹ️\n",
    ">\n",
    "> Write code to determine if there are any duplicates within the data, and then proceed to correct this by dropping them from the dataframe.\n",
    ">\n",
    ">*You may use as many coding cells as necessary.*"
   ]
  },
  {
   "cell_type": "code",
   "execution_count": 30,
   "metadata": {},
   "outputs": [
    {
     "name": "stdout",
     "output_type": "stream",
     "text": [
      "+-------------------+-----+-----+\n",
      "|               date|stock|count|\n",
      "+-------------------+-----+-----+\n",
      "|1962-02-05 00:00:00|  HPQ|    4|\n",
      "|1962-02-27 00:00:00|  HPQ|    4|\n",
      "|1962-02-21 00:00:00|  HPQ|    4|\n",
      "|1962-02-02 00:00:00|  HPQ|    4|\n",
      "|1962-02-01 00:00:00|  HPQ|    4|\n",
      "|1962-02-16 00:00:00|  HPQ|    4|\n",
      "|1962-02-23 00:00:00|  HPQ|    4|\n",
      "|1962-02-14 00:00:00|  HPQ|    4|\n",
      "|1962-02-06 00:00:00|  HPQ|    4|\n",
      "|1962-02-13 00:00:00|  HPQ|    4|\n",
      "|1962-02-09 00:00:00|  HPQ|    4|\n",
      "|1962-02-07 00:00:00|  HPQ|    4|\n",
      "|1962-02-20 00:00:00|  HPQ|    4|\n",
      "|1962-02-26 00:00:00|  HPQ|    4|\n",
      "|1962-02-15 00:00:00|  HPQ|    4|\n",
      "|1962-02-28 00:00:00|  HPQ|    4|\n",
      "|1962-02-12 00:00:00|  HPQ|    4|\n",
      "|1962-02-19 00:00:00|  HPQ|    4|\n",
      "|1962-02-08 00:00:00|  HPQ|    4|\n",
      "|1962-09-19 00:00:00|   ED|    2|\n",
      "+-------------------+-----+-----+\n",
      "only showing top 20 rows\n",
      "\n"
     ]
    }
   ],
   "source": [
    "df.groupby(['date', 'stock']) \\\n",
    "  .count() \\\n",
    "  .where('count > 1') \\\n",
    "  .sort('count', ascending=False) \\\n",
    "  .show()\n"
   ]
  },
  {
   "cell_type": "code",
   "execution_count": 31,
   "metadata": {},
   "outputs": [],
   "source": [
    "df=df.dropDuplicates(['date', 'stock'])"
   ]
  },
  {
   "cell_type": "code",
   "execution_count": 32,
   "metadata": {},
   "outputs": [
    {
     "name": "stdout",
     "output_type": "stream",
     "text": [
      "+----+-----+-----+\n",
      "|date|stock|count|\n",
      "+----+-----+-----+\n",
      "+----+-----+-----+\n",
      "\n"
     ]
    }
   ],
   "source": [
    "df.groupby(['date', 'stock']) \\\n",
    "  .count() \\\n",
    "  .where('count > 1') \\\n",
    "  .sort('count', ascending=False) \\\n",
    "  .show()"
   ]
  },
  {
   "cell_type": "markdown",
   "metadata": {},
   "source": [
    "## Validity\n",
    "Data is valid if it conforms to the syntax (format, type, range) of its definition.\n",
    "\n",
    "Certain values within a field may have specific criteria required to make it valid, e.g., numerical columns cannot contain alphabetical characters, which can occur due to scientific notation.\n",
    "\n",
    "This can be more difficult to determine in stings, in which case you may have to check using regex. \n",
    "\n",
    "- **Measured by**: Comparison between the data and metadata or documentation for the data item;\n",
    "- **Units**: Percentage of data items deemed Valid or Invalid;\n",
    "- **Related to**: Accuracy, Completeness, Consistency, and Uniqueness."
   ]
  },
  {
   "cell_type": "markdown",
   "metadata": {},
   "source": [
    "We need to first define what we expect from our dataset:\n",
    "\n",
    "- stock: string (nullable = true) => Should be contained in the list of expected tickers\n",
    "- date: date (nullable = true) => Should conform to date format, and be in the past\n",
    "- open: double (nullable = true) => Should be positive or 0\n",
    "- high: double (nullable = true) => Should be positive or 0\n",
    "- low: double (nullable = true) => Should be positive or 0 (should be < high)\n",
    "- close: double (nullable = true) => Should be positive or 0 (should be <= high )\n",
    "- adj_close: double (nullable = true) => Should be positive or 0\n",
    "- volume: integer (nullable = true) => Should be positive or 0\n",
    "- high_avg: double (nullable = true) => Derived (not needed to test)\n",
    "- high_imp: double (nullable = true) => Derived (not needed to test)\n",
    "- day_of_week: string (nullable = true) => Derived (not needed to test)\n",
    "\n",
    "*Is there any other logic that we can incorporate?*"
   ]
  },
  {
   "cell_type": "markdown",
   "metadata": {},
   "source": [
    "> ℹ️ **Instructions** ℹ️\n",
    ">\n",
    "> Use the metadata to check if all the stocks in your current dataframe are valid. In other words, make sure you have no foreign/unknown tickers in your dataframe.\n",
    ">\n",
    ">*You may use as many coding cells as necessary.*\n"
   ]
  },
  {
   "cell_type": "code",
   "execution_count": 33,
   "metadata": {},
   "outputs": [],
   "source": [
    "df = df.withColumn(\"date\", to_date(col(\"date\"), \"yyyy-MM-dd\")) \\\n",
    "       .withColumn(\"open\", col(\"open\").cast(DoubleType())) \\\n",
    "       .withColumn(\"high\", col(\"high\").cast(DoubleType())) \\\n",
    "       .withColumn(\"low\", col(\"low\").cast(DoubleType())) \\\n",
    "       .withColumn(\"close\", col(\"close\").cast(DoubleType())) \\\n",
    "       .withColumn(\"adj_close\", col(\"adj_close\").cast(DoubleType())) \\\n",
    "       .withColumn(\"volume\", col(\"volume\").cast(IntegerType())) \\\n",
    "       .withColumn(\"stock\", col(\"stock\").cast(\"string\"))\n"
   ]
  },
  {
   "cell_type": "code",
   "execution_count": 34,
   "metadata": {},
   "outputs": [
    {
     "data": {
      "text/plain": [
       "[]"
      ]
     },
     "execution_count": 34,
     "metadata": {},
     "output_type": "execute_result"
    }
   ],
   "source": [
    "#TODO: Write your code here\n",
    "list(set(df.select('stock').rdd.flatMap(lambda x: x).collect())-set(metadata.select('Symbol').rdd.flatMap(lambda x: x).collect()))"
   ]
  },
  {
   "cell_type": "markdown",
   "metadata": {},
   "source": [
    "> ℹ️ **Instructions** ℹ️\n",
    ">\n",
    ">\n",
    ">Check if the date column contains only valid dates and all dates are in the past.\n",
    ">\n",
    ">*Valid dates should already be checked in the data reading step.*"
   ]
  },
  {
   "cell_type": "code",
   "execution_count": 35,
   "metadata": {},
   "outputs": [
    {
     "name": "stdout",
     "output_type": "stream",
     "text": [
      "+----+----+----+---+-----+---------+------+-----+\n",
      "|date|open|high|low|close|adj_close|volume|stock|\n",
      "+----+----+----+---+-----+---------+------+-----+\n",
      "+----+----+----+---+-----+---------+------+-----+\n",
      "\n"
     ]
    }
   ],
   "source": [
    "df.filter((F.col('Date')).isNull()).show()"
   ]
  },
  {
   "cell_type": "code",
   "execution_count": 36,
   "metadata": {},
   "outputs": [
    {
     "name": "stdout",
     "output_type": "stream",
     "text": [
      "+----------+----------+\n",
      "| min(date)| max(date)|\n",
      "+----------+----------+\n",
      "|1962-01-02|1962-12-31|\n",
      "+----------+----------+\n",
      "\n"
     ]
    }
   ],
   "source": [
    "#TODO: Write your code here\n",
    "df.agg(F.min(\"date\"), F.max(\"date\")).show()"
   ]
  },
  {
   "cell_type": "markdown",
   "metadata": {},
   "source": [
    "> ℹ️ **Instructions** ℹ️\n",
    ">\n",
    ">Check that all of numerical columns are positive."
   ]
  },
  {
   "cell_type": "code",
   "execution_count": 37,
   "metadata": {},
   "outputs": [
    {
     "name": "stdout",
     "output_type": "stream",
     "text": [
      "Negative values in open\n",
      "+----+----+----+---+-----+---------+------+-----+\n",
      "|date|open|high|low|close|adj_close|volume|stock|\n",
      "+----+----+----+---+-----+---------+------+-----+\n",
      "+----+----+----+---+-----+---------+------+-----+\n",
      "\n",
      "Negative values in high\n",
      "+----+----+----+---+-----+---------+------+-----+\n",
      "|date|open|high|low|close|adj_close|volume|stock|\n",
      "+----+----+----+---+-----+---------+------+-----+\n",
      "+----+----+----+---+-----+---------+------+-----+\n",
      "\n",
      "Negative values in low\n",
      "+----+----+----+---+-----+---------+------+-----+\n",
      "|date|open|high|low|close|adj_close|volume|stock|\n",
      "+----+----+----+---+-----+---------+------+-----+\n",
      "+----+----+----+---+-----+---------+------+-----+\n",
      "\n",
      "Negative values in close\n",
      "+----+----+----+---+-----+---------+------+-----+\n",
      "|date|open|high|low|close|adj_close|volume|stock|\n",
      "+----+----+----+---+-----+---------+------+-----+\n",
      "+----+----+----+---+-----+---------+------+-----+\n",
      "\n",
      "Negative values in adj_close\n",
      "+----+----+----+---+-----+---------+------+-----+\n",
      "|date|open|high|low|close|adj_close|volume|stock|\n",
      "+----+----+----+---+-----+---------+------+-----+\n",
      "+----+----+----+---+-----+---------+------+-----+\n",
      "\n",
      "Negative values in volume\n",
      "+----+----+----+---+-----+---------+------+-----+\n",
      "|date|open|high|low|close|adj_close|volume|stock|\n",
      "+----+----+----+---+-----+---------+------+-----+\n",
      "+----+----+----+---+-----+---------+------+-----+\n",
      "\n"
     ]
    }
   ],
   "source": [
    "#TODO: Write your code here\n",
    "num_cols=['open','high','low','close','adj_close','volume']\n",
    "for i in num_cols:\n",
    "    print(f'Negative values in {i}')\n",
    "    df.filter(F.col(i)<0).show()"
   ]
  },
  {
   "cell_type": "markdown",
   "metadata": {},
   "source": [
    "### Save Updates\n",
    "\n",
    "With our initial work of checking the various dimensions of the data quality completed, we can now save these results to a CSV file.  "
   ]
  },
  {
   "cell_type": "code",
   "execution_count": 38,
   "metadata": {},
   "outputs": [],
   "source": [
    "pd_df = df.toPandas()"
   ]
  },
  {
   "cell_type": "code",
   "execution_count": 39,
   "metadata": {},
   "outputs": [],
   "source": [
    "pd_df.to_csv('./nelson_mwembe_data_profiling.csv')"
   ]
  },
  {
   "cell_type": "code",
   "execution_count": 40,
   "metadata": {},
   "outputs": [],
   "source": [
    "spark.stop()"
   ]
  }
 ],
 "metadata": {
  "interpreter": {
   "hash": "24a0a2ddc4dffcb168e507551dd24967ddc40ea2df7a72a200a74e0ae6d88beb"
  },
  "kernelspec": {
   "display_name": "Python 3 (ipykernel)",
   "language": "python",
   "name": "python3"
  },
  "language_info": {
   "codemirror_mode": {
    "name": "ipython",
    "version": 3
   },
   "file_extension": ".py",
   "mimetype": "text/x-python",
   "name": "python",
   "nbconvert_exporter": "python",
   "pygments_lexer": "ipython3",
   "version": "3.9.12"
  }
 },
 "nbformat": 4,
 "nbformat_minor": 2
}
